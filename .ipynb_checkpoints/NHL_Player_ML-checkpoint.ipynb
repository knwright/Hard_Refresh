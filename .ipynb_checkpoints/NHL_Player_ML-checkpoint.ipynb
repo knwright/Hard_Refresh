{
 "cells": [
  {
   "cell_type": "code",
   "execution_count": 29,
   "metadata": {},
   "outputs": [],
   "source": [
    "%matplotlib inline\n",
    "import warnings\n",
    "warnings.simplefilter(\"ignore\")\n",
    "import matplotlib.pyplot as plt\n",
    "from scipy import stats\n",
    "import numpy as np\n",
    "import pandas as pd\n",
    "import glob\n",
    "import seaborn as sns\n",
    "from sklearn.svm import SVC\n",
    "from sklearn import svm\n",
    "from sklearn.preprocessing import StandardScaler, LabelEncoder\n",
    "from sklearn.ensemble import RandomForestClassifier\n",
    "from sklearn.svm import SVC\n",
    "from sklearn.neural_network import MLPClassifier\n",
    "from sklearn.metrics import confusion_matrix, classification_report\n",
    "from sklearn.model_selection import train_test_split\n",
    "from sklearn.linear_model import LinearRegression"
   ]
  },
  {
   "cell_type": "code",
   "execution_count": 2,
   "metadata": {},
   "outputs": [
    {
     "data": {
      "text/html": [
       "<div>\n",
       "<style scoped>\n",
       "    .dataframe tbody tr th:only-of-type {\n",
       "        vertical-align: middle;\n",
       "    }\n",
       "\n",
       "    .dataframe tbody tr th {\n",
       "        vertical-align: top;\n",
       "    }\n",
       "\n",
       "    .dataframe thead th {\n",
       "        text-align: right;\n",
       "    }\n",
       "</style>\n",
       "<table border=\"1\" class=\"dataframe\">\n",
       "  <thead>\n",
       "    <tr style=\"text-align: right;\">\n",
       "      <th></th>\n",
       "      <th>Player</th>\n",
       "      <th>Age</th>\n",
       "      <th>Tm</th>\n",
       "      <th>Pos</th>\n",
       "      <th>GP</th>\n",
       "      <th>G</th>\n",
       "      <th>A</th>\n",
       "      <th>PTS</th>\n",
       "      <th>+/-</th>\n",
       "      <th>PIM</th>\n",
       "      <th>...</th>\n",
       "      <th>EV.1</th>\n",
       "      <th>PP.1</th>\n",
       "      <th>SH.1</th>\n",
       "      <th>S</th>\n",
       "      <th>TOI</th>\n",
       "      <th>ATOI</th>\n",
       "      <th>BLK</th>\n",
       "      <th>HIT</th>\n",
       "      <th>FOW</th>\n",
       "      <th>FOL</th>\n",
       "    </tr>\n",
       "  </thead>\n",
       "  <tbody>\n",
       "    <tr>\n",
       "      <th>0</th>\n",
       "      <td>Justin Abdelkader\\abdelju01</td>\n",
       "      <td>20</td>\n",
       "      <td>DET</td>\n",
       "      <td>LW</td>\n",
       "      <td>2</td>\n",
       "      <td>0</td>\n",
       "      <td>0</td>\n",
       "      <td>0</td>\n",
       "      <td>0</td>\n",
       "      <td>2</td>\n",
       "      <td>...</td>\n",
       "      <td>0</td>\n",
       "      <td>0</td>\n",
       "      <td>0</td>\n",
       "      <td>6</td>\n",
       "      <td>24</td>\n",
       "      <td>12:13</td>\n",
       "      <td>0.0</td>\n",
       "      <td>5</td>\n",
       "      <td>5.0</td>\n",
       "      <td>7.0</td>\n",
       "    </tr>\n",
       "    <tr>\n",
       "      <th>1</th>\n",
       "      <td>Craig Adams\\adamscr01</td>\n",
       "      <td>30</td>\n",
       "      <td>TOT</td>\n",
       "      <td>RW</td>\n",
       "      <td>75</td>\n",
       "      <td>4</td>\n",
       "      <td>7</td>\n",
       "      <td>11</td>\n",
       "      <td>-16</td>\n",
       "      <td>58</td>\n",
       "      <td>...</td>\n",
       "      <td>7</td>\n",
       "      <td>0</td>\n",
       "      <td>0</td>\n",
       "      <td>63</td>\n",
       "      <td>810</td>\n",
       "      <td>10:48</td>\n",
       "      <td>43.0</td>\n",
       "      <td>117</td>\n",
       "      <td>19.0</td>\n",
       "      <td>22.0</td>\n",
       "    </tr>\n",
       "    <tr>\n",
       "      <th>2</th>\n",
       "      <td>Kevyn Adams\\adamske01</td>\n",
       "      <td>33</td>\n",
       "      <td>CHI</td>\n",
       "      <td>C</td>\n",
       "      <td>27</td>\n",
       "      <td>0</td>\n",
       "      <td>2</td>\n",
       "      <td>2</td>\n",
       "      <td>-7</td>\n",
       "      <td>13</td>\n",
       "      <td>...</td>\n",
       "      <td>0</td>\n",
       "      <td>0</td>\n",
       "      <td>2</td>\n",
       "      <td>32</td>\n",
       "      <td>295</td>\n",
       "      <td>10:56</td>\n",
       "      <td>11.0</td>\n",
       "      <td>13</td>\n",
       "      <td>103.0</td>\n",
       "      <td>104.0</td>\n",
       "    </tr>\n",
       "    <tr>\n",
       "      <th>3</th>\n",
       "      <td>Maxim Afinogenov\\afinoma01</td>\n",
       "      <td>28</td>\n",
       "      <td>BUF</td>\n",
       "      <td>RW</td>\n",
       "      <td>56</td>\n",
       "      <td>10</td>\n",
       "      <td>18</td>\n",
       "      <td>28</td>\n",
       "      <td>-16</td>\n",
       "      <td>42</td>\n",
       "      <td>...</td>\n",
       "      <td>13</td>\n",
       "      <td>5</td>\n",
       "      <td>0</td>\n",
       "      <td>114</td>\n",
       "      <td>899</td>\n",
       "      <td>16:03</td>\n",
       "      <td>6.0</td>\n",
       "      <td>25</td>\n",
       "      <td>1.0</td>\n",
       "      <td>4.0</td>\n",
       "    </tr>\n",
       "    <tr>\n",
       "      <th>4</th>\n",
       "      <td>Andrew Alberts\\alberan01</td>\n",
       "      <td>26</td>\n",
       "      <td>BOS</td>\n",
       "      <td>D</td>\n",
       "      <td>35</td>\n",
       "      <td>0</td>\n",
       "      <td>2</td>\n",
       "      <td>2</td>\n",
       "      <td>4</td>\n",
       "      <td>39</td>\n",
       "      <td>...</td>\n",
       "      <td>2</td>\n",
       "      <td>0</td>\n",
       "      <td>0</td>\n",
       "      <td>25</td>\n",
       "      <td>722</td>\n",
       "      <td>20:37</td>\n",
       "      <td>52.0</td>\n",
       "      <td>53</td>\n",
       "      <td>1.0</td>\n",
       "      <td>1.0</td>\n",
       "    </tr>\n",
       "  </tbody>\n",
       "</table>\n",
       "<p>5 rows × 25 columns</p>\n",
       "</div>"
      ],
      "text/plain": [
       "                        Player  Age   Tm Pos  GP   G   A  PTS  +/-  PIM  \\\n",
       "0  Justin Abdelkader\\abdelju01   20  DET  LW   2   0   0    0    0    2   \n",
       "1        Craig Adams\\adamscr01   30  TOT  RW  75   4   7   11  -16   58   \n",
       "2        Kevyn Adams\\adamske01   33  CHI   C  27   0   2    2   -7   13   \n",
       "3   Maxim Afinogenov\\afinoma01   28  BUF  RW  56  10  18   28  -16   42   \n",
       "4     Andrew Alberts\\alberan01   26  BOS   D  35   0   2    2    4   39   \n",
       "\n",
       "   ...    EV.1  PP.1  SH.1    S  TOI   ATOI   BLK  HIT    FOW    FOL  \n",
       "0  ...       0     0     0    6   24  12:13   0.0    5    5.0    7.0  \n",
       "1  ...       7     0     0   63  810  10:48  43.0  117   19.0   22.0  \n",
       "2  ...       0     0     2   32  295  10:56  11.0   13  103.0  104.0  \n",
       "3  ...      13     5     0  114  899  16:03   6.0   25    1.0    4.0  \n",
       "4  ...       2     0     0   25  722  20:37  52.0   53    1.0    1.0  \n",
       "\n",
       "[5 rows x 25 columns]"
      ]
     },
     "execution_count": 2,
     "metadata": {},
     "output_type": "execute_result"
    }
   ],
   "source": [
    "# Read the csv file into a pandas DataFrame\n",
    "player = pd.concat([pd.read_csv(f) for f in glob.glob('player_data/*.csv')], \n",
    "                             ignore_index = True)\n",
    "\n",
    "player.head()"
   ]
  },
  {
   "cell_type": "code",
   "execution_count": 3,
   "metadata": {},
   "outputs": [
    {
     "data": {
      "text/html": [
       "<div>\n",
       "<style scoped>\n",
       "    .dataframe tbody tr th:only-of-type {\n",
       "        vertical-align: middle;\n",
       "    }\n",
       "\n",
       "    .dataframe tbody tr th {\n",
       "        vertical-align: top;\n",
       "    }\n",
       "\n",
       "    .dataframe thead th {\n",
       "        text-align: right;\n",
       "    }\n",
       "</style>\n",
       "<table border=\"1\" class=\"dataframe\">\n",
       "  <thead>\n",
       "    <tr style=\"text-align: right;\">\n",
       "      <th></th>\n",
       "      <th>Age</th>\n",
       "      <th>GP</th>\n",
       "      <th>G</th>\n",
       "      <th>A</th>\n",
       "      <th>PTS</th>\n",
       "      <th>+/-</th>\n",
       "      <th>PIM</th>\n",
       "      <th>PS</th>\n",
       "      <th>EV</th>\n",
       "      <th>PP</th>\n",
       "      <th>...</th>\n",
       "      <th>GW</th>\n",
       "      <th>EV.1</th>\n",
       "      <th>PP.1</th>\n",
       "      <th>SH.1</th>\n",
       "      <th>S</th>\n",
       "      <th>TOI</th>\n",
       "      <th>BLK</th>\n",
       "      <th>HIT</th>\n",
       "      <th>FOW</th>\n",
       "      <th>FOL</th>\n",
       "    </tr>\n",
       "  </thead>\n",
       "  <tbody>\n",
       "    <tr>\n",
       "      <th>0</th>\n",
       "      <td>20</td>\n",
       "      <td>2</td>\n",
       "      <td>0</td>\n",
       "      <td>0</td>\n",
       "      <td>0</td>\n",
       "      <td>0</td>\n",
       "      <td>2</td>\n",
       "      <td>0.0</td>\n",
       "      <td>0</td>\n",
       "      <td>0</td>\n",
       "      <td>...</td>\n",
       "      <td>0</td>\n",
       "      <td>0</td>\n",
       "      <td>0</td>\n",
       "      <td>0</td>\n",
       "      <td>6</td>\n",
       "      <td>24</td>\n",
       "      <td>0.0</td>\n",
       "      <td>5</td>\n",
       "      <td>5.0</td>\n",
       "      <td>7.0</td>\n",
       "    </tr>\n",
       "    <tr>\n",
       "      <th>1</th>\n",
       "      <td>30</td>\n",
       "      <td>75</td>\n",
       "      <td>4</td>\n",
       "      <td>7</td>\n",
       "      <td>11</td>\n",
       "      <td>-16</td>\n",
       "      <td>58</td>\n",
       "      <td>-0.6</td>\n",
       "      <td>3</td>\n",
       "      <td>0</td>\n",
       "      <td>...</td>\n",
       "      <td>1</td>\n",
       "      <td>7</td>\n",
       "      <td>0</td>\n",
       "      <td>0</td>\n",
       "      <td>63</td>\n",
       "      <td>810</td>\n",
       "      <td>43.0</td>\n",
       "      <td>117</td>\n",
       "      <td>19.0</td>\n",
       "      <td>22.0</td>\n",
       "    </tr>\n",
       "    <tr>\n",
       "      <th>2</th>\n",
       "      <td>33</td>\n",
       "      <td>27</td>\n",
       "      <td>0</td>\n",
       "      <td>2</td>\n",
       "      <td>2</td>\n",
       "      <td>-7</td>\n",
       "      <td>13</td>\n",
       "      <td>-0.6</td>\n",
       "      <td>0</td>\n",
       "      <td>0</td>\n",
       "      <td>...</td>\n",
       "      <td>0</td>\n",
       "      <td>0</td>\n",
       "      <td>0</td>\n",
       "      <td>2</td>\n",
       "      <td>32</td>\n",
       "      <td>295</td>\n",
       "      <td>11.0</td>\n",
       "      <td>13</td>\n",
       "      <td>103.0</td>\n",
       "      <td>104.0</td>\n",
       "    </tr>\n",
       "    <tr>\n",
       "      <th>3</th>\n",
       "      <td>28</td>\n",
       "      <td>56</td>\n",
       "      <td>10</td>\n",
       "      <td>18</td>\n",
       "      <td>28</td>\n",
       "      <td>-16</td>\n",
       "      <td>42</td>\n",
       "      <td>1.6</td>\n",
       "      <td>9</td>\n",
       "      <td>1</td>\n",
       "      <td>...</td>\n",
       "      <td>1</td>\n",
       "      <td>13</td>\n",
       "      <td>5</td>\n",
       "      <td>0</td>\n",
       "      <td>114</td>\n",
       "      <td>899</td>\n",
       "      <td>6.0</td>\n",
       "      <td>25</td>\n",
       "      <td>1.0</td>\n",
       "      <td>4.0</td>\n",
       "    </tr>\n",
       "    <tr>\n",
       "      <th>4</th>\n",
       "      <td>26</td>\n",
       "      <td>35</td>\n",
       "      <td>0</td>\n",
       "      <td>2</td>\n",
       "      <td>2</td>\n",
       "      <td>4</td>\n",
       "      <td>39</td>\n",
       "      <td>1.2</td>\n",
       "      <td>0</td>\n",
       "      <td>0</td>\n",
       "      <td>...</td>\n",
       "      <td>0</td>\n",
       "      <td>2</td>\n",
       "      <td>0</td>\n",
       "      <td>0</td>\n",
       "      <td>25</td>\n",
       "      <td>722</td>\n",
       "      <td>52.0</td>\n",
       "      <td>53</td>\n",
       "      <td>1.0</td>\n",
       "      <td>1.0</td>\n",
       "    </tr>\n",
       "  </tbody>\n",
       "</table>\n",
       "<p>5 rows × 21 columns</p>\n",
       "</div>"
      ],
      "text/plain": [
       "   Age  GP   G   A  PTS  +/-  PIM   PS  EV  PP  ...    GW  EV.1  PP.1  SH.1  \\\n",
       "0   20   2   0   0    0    0    2  0.0   0   0  ...     0     0     0     0   \n",
       "1   30  75   4   7   11  -16   58 -0.6   3   0  ...     1     7     0     0   \n",
       "2   33  27   0   2    2   -7   13 -0.6   0   0  ...     0     0     0     2   \n",
       "3   28  56  10  18   28  -16   42  1.6   9   1  ...     1    13     5     0   \n",
       "4   26  35   0   2    2    4   39  1.2   0   0  ...     0     2     0     0   \n",
       "\n",
       "     S  TOI   BLK  HIT    FOW    FOL  \n",
       "0    6   24   0.0    5    5.0    7.0  \n",
       "1   63  810  43.0  117   19.0   22.0  \n",
       "2   32  295  11.0   13  103.0  104.0  \n",
       "3  114  899   6.0   25    1.0    4.0  \n",
       "4   25  722  52.0   53    1.0    1.0  \n",
       "\n",
       "[5 rows x 21 columns]"
      ]
     },
     "execution_count": 3,
     "metadata": {},
     "output_type": "execute_result"
    }
   ],
   "source": [
    "# Drop non numerical columns\n",
    "cleandf = player.drop(columns = ['Player', 'Tm', 'Pos', 'ATOI'])\n",
    "cleandf.head()"
   ]
  },
  {
   "cell_type": "code",
   "execution_count": 4,
   "metadata": {},
   "outputs": [
    {
     "data": {
      "text/plain": [
       "count    8845.000000\n",
       "mean       20.672018\n",
       "std        20.800314\n",
       "min         0.000000\n",
       "25%         3.000000\n",
       "50%        14.000000\n",
       "75%        33.000000\n",
       "max       113.000000\n",
       "Name: PTS, dtype: float64"
      ]
     },
     "execution_count": 4,
     "metadata": {},
     "output_type": "execute_result"
    }
   ],
   "source": [
    "# Determine max of points column\n",
    "cleandf['PTS'].describe()"
   ]
  },
  {
   "cell_type": "code",
   "execution_count": 5,
   "metadata": {},
   "outputs": [],
   "source": [
    "# Replace NAN values with the mean\n",
    "cleandf.fillna(cleandf.mean(), inplace=True)"
   ]
  },
  {
   "cell_type": "code",
   "execution_count": 6,
   "metadata": {},
   "outputs": [
    {
     "data": {
      "text/plain": [
       "[no_playoffs, playoffs]\n",
       "Categories (2, object): [no_playoffs < playoffs]"
      ]
     },
     "execution_count": 6,
     "metadata": {},
     "output_type": "execute_result"
    }
   ],
   "source": [
    "# Preprocessing the data\n",
    "bins = (-1, 34.5, 113)\n",
    "group_names = ['no_playoffs', 'playoffs']\n",
    "cleandf['PTS'] = pd.cut(cleandf['PTS'], bins = bins, labels = group_names)\n",
    "cleandf['PTS'].unique()"
   ]
  },
  {
   "cell_type": "code",
   "execution_count": 7,
   "metadata": {},
   "outputs": [],
   "source": [
    "label_quality = LabelEncoder()"
   ]
  },
  {
   "cell_type": "code",
   "execution_count": 8,
   "metadata": {},
   "outputs": [
    {
     "data": {
      "text/html": [
       "<div>\n",
       "<style scoped>\n",
       "    .dataframe tbody tr th:only-of-type {\n",
       "        vertical-align: middle;\n",
       "    }\n",
       "\n",
       "    .dataframe tbody tr th {\n",
       "        vertical-align: top;\n",
       "    }\n",
       "\n",
       "    .dataframe thead th {\n",
       "        text-align: right;\n",
       "    }\n",
       "</style>\n",
       "<table border=\"1\" class=\"dataframe\">\n",
       "  <thead>\n",
       "    <tr style=\"text-align: right;\">\n",
       "      <th></th>\n",
       "      <th>Age</th>\n",
       "      <th>GP</th>\n",
       "      <th>G</th>\n",
       "      <th>A</th>\n",
       "      <th>PTS</th>\n",
       "      <th>+/-</th>\n",
       "      <th>PIM</th>\n",
       "      <th>PS</th>\n",
       "      <th>EV</th>\n",
       "      <th>PP</th>\n",
       "      <th>...</th>\n",
       "      <th>GW</th>\n",
       "      <th>EV.1</th>\n",
       "      <th>PP.1</th>\n",
       "      <th>SH.1</th>\n",
       "      <th>S</th>\n",
       "      <th>TOI</th>\n",
       "      <th>BLK</th>\n",
       "      <th>HIT</th>\n",
       "      <th>FOW</th>\n",
       "      <th>FOL</th>\n",
       "    </tr>\n",
       "  </thead>\n",
       "  <tbody>\n",
       "    <tr>\n",
       "      <th>0</th>\n",
       "      <td>20</td>\n",
       "      <td>2</td>\n",
       "      <td>0</td>\n",
       "      <td>0</td>\n",
       "      <td>0</td>\n",
       "      <td>0</td>\n",
       "      <td>2</td>\n",
       "      <td>0.0</td>\n",
       "      <td>0</td>\n",
       "      <td>0</td>\n",
       "      <td>...</td>\n",
       "      <td>0</td>\n",
       "      <td>0</td>\n",
       "      <td>0</td>\n",
       "      <td>0</td>\n",
       "      <td>6</td>\n",
       "      <td>24</td>\n",
       "      <td>0.0</td>\n",
       "      <td>5</td>\n",
       "      <td>5.0</td>\n",
       "      <td>7.0</td>\n",
       "    </tr>\n",
       "    <tr>\n",
       "      <th>1</th>\n",
       "      <td>30</td>\n",
       "      <td>75</td>\n",
       "      <td>4</td>\n",
       "      <td>7</td>\n",
       "      <td>0</td>\n",
       "      <td>-16</td>\n",
       "      <td>58</td>\n",
       "      <td>-0.6</td>\n",
       "      <td>3</td>\n",
       "      <td>0</td>\n",
       "      <td>...</td>\n",
       "      <td>1</td>\n",
       "      <td>7</td>\n",
       "      <td>0</td>\n",
       "      <td>0</td>\n",
       "      <td>63</td>\n",
       "      <td>810</td>\n",
       "      <td>43.0</td>\n",
       "      <td>117</td>\n",
       "      <td>19.0</td>\n",
       "      <td>22.0</td>\n",
       "    </tr>\n",
       "    <tr>\n",
       "      <th>2</th>\n",
       "      <td>33</td>\n",
       "      <td>27</td>\n",
       "      <td>0</td>\n",
       "      <td>2</td>\n",
       "      <td>0</td>\n",
       "      <td>-7</td>\n",
       "      <td>13</td>\n",
       "      <td>-0.6</td>\n",
       "      <td>0</td>\n",
       "      <td>0</td>\n",
       "      <td>...</td>\n",
       "      <td>0</td>\n",
       "      <td>0</td>\n",
       "      <td>0</td>\n",
       "      <td>2</td>\n",
       "      <td>32</td>\n",
       "      <td>295</td>\n",
       "      <td>11.0</td>\n",
       "      <td>13</td>\n",
       "      <td>103.0</td>\n",
       "      <td>104.0</td>\n",
       "    </tr>\n",
       "    <tr>\n",
       "      <th>3</th>\n",
       "      <td>28</td>\n",
       "      <td>56</td>\n",
       "      <td>10</td>\n",
       "      <td>18</td>\n",
       "      <td>0</td>\n",
       "      <td>-16</td>\n",
       "      <td>42</td>\n",
       "      <td>1.6</td>\n",
       "      <td>9</td>\n",
       "      <td>1</td>\n",
       "      <td>...</td>\n",
       "      <td>1</td>\n",
       "      <td>13</td>\n",
       "      <td>5</td>\n",
       "      <td>0</td>\n",
       "      <td>114</td>\n",
       "      <td>899</td>\n",
       "      <td>6.0</td>\n",
       "      <td>25</td>\n",
       "      <td>1.0</td>\n",
       "      <td>4.0</td>\n",
       "    </tr>\n",
       "    <tr>\n",
       "      <th>4</th>\n",
       "      <td>26</td>\n",
       "      <td>35</td>\n",
       "      <td>0</td>\n",
       "      <td>2</td>\n",
       "      <td>0</td>\n",
       "      <td>4</td>\n",
       "      <td>39</td>\n",
       "      <td>1.2</td>\n",
       "      <td>0</td>\n",
       "      <td>0</td>\n",
       "      <td>...</td>\n",
       "      <td>0</td>\n",
       "      <td>2</td>\n",
       "      <td>0</td>\n",
       "      <td>0</td>\n",
       "      <td>25</td>\n",
       "      <td>722</td>\n",
       "      <td>52.0</td>\n",
       "      <td>53</td>\n",
       "      <td>1.0</td>\n",
       "      <td>1.0</td>\n",
       "    </tr>\n",
       "  </tbody>\n",
       "</table>\n",
       "<p>5 rows × 21 columns</p>\n",
       "</div>"
      ],
      "text/plain": [
       "   Age  GP   G   A  PTS  +/-  PIM   PS  EV  PP  ...    GW  EV.1  PP.1  SH.1  \\\n",
       "0   20   2   0   0    0    0    2  0.0   0   0  ...     0     0     0     0   \n",
       "1   30  75   4   7    0  -16   58 -0.6   3   0  ...     1     7     0     0   \n",
       "2   33  27   0   2    0   -7   13 -0.6   0   0  ...     0     0     0     2   \n",
       "3   28  56  10  18    0  -16   42  1.6   9   1  ...     1    13     5     0   \n",
       "4   26  35   0   2    0    4   39  1.2   0   0  ...     0     2     0     0   \n",
       "\n",
       "     S  TOI   BLK  HIT    FOW    FOL  \n",
       "0    6   24   0.0    5    5.0    7.0  \n",
       "1   63  810  43.0  117   19.0   22.0  \n",
       "2   32  295  11.0   13  103.0  104.0  \n",
       "3  114  899   6.0   25    1.0    4.0  \n",
       "4   25  722  52.0   53    1.0    1.0  \n",
       "\n",
       "[5 rows x 21 columns]"
      ]
     },
     "execution_count": 8,
     "metadata": {},
     "output_type": "execute_result"
    }
   ],
   "source": [
    "cleandf['PTS'] = label_quality.fit_transform(cleandf['PTS'])\n",
    "cleandf.head(5)"
   ]
  },
  {
   "cell_type": "code",
   "execution_count": 9,
   "metadata": {},
   "outputs": [
    {
     "data": {
      "text/plain": [
       "0    6778\n",
       "1    2067\n",
       "Name: PTS, dtype: int64"
      ]
     },
     "execution_count": 9,
     "metadata": {},
     "output_type": "execute_result"
    }
   ],
   "source": [
    "cleandf['PTS'].value_counts()"
   ]
  },
  {
   "cell_type": "code",
   "execution_count": 10,
   "metadata": {},
   "outputs": [
    {
     "data": {
      "text/plain": [
       "<matplotlib.axes._subplots.AxesSubplot at 0x18bef3c5eb8>"
      ]
     },
     "execution_count": 10,
     "metadata": {},
     "output_type": "execute_result"
    },
    {
     "data": {
      "image/png": "[encoded data removed]",
      "text/plain": [
       "<Figure size 432x288 with 1 Axes>"
      ]
     },
     "metadata": {
      "needs_background": "light"
     },
     "output_type": "display_data"
    }
   ],
   "source": [
    "sns.countplot(cleandf['PTS'])"
   ]
  },
  {
   "cell_type": "code",
   "execution_count": 11,
   "metadata": {},
   "outputs": [],
   "source": [
    "# Assign the data to X and y, x predicts y\n",
    "X = cleandf.drop('PTS', axis = 1)\n",
    "y = cleandf[\"PTS\"]"
   ]
  },
  {
   "cell_type": "code",
   "execution_count": 12,
   "metadata": {},
   "outputs": [],
   "source": [
    "# Create training and testing data\n",
    "X_train, X_test, y_train, y_test = train_test_split(X, y, test_size=0.3, random_state=42)"
   ]
  },
  {
   "cell_type": "code",
   "execution_count": 13,
   "metadata": {},
   "outputs": [
    {
     "name": "stderr",
     "output_type": "stream",
     "text": [
      "C:\\Users\\ravin\\Anaconda3\\lib\\site-packages\\sklearn\\preprocessing\\data.py:625: DataConversionWarning: Data with input dtype int64, float64 were all converted to float64 by StandardScaler.\n",
      "  return self.partial_fit(X, y)\n",
      "C:\\Users\\ravin\\Anaconda3\\lib\\site-packages\\sklearn\\base.py:462: DataConversionWarning: Data with input dtype int64, float64 were all converted to float64 by StandardScaler.\n",
      "  return self.fit(X, **fit_params).transform(X)\n",
      "C:\\Users\\ravin\\Anaconda3\\lib\\site-packages\\ipykernel_launcher.py:4: DataConversionWarning: Data with input dtype int64, float64 were all converted to float64 by StandardScaler.\n",
      "  after removing the cwd from sys.path.\n"
     ]
    }
   ],
   "source": [
    "# Applying standard scaling to get optimized result\n",
    "sc = StandardScaler()\n",
    "X_train = sc.fit_transform(X_train)\n",
    "X_test = sc.transform(X_test)"
   ]
  },
  {
   "cell_type": "code",
   "execution_count": 14,
   "metadata": {},
   "outputs": [
    {
     "data": {
      "text/plain": [
       "7760    0\n",
       "6566    1\n",
       "7918    0\n",
       "1539    0\n",
       "6961    0\n",
       "1211    1\n",
       "7293    0\n",
       "7922    0\n",
       "672     0\n",
       "6198    0\n",
       "4995    0\n",
       "7277    0\n",
       "2716    0\n",
       "4974    0\n",
       "7530    0\n",
       "1464    0\n",
       "4921    0\n",
       "7406    0\n",
       "1192    0\n",
       "2794    0\n",
       "2264    0\n",
       "421     1\n",
       "505     0\n",
       "8519    1\n",
       "2623    0\n",
       "1582    1\n",
       "506     0\n",
       "6844    0\n",
       "2405    0\n",
       "6215    0\n",
       "       ..\n",
       "4658    0\n",
       "3005    1\n",
       "2734    1\n",
       "189     0\n",
       "2747    1\n",
       "2047    0\n",
       "7849    0\n",
       "2558    0\n",
       "8666    0\n",
       "6396    0\n",
       "3385    0\n",
       "4555    0\n",
       "1184    0\n",
       "6420    0\n",
       "5051    0\n",
       "5311    1\n",
       "2433    0\n",
       "6949    1\n",
       "769     0\n",
       "1685    0\n",
       "8322    0\n",
       "5578    0\n",
       "4426    1\n",
       "466     0\n",
       "6265    0\n",
       "5734    0\n",
       "5191    0\n",
       "5390    0\n",
       "860     1\n",
       "7270    1\n",
       "Name: PTS, Length: 6191, dtype: int32"
      ]
     },
     "execution_count": 14,
     "metadata": {},
     "output_type": "execute_result"
    }
   ],
   "source": [
    "X_train[:10]\n",
    "y_train"
   ]
  },
  {
   "cell_type": "code",
   "execution_count": 15,
   "metadata": {},
   "outputs": [],
   "source": [
    "rfc = RandomForestClassifier(n_estimators=200)\n",
    "rfc.fit(X_train, y_train)\n",
    "pred_rfc = rfc.predict(X_test)"
   ]
  },
  {
   "cell_type": "code",
   "execution_count": 16,
   "metadata": {},
   "outputs": [
    {
     "name": "stdout",
     "output_type": "stream",
     "text": [
      "              precision    recall  f1-score   support\n",
      "\n",
      "           0       0.99      0.99      0.99      2040\n",
      "           1       0.98      0.98      0.98       614\n",
      "\n",
      "   micro avg       0.99      0.99      0.99      2654\n",
      "   macro avg       0.99      0.99      0.99      2654\n",
      "weighted avg       0.99      0.99      0.99      2654\n",
      "\n",
      "[[2028   12]\n",
      " [  11  603]]\n"
     ]
    }
   ],
   "source": [
    "# See how well the model performed\n",
    "print(classification_report(y_test, pred_rfc))\n",
    "print(confusion_matrix(y_test, pred_rfc))"
   ]
  },
  {
   "cell_type": "code",
   "execution_count": 17,
   "metadata": {},
   "outputs": [
    {
     "data": {
      "text/plain": [
       "0.9913338357196684"
      ]
     },
     "execution_count": 17,
     "metadata": {},
     "output_type": "execute_result"
    }
   ],
   "source": [
    "# Random Forest Accuracy Score\n",
    "from sklearn.metrics import accuracy_score\n",
    "cm = accuracy_score(y_test, pred_rfc)\n",
    "cm"
   ]
  },
  {
   "cell_type": "markdown",
   "metadata": {},
   "source": [
    "# SVM (Support Vector Machine) Classifier"
   ]
  },
  {
   "cell_type": "code",
   "execution_count": 18,
   "metadata": {},
   "outputs": [],
   "source": [
    "from sklearn.svm import SVC\n",
    "from sklearn import svm\n",
    "\n",
    "# Create SVM model\n",
    "\n",
    "clf=svm.SVC()\n",
    "clf.fit(X_train, y_train)\n",
    "pred_clf = clf.predict(X_test)"
   ]
  },
  {
   "cell_type": "code",
   "execution_count": 19,
   "metadata": {},
   "outputs": [
    {
     "name": "stdout",
     "output_type": "stream",
     "text": [
      "              precision    recall  f1-score   support\n",
      "\n",
      "           0       0.99      0.99      0.99      2040\n",
      "           1       0.98      0.97      0.98       614\n",
      "\n",
      "   micro avg       0.99      0.99      0.99      2654\n",
      "   macro avg       0.98      0.98      0.98      2654\n",
      "weighted avg       0.99      0.99      0.99      2654\n",
      "\n",
      "[[2026   14]\n",
      " [  16  598]]\n"
     ]
    }
   ],
   "source": [
    "# See how well the model performed\n",
    "\n",
    "print(classification_report(y_test, pred_clf))\n",
    "print(confusion_matrix(y_test, pred_clf))\n"
   ]
  },
  {
   "cell_type": "code",
   "execution_count": 20,
   "metadata": {},
   "outputs": [
    {
     "data": {
      "text/plain": [
       "0.9886963074604371"
      ]
     },
     "execution_count": 20,
     "metadata": {},
     "output_type": "execute_result"
    }
   ],
   "source": [
    "# SVM Accuracy Score\n",
    "\n",
    "svm = accuracy_score(y_test, pred_clf)\n",
    "svm"
   ]
  },
  {
   "cell_type": "markdown",
   "metadata": {},
   "source": [
    "# Neural Network"
   ]
  },
  {
   "cell_type": "code",
   "execution_count": 21,
   "metadata": {},
   "outputs": [],
   "source": [
    "# Use MLPClassifier to create neural network model\n",
    "\n",
    "mlpc = MLPClassifier(hidden_layer_sizes=(11,11,11), max_iter=500)\n",
    "mlpc.fit(X_train, y_train)\n",
    "pred_mlpc = mlpc.predict(X_test)"
   ]
  },
  {
   "cell_type": "code",
   "execution_count": 22,
   "metadata": {},
   "outputs": [
    {
     "name": "stdout",
     "output_type": "stream",
     "text": [
      "              precision    recall  f1-score   support\n",
      "\n",
      "           0       1.00      1.00      1.00      2040\n",
      "           1       1.00      0.99      0.99       614\n",
      "\n",
      "   micro avg       1.00      1.00      1.00      2654\n",
      "   macro avg       1.00      0.99      0.99      2654\n",
      "weighted avg       1.00      1.00      1.00      2654\n",
      "\n",
      "[[2037    3]\n",
      " [   7  607]]\n"
     ]
    }
   ],
   "source": [
    "# See how well the model performed\n",
    "\n",
    "print(classification_report(y_test, pred_mlpc))\n",
    "print(confusion_matrix(y_test, pred_mlpc))"
   ]
  },
  {
   "cell_type": "code",
   "execution_count": 23,
   "metadata": {},
   "outputs": [
    {
     "data": {
      "text/plain": [
       "0.9962321024868124"
      ]
     },
     "execution_count": 23,
     "metadata": {},
     "output_type": "execute_result"
    }
   ],
   "source": [
    "# Neural Network Accuracy Score\n",
    "\n",
    "nn = accuracy_score(y_test, pred_mlpc)\n",
    "nn"
   ]
  },
  {
   "cell_type": "markdown",
   "metadata": {},
   "source": [
    "# Linear Regression"
   ]
  },
  {
   "cell_type": "code",
   "execution_count": 152,
   "metadata": {},
   "outputs": [
    {
     "data": {
      "text/html": [
       "<div>\n",
       "<style scoped>\n",
       "    .dataframe tbody tr th:only-of-type {\n",
       "        vertical-align: middle;\n",
       "    }\n",
       "\n",
       "    .dataframe tbody tr th {\n",
       "        vertical-align: top;\n",
       "    }\n",
       "\n",
       "    .dataframe thead th {\n",
       "        text-align: right;\n",
       "    }\n",
       "</style>\n",
       "<table border=\"1\" class=\"dataframe\">\n",
       "  <thead>\n",
       "    <tr style=\"text-align: right;\">\n",
       "      <th></th>\n",
       "      <th>Age</th>\n",
       "      <th>GP</th>\n",
       "      <th>G</th>\n",
       "      <th>A</th>\n",
       "      <th>PTS</th>\n",
       "      <th>+/-</th>\n",
       "      <th>PIM</th>\n",
       "      <th>PS</th>\n",
       "      <th>EV</th>\n",
       "      <th>PP</th>\n",
       "      <th>...</th>\n",
       "      <th>GW</th>\n",
       "      <th>EV.1</th>\n",
       "      <th>PP.1</th>\n",
       "      <th>SH.1</th>\n",
       "      <th>S</th>\n",
       "      <th>TOI</th>\n",
       "      <th>BLK</th>\n",
       "      <th>HIT</th>\n",
       "      <th>FOW</th>\n",
       "      <th>FOL</th>\n",
       "    </tr>\n",
       "  </thead>\n",
       "  <tbody>\n",
       "    <tr>\n",
       "      <th>0</th>\n",
       "      <td>20</td>\n",
       "      <td>2</td>\n",
       "      <td>0</td>\n",
       "      <td>0</td>\n",
       "      <td>0</td>\n",
       "      <td>0</td>\n",
       "      <td>2</td>\n",
       "      <td>0.0</td>\n",
       "      <td>0</td>\n",
       "      <td>0</td>\n",
       "      <td>...</td>\n",
       "      <td>0</td>\n",
       "      <td>0</td>\n",
       "      <td>0</td>\n",
       "      <td>0</td>\n",
       "      <td>6</td>\n",
       "      <td>24</td>\n",
       "      <td>0.0</td>\n",
       "      <td>5</td>\n",
       "      <td>5.0</td>\n",
       "      <td>7.0</td>\n",
       "    </tr>\n",
       "    <tr>\n",
       "      <th>1</th>\n",
       "      <td>30</td>\n",
       "      <td>75</td>\n",
       "      <td>4</td>\n",
       "      <td>7</td>\n",
       "      <td>11</td>\n",
       "      <td>-16</td>\n",
       "      <td>58</td>\n",
       "      <td>-0.6</td>\n",
       "      <td>3</td>\n",
       "      <td>0</td>\n",
       "      <td>...</td>\n",
       "      <td>1</td>\n",
       "      <td>7</td>\n",
       "      <td>0</td>\n",
       "      <td>0</td>\n",
       "      <td>63</td>\n",
       "      <td>810</td>\n",
       "      <td>43.0</td>\n",
       "      <td>117</td>\n",
       "      <td>19.0</td>\n",
       "      <td>22.0</td>\n",
       "    </tr>\n",
       "    <tr>\n",
       "      <th>2</th>\n",
       "      <td>33</td>\n",
       "      <td>27</td>\n",
       "      <td>0</td>\n",
       "      <td>2</td>\n",
       "      <td>2</td>\n",
       "      <td>-7</td>\n",
       "      <td>13</td>\n",
       "      <td>-0.6</td>\n",
       "      <td>0</td>\n",
       "      <td>0</td>\n",
       "      <td>...</td>\n",
       "      <td>0</td>\n",
       "      <td>0</td>\n",
       "      <td>0</td>\n",
       "      <td>2</td>\n",
       "      <td>32</td>\n",
       "      <td>295</td>\n",
       "      <td>11.0</td>\n",
       "      <td>13</td>\n",
       "      <td>103.0</td>\n",
       "      <td>104.0</td>\n",
       "    </tr>\n",
       "    <tr>\n",
       "      <th>3</th>\n",
       "      <td>28</td>\n",
       "      <td>56</td>\n",
       "      <td>10</td>\n",
       "      <td>18</td>\n",
       "      <td>28</td>\n",
       "      <td>-16</td>\n",
       "      <td>42</td>\n",
       "      <td>1.6</td>\n",
       "      <td>9</td>\n",
       "      <td>1</td>\n",
       "      <td>...</td>\n",
       "      <td>1</td>\n",
       "      <td>13</td>\n",
       "      <td>5</td>\n",
       "      <td>0</td>\n",
       "      <td>114</td>\n",
       "      <td>899</td>\n",
       "      <td>6.0</td>\n",
       "      <td>25</td>\n",
       "      <td>1.0</td>\n",
       "      <td>4.0</td>\n",
       "    </tr>\n",
       "    <tr>\n",
       "      <th>4</th>\n",
       "      <td>26</td>\n",
       "      <td>35</td>\n",
       "      <td>0</td>\n",
       "      <td>2</td>\n",
       "      <td>2</td>\n",
       "      <td>4</td>\n",
       "      <td>39</td>\n",
       "      <td>1.2</td>\n",
       "      <td>0</td>\n",
       "      <td>0</td>\n",
       "      <td>...</td>\n",
       "      <td>0</td>\n",
       "      <td>2</td>\n",
       "      <td>0</td>\n",
       "      <td>0</td>\n",
       "      <td>25</td>\n",
       "      <td>722</td>\n",
       "      <td>52.0</td>\n",
       "      <td>53</td>\n",
       "      <td>1.0</td>\n",
       "      <td>1.0</td>\n",
       "    </tr>\n",
       "  </tbody>\n",
       "</table>\n",
       "<p>5 rows × 21 columns</p>\n",
       "</div>"
      ],
      "text/plain": [
       "   Age  GP   G   A  PTS  +/-  PIM   PS  EV  PP  ...    GW  EV.1  PP.1  SH.1  \\\n",
       "0   20   2   0   0    0    0    2  0.0   0   0  ...     0     0     0     0   \n",
       "1   30  75   4   7   11  -16   58 -0.6   3   0  ...     1     7     0     0   \n",
       "2   33  27   0   2    2   -7   13 -0.6   0   0  ...     0     0     0     2   \n",
       "3   28  56  10  18   28  -16   42  1.6   9   1  ...     1    13     5     0   \n",
       "4   26  35   0   2    2    4   39  1.2   0   0  ...     0     2     0     0   \n",
       "\n",
       "     S  TOI   BLK  HIT    FOW    FOL  \n",
       "0    6   24   0.0    5    5.0    7.0  \n",
       "1   63  810  43.0  117   19.0   22.0  \n",
       "2   32  295  11.0   13  103.0  104.0  \n",
       "3  114  899   6.0   25    1.0    4.0  \n",
       "4   25  722  52.0   53    1.0    1.0  \n",
       "\n",
       "[5 rows x 21 columns]"
      ]
     },
     "execution_count": 152,
     "metadata": {},
     "output_type": "execute_result"
    }
   ],
   "source": [
    "# Prepare data for regressi\n",
    "lineardf = player.drop(columns = ['Player', 'Tm', 'Pos', 'ATOI'])\n",
    "finaldf = lineardf.dropna()\n",
    "finaldf.head()"
   ]
  },
  {
   "cell_type": "code",
   "execution_count": 154,
   "metadata": {},
   "outputs": [],
   "source": [
    "# Assign the data to X and y, x predicts y\n",
    "\n",
    "X = finaldf[['G', 'A']]\n",
    "y = finaldf['PTS']"
   ]
  },
  {
   "cell_type": "code",
   "execution_count": 155,
   "metadata": {},
   "outputs": [],
   "source": [
    "# Use train_test_split to create training and testing data\n",
    "\n",
    "X_train, X_test, y_train, y_test = train_test_split(X, y, test_size=0.3, random_state=42)"
   ]
  },
  {
   "cell_type": "code",
   "execution_count": 156,
   "metadata": {},
   "outputs": [],
   "source": [
    "# Applying standard scaling to get optimized result\n",
    "\n",
    "sc = StandardScaler()\n",
    "X_train = sc.fit_transform(X_train)\n",
    "X_test = sc.transform(X_test)"
   ]
  },
  {
   "cell_type": "code",
   "execution_count": 157,
   "metadata": {},
   "outputs": [],
   "source": [
    "# Fit the model to the training data and calculate the scores for the training and testing data\n",
    "model = LinearRegression()\n",
    "\n",
    "model.fit(X_train, y_train)\n",
    "pred_lrm = model.predict(X_test)"
   ]
  },
  {
   "cell_type": "code",
   "execution_count": 158,
   "metadata": {},
   "outputs": [
    {
     "data": {
      "text/plain": [
       "array([ 8.80334444, 13.19127984])"
      ]
     },
     "execution_count": 158,
     "metadata": {},
     "output_type": "execute_result"
    }
   ],
   "source": [
    "model.coef_"
   ]
  },
  {
   "cell_type": "code",
   "execution_count": 159,
   "metadata": {},
   "outputs": [
    {
     "name": "stdout",
     "output_type": "stream",
     "text": [
      "Training Score: 1.0\n",
      "Testing Score: 1.0\n"
     ]
    }
   ],
   "source": [
    "training_score = model.score(X_train, y_train)\n",
    "testing_score = model.score(X_test, y_test)\n",
    "\n",
    "print(f\"Training Score: {training_score}\")\n",
    "print(f\"Testing Score: {testing_score}\")"
   ]
  },
  {
   "cell_type": "code",
   "execution_count": 160,
   "metadata": {},
   "outputs": [
    {
     "data": {
      "image/png": "[encoded data removed]",
      "text/plain": [
       "<Figure size 576x396 with 2 Axes>"
      ]
     },
     "metadata": {},
     "output_type": "display_data"
    }
   ],
   "source": [
    " # Plot the Residuals for Ridge Model\n",
    "from sklearn.linear_model import Ridge\n",
    "from yellowbrick.regressor import ResidualsPlot\n",
    "\n",
    "# Instantiate the linear model and visualizer\n",
    "ridge = Ridge()\n",
    "visualizer = ResidualsPlot(ridge)\n",
    "\n",
    "visualizer.fit(X_train, y_train)  \n",
    "visualizer.score(X_test, y_test)  \n",
    "visualizer.poof()  "
   ]
  },
  {
   "cell_type": "code",
   "execution_count": 161,
   "metadata": {},
   "outputs": [
    {
     "name": "stdout",
     "output_type": "stream",
     "text": [
      "MSE: 1.1523142094974901e-29, R2: 1.0\n"
     ]
    }
   ],
   "source": [
    "from sklearn.metrics import mean_squared_error\n",
    "\n",
    "predictions = model.predict(X_test)\n",
    "MSE = mean_squared_error(y_test, predictions)\n",
    "r2 = model.score(X_test, y_test)\n",
    "\n",
    "print(f\"MSE: {MSE}, R2: {r2}\")"
   ]
  },
  {
   "cell_type": "code",
   "execution_count": 162,
   "metadata": {},
   "outputs": [
    {
     "data": {
      "text/plain": [
       "array([42.])"
      ]
     },
     "execution_count": 162,
     "metadata": {},
     "output_type": "execute_result"
    }
   ],
   "source": [
    "# Predict 2016 pts for Justin Abdelkader\n",
    "X_wild = [[19,23]]\n",
    "X_wild = sc.transform(X_wild)\n",
    "y_wild = model.predict(X_wild)\n",
    "y_wild"
   ]
  },
  {
   "cell_type": "code",
   "execution_count": null,
   "metadata": {},
   "outputs": [],
   "source": []
  }
 ],
 "metadata": {
  "kernelspec": {
   "display_name": "Python 3",
   "language": "python",
   "name": "python3"
  },
  "language_info": {
   "codemirror_mode": {
    "name": "ipython",
    "version": 3
   },
   "file_extension": ".py",
   "mimetype": "text/x-python",
   "name": "python",
   "nbconvert_exporter": "python",
   "pygments_lexer": "ipython3",
   "version": "3.7.1"
  }
 },
 "nbformat": 4,
 "nbformat_minor": 2
}
