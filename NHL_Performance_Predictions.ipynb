{
 "cells": [
  {
   "cell_type": "markdown",
   "metadata": {
    "slideshow": {
     "slide_type": "fragment"
    }
   },
   "source": [
    "# \"Puck This\" or \"Goin' for the stat trick\" or \"Stats gonna leave a mark\""
   ]
  },
  {
   "cell_type": "markdown",
   "metadata": {
    "slideshow": {
     "slide_type": "fragment"
    }
   },
   "source": [
    "## A cross-checking of historical hockey data to predict future success using machine learning and neural networks.\n",
    "<img align=\"center\" src=\"images/foil_up.jpeg\">"
   ]
  },
  {
   "cell_type": "markdown",
   "metadata": {
    "slideshow": {
     "slide_type": "fragment"
    }
   },
   "source": [
    "##### Team Members: Dave Kingsley, Erin Lampa, Ricky Ravin, Justin Miller & Katie Wright"
   ]
  },
  {
   "cell_type": "code",
   "execution_count": 1,
   "metadata": {
    "slideshow": {
     "slide_type": "subslide"
    }
   },
   "outputs": [],
   "source": [
    "# Dependencies \n",
    "\n",
    "%matplotlib inline\n",
    "import warnings\n",
    "warnings.simplefilter(\"ignore\")\n",
    "import matplotlib.pyplot as plt\n",
    "from scipy import stats\n",
    "import numpy as np\n",
    "import pandas as pd\n",
    "import glob\n",
    "import seaborn as sns\n",
    "from sklearn.svm import SVC\n",
    "from sklearn import svm\n",
    "from sklearn.preprocessing import StandardScaler, LabelEncoder\n",
    "from sklearn.ensemble import RandomForestClassifier\n",
    "from sklearn.svm import SVC\n",
    "from sklearn.neural_network import MLPClassifier\n",
    "from sklearn.metrics import confusion_matrix, classification_report\n",
    "from sklearn.model_selection import train_test_split\n",
    "from sklearn.linear_model import LinearRegression"
   ]
  },
  {
   "cell_type": "markdown",
   "metadata": {
    "slideshow": {
     "slide_type": "subslide"
    }
   },
   "source": [
    "## Data pre-processing steps for all data sets:\n",
    "\n",
    "1. We imported and merged 10 years worth of data for teams, skaters and skaters advanced statistics.  2013 was excluded from the data set due to the lockout and subsequent partial season.\n",
    "\n",
    "2. Columns containing text (\"Team\", \"Player\", \"Position\", \"Average Time On Ice\") were removed for modeling.  These columns weren't necessary for the models as the goal was to estimate points and extrapolate team/skater from those numbers.\n",
    "\n",
    "3. Checked for null values and if found inserted the mean of that column into that cell to allow for applying standard scalar and fit transformation.\n",
    "\n",
    "4. Used .describe() to determine the min and max of the points column which was then used to assign appropriate bins for the data.\n",
    "\n"
   ]
  },
  {
   "cell_type": "code",
   "execution_count": 2,
   "metadata": {
    "slideshow": {
     "slide_type": "skip"
    }
   },
   "outputs": [
    {
     "data": {
      "text/html": [
       "<div>\n",
       "<style scoped>\n",
       "    .dataframe tbody tr th:only-of-type {\n",
       "        vertical-align: middle;\n",
       "    }\n",
       "\n",
       "    .dataframe tbody tr th {\n",
       "        vertical-align: top;\n",
       "    }\n",
       "\n",
       "    .dataframe thead th {\n",
       "        text-align: right;\n",
       "    }\n",
       "</style>\n",
       "<table border=\"1\" class=\"dataframe\">\n",
       "  <thead>\n",
       "    <tr style=\"text-align: right;\">\n",
       "      <th></th>\n",
       "      <th>Rk</th>\n",
       "      <th>Team</th>\n",
       "      <th>AvAge</th>\n",
       "      <th>GP</th>\n",
       "      <th>W</th>\n",
       "      <th>L</th>\n",
       "      <th>OL</th>\n",
       "      <th>PTS</th>\n",
       "      <th>PTS%</th>\n",
       "      <th>GF</th>\n",
       "      <th>...</th>\n",
       "      <th>PK%</th>\n",
       "      <th>SH</th>\n",
       "      <th>SHA</th>\n",
       "      <th>PIM/G</th>\n",
       "      <th>oPIM/G</th>\n",
       "      <th>S</th>\n",
       "      <th>S%</th>\n",
       "      <th>SA</th>\n",
       "      <th>SV%</th>\n",
       "      <th>SO</th>\n",
       "    </tr>\n",
       "  </thead>\n",
       "  <tbody>\n",
       "    <tr>\n",
       "      <th>0</th>\n",
       "      <td>1</td>\n",
       "      <td>San Jose Sharks*</td>\n",
       "      <td>28.7</td>\n",
       "      <td>82</td>\n",
       "      <td>53</td>\n",
       "      <td>18</td>\n",
       "      <td>11</td>\n",
       "      <td>117</td>\n",
       "      <td>0.713</td>\n",
       "      <td>251</td>\n",
       "      <td>...</td>\n",
       "      <td>83.22</td>\n",
       "      <td>12</td>\n",
       "      <td>11</td>\n",
       "      <td>12.8</td>\n",
       "      <td>14.1</td>\n",
       "      <td>2720</td>\n",
       "      <td>9.2</td>\n",
       "      <td>2228</td>\n",
       "      <td>0.911</td>\n",
       "      <td>9</td>\n",
       "    </tr>\n",
       "    <tr>\n",
       "      <th>1</th>\n",
       "      <td>2</td>\n",
       "      <td>Boston Bruins*</td>\n",
       "      <td>28.4</td>\n",
       "      <td>82</td>\n",
       "      <td>53</td>\n",
       "      <td>19</td>\n",
       "      <td>10</td>\n",
       "      <td>116</td>\n",
       "      <td>0.707</td>\n",
       "      <td>270</td>\n",
       "      <td>...</td>\n",
       "      <td>82.35</td>\n",
       "      <td>8</td>\n",
       "      <td>7</td>\n",
       "      <td>12.5</td>\n",
       "      <td>12.8</td>\n",
       "      <td>2482</td>\n",
       "      <td>10.9</td>\n",
       "      <td>2524</td>\n",
       "      <td>0.925</td>\n",
       "      <td>7</td>\n",
       "    </tr>\n",
       "    <tr>\n",
       "      <th>2</th>\n",
       "      <td>3</td>\n",
       "      <td>Detroit Red Wings*</td>\n",
       "      <td>31.2</td>\n",
       "      <td>82</td>\n",
       "      <td>51</td>\n",
       "      <td>21</td>\n",
       "      <td>10</td>\n",
       "      <td>112</td>\n",
       "      <td>0.683</td>\n",
       "      <td>289</td>\n",
       "      <td>...</td>\n",
       "      <td>78.29</td>\n",
       "      <td>6</td>\n",
       "      <td>4</td>\n",
       "      <td>10.0</td>\n",
       "      <td>10.9</td>\n",
       "      <td>2965</td>\n",
       "      <td>9.7</td>\n",
       "      <td>2274</td>\n",
       "      <td>0.894</td>\n",
       "      <td>8</td>\n",
       "    </tr>\n",
       "    <tr>\n",
       "      <th>3</th>\n",
       "      <td>4</td>\n",
       "      <td>Washington Capitals*</td>\n",
       "      <td>27.2</td>\n",
       "      <td>82</td>\n",
       "      <td>50</td>\n",
       "      <td>24</td>\n",
       "      <td>8</td>\n",
       "      <td>108</td>\n",
       "      <td>0.659</td>\n",
       "      <td>268</td>\n",
       "      <td>...</td>\n",
       "      <td>80.62</td>\n",
       "      <td>7</td>\n",
       "      <td>11</td>\n",
       "      <td>12.7</td>\n",
       "      <td>11.4</td>\n",
       "      <td>2747</td>\n",
       "      <td>9.8</td>\n",
       "      <td>2418</td>\n",
       "      <td>0.901</td>\n",
       "      <td>2</td>\n",
       "    </tr>\n",
       "    <tr>\n",
       "      <th>4</th>\n",
       "      <td>5</td>\n",
       "      <td>New Jersey Devils*</td>\n",
       "      <td>30.3</td>\n",
       "      <td>82</td>\n",
       "      <td>51</td>\n",
       "      <td>27</td>\n",
       "      <td>4</td>\n",
       "      <td>106</td>\n",
       "      <td>0.646</td>\n",
       "      <td>238</td>\n",
       "      <td>...</td>\n",
       "      <td>79.94</td>\n",
       "      <td>12</td>\n",
       "      <td>4</td>\n",
       "      <td>12.9</td>\n",
       "      <td>13.1</td>\n",
       "      <td>2698</td>\n",
       "      <td>8.8</td>\n",
       "      <td>2415</td>\n",
       "      <td>0.914</td>\n",
       "      <td>7</td>\n",
       "    </tr>\n",
       "    <tr>\n",
       "      <th>5</th>\n",
       "      <td>6</td>\n",
       "      <td>Chicago Blackhawks*</td>\n",
       "      <td>25.9</td>\n",
       "      <td>82</td>\n",
       "      <td>46</td>\n",
       "      <td>24</td>\n",
       "      <td>12</td>\n",
       "      <td>104</td>\n",
       "      <td>0.634</td>\n",
       "      <td>260</td>\n",
       "      <td>...</td>\n",
       "      <td>80.61</td>\n",
       "      <td>10</td>\n",
       "      <td>6</td>\n",
       "      <td>14.1</td>\n",
       "      <td>15.2</td>\n",
       "      <td>2683</td>\n",
       "      <td>9.7</td>\n",
       "      <td>2344</td>\n",
       "      <td>0.911</td>\n",
       "      <td>6</td>\n",
       "    </tr>\n",
       "    <tr>\n",
       "      <th>6</th>\n",
       "      <td>7</td>\n",
       "      <td>Vancouver Canucks*</td>\n",
       "      <td>27.9</td>\n",
       "      <td>82</td>\n",
       "      <td>45</td>\n",
       "      <td>27</td>\n",
       "      <td>10</td>\n",
       "      <td>100</td>\n",
       "      <td>0.610</td>\n",
       "      <td>243</td>\n",
       "      <td>...</td>\n",
       "      <td>81.40</td>\n",
       "      <td>7</td>\n",
       "      <td>5</td>\n",
       "      <td>16.5</td>\n",
       "      <td>16.3</td>\n",
       "      <td>2335</td>\n",
       "      <td>10.4</td>\n",
       "      <td>2392</td>\n",
       "      <td>0.911</td>\n",
       "      <td>10</td>\n",
       "    </tr>\n",
       "    <tr>\n",
       "      <th>7</th>\n",
       "      <td>8</td>\n",
       "      <td>Pittsburgh Penguins*</td>\n",
       "      <td>26.6</td>\n",
       "      <td>82</td>\n",
       "      <td>45</td>\n",
       "      <td>28</td>\n",
       "      <td>9</td>\n",
       "      <td>99</td>\n",
       "      <td>0.604</td>\n",
       "      <td>258</td>\n",
       "      <td>...</td>\n",
       "      <td>82.71</td>\n",
       "      <td>7</td>\n",
       "      <td>13</td>\n",
       "      <td>13.6</td>\n",
       "      <td>14.2</td>\n",
       "      <td>2381</td>\n",
       "      <td>10.8</td>\n",
       "      <td>2484</td>\n",
       "      <td>0.906</td>\n",
       "      <td>4</td>\n",
       "    </tr>\n",
       "    <tr>\n",
       "      <th>8</th>\n",
       "      <td>9</td>\n",
       "      <td>Philadelphia Flyers*</td>\n",
       "      <td>27.0</td>\n",
       "      <td>82</td>\n",
       "      <td>44</td>\n",
       "      <td>27</td>\n",
       "      <td>11</td>\n",
       "      <td>99</td>\n",
       "      <td>0.604</td>\n",
       "      <td>260</td>\n",
       "      <td>...</td>\n",
       "      <td>82.95</td>\n",
       "      <td>16</td>\n",
       "      <td>1</td>\n",
       "      <td>17.5</td>\n",
       "      <td>14.8</td>\n",
       "      <td>2441</td>\n",
       "      <td>10.7</td>\n",
       "      <td>2668</td>\n",
       "      <td>0.913</td>\n",
       "      <td>3</td>\n",
       "    </tr>\n",
       "    <tr>\n",
       "      <th>9</th>\n",
       "      <td>10</td>\n",
       "      <td>Calgary Flames*</td>\n",
       "      <td>28.9</td>\n",
       "      <td>82</td>\n",
       "      <td>46</td>\n",
       "      <td>30</td>\n",
       "      <td>6</td>\n",
       "      <td>98</td>\n",
       "      <td>0.598</td>\n",
       "      <td>251</td>\n",
       "      <td>...</td>\n",
       "      <td>83.38</td>\n",
       "      <td>6</td>\n",
       "      <td>15</td>\n",
       "      <td>15.8</td>\n",
       "      <td>15.6</td>\n",
       "      <td>2643</td>\n",
       "      <td>9.5</td>\n",
       "      <td>2441</td>\n",
       "      <td>0.899</td>\n",
       "      <td>4</td>\n",
       "    </tr>\n",
       "  </tbody>\n",
       "</table>\n",
       "<p>10 rows × 33 columns</p>\n",
       "</div>"
      ],
      "text/plain": [
       "   Rk                  Team  AvAge  GP   W   L  OL  PTS   PTS%   GF  ...  \\\n",
       "0   1      San Jose Sharks*   28.7  82  53  18  11  117  0.713  251  ...   \n",
       "1   2        Boston Bruins*   28.4  82  53  19  10  116  0.707  270  ...   \n",
       "2   3    Detroit Red Wings*   31.2  82  51  21  10  112  0.683  289  ...   \n",
       "3   4  Washington Capitals*   27.2  82  50  24   8  108  0.659  268  ...   \n",
       "4   5    New Jersey Devils*   30.3  82  51  27   4  106  0.646  238  ...   \n",
       "5   6   Chicago Blackhawks*   25.9  82  46  24  12  104  0.634  260  ...   \n",
       "6   7    Vancouver Canucks*   27.9  82  45  27  10  100  0.610  243  ...   \n",
       "7   8  Pittsburgh Penguins*   26.6  82  45  28   9   99  0.604  258  ...   \n",
       "8   9  Philadelphia Flyers*   27.0  82  44  27  11   99  0.604  260  ...   \n",
       "9  10       Calgary Flames*   28.9  82  46  30   6   98  0.598  251  ...   \n",
       "\n",
       "     PK%  SH  SHA  PIM/G  oPIM/G     S    S%    SA    SV%  SO  \n",
       "0  83.22  12   11   12.8    14.1  2720   9.2  2228  0.911   9  \n",
       "1  82.35   8    7   12.5    12.8  2482  10.9  2524  0.925   7  \n",
       "2  78.29   6    4   10.0    10.9  2965   9.7  2274  0.894   8  \n",
       "3  80.62   7   11   12.7    11.4  2747   9.8  2418  0.901   2  \n",
       "4  79.94  12    4   12.9    13.1  2698   8.8  2415  0.914   7  \n",
       "5  80.61  10    6   14.1    15.2  2683   9.7  2344  0.911   6  \n",
       "6  81.40   7    5   16.5    16.3  2335  10.4  2392  0.911  10  \n",
       "7  82.71   7   13   13.6    14.2  2381  10.8  2484  0.906   4  \n",
       "8  82.95  16    1   17.5    14.8  2441  10.7  2668  0.913   3  \n",
       "9  83.38   6   15   15.8    15.6  2643   9.5  2441  0.899   4  \n",
       "\n",
       "[10 rows x 33 columns]"
      ]
     },
     "execution_count": 2,
     "metadata": {},
     "output_type": "execute_result"
    }
   ],
   "source": [
    "# Read the csv file into a pandas DataFrame\n",
    "\n",
    "season = pd.concat([pd.read_csv(f) for f in glob.glob('nhl_season_data/*.csv')], \n",
    "                             ignore_index = True)\n",
    "\n",
    "season.head(10)"
   ]
  },
  {
   "cell_type": "code",
   "execution_count": 3,
   "metadata": {
    "slideshow": {
     "slide_type": "skip"
    }
   },
   "outputs": [],
   "source": [
    "# Drop Team column\n",
    "\n",
    "season_clean = season.drop(columns='Team')"
   ]
  },
  {
   "cell_type": "code",
   "execution_count": 4,
   "metadata": {
    "slideshow": {
     "slide_type": "skip"
    }
   },
   "outputs": [
    {
     "data": {
      "text/plain": [
       "Rk        0\n",
       "AvAge     0\n",
       "GP        0\n",
       "W         0\n",
       "L         0\n",
       "OL        0\n",
       "PTS       0\n",
       "PTS%      0\n",
       "GF        0\n",
       "GA        0\n",
       "SOW       0\n",
       "SOL       0\n",
       "SRS       0\n",
       "SOS       0\n",
       "TG/G      0\n",
       "EVGF      0\n",
       "EVGA      0\n",
       "PP        0\n",
       "PPO       0\n",
       "PP%       0\n",
       "PPA       0\n",
       "PPOA      0\n",
       "PK%       0\n",
       "SH        0\n",
       "SHA       0\n",
       "PIM/G     0\n",
       "oPIM/G    0\n",
       "S         0\n",
       "S%        0\n",
       "SA        0\n",
       "SV%       0\n",
       "SO        0\n",
       "dtype: int64"
      ]
     },
     "execution_count": 4,
     "metadata": {},
     "output_type": "execute_result"
    }
   ],
   "source": [
    "# Determine if any columns have null values that need to be removed\n",
    "# also helps determine column names\n",
    "\n",
    "season_clean.isnull().sum()"
   ]
  },
  {
   "cell_type": "code",
   "execution_count": 5,
   "metadata": {
    "slideshow": {
     "slide_type": "skip"
    }
   },
   "outputs": [
    {
     "data": {
      "text/plain": [
       "count    301.000000\n",
       "mean      91.667774\n",
       "std       13.689263\n",
       "min       48.000000\n",
       "25%       82.000000\n",
       "50%       93.000000\n",
       "75%      101.000000\n",
       "max      128.000000\n",
       "Name: PTS, dtype: float64"
      ]
     },
     "execution_count": 5,
     "metadata": {},
     "output_type": "execute_result"
    }
   ],
   "source": [
    "# Determine max of points column to determine appropriate bins\n",
    "\n",
    "season_clean['PTS'].describe()"
   ]
  },
  {
   "cell_type": "markdown",
   "metadata": {
    "slideshow": {
     "slide_type": "subslide"
    }
   },
   "source": [
    "## Team modeling ...."
   ]
  },
  {
   "cell_type": "markdown",
   "metadata": {
    "slideshow": {
     "slide_type": "fragment"
    }
   },
   "source": [
    "#### Bins were created to separate the data into teams that were playoff bound and those were not.  Based on the assumption that teams with ~95 points will go to the playoffs (based on information from cbssports.com). .unique() is used to verify the bin value (0) assigned to no_playoffs is less than the value (1) assigned to playoffs before modeling."
   ]
  },
  {
   "cell_type": "code",
   "execution_count": 6,
   "metadata": {
    "slideshow": {
     "slide_type": "fragment"
    }
   },
   "outputs": [
    {
     "data": {
      "text/plain": [
       "[playoffs, no_playoffs]\n",
       "Categories (2, object): [no_playoffs < playoffs]"
      ]
     },
     "execution_count": 6,
     "metadata": {},
     "output_type": "execute_result"
    }
   ],
   "source": [
    "# Preprocessing the data: creating appropriate bins to separate out the PTS column into\n",
    "# \"good/playoff\" qualifying points and \"bad/non-playoff\" points.\n",
    "\n",
    "bins = (47, 94.5, 128)\n",
    "group_names = ['no_playoffs', 'playoffs']\n",
    "season_clean['PTS'] = pd.cut(season['PTS'], bins = bins, labels = group_names)\n",
    "season_clean['PTS'].unique()"
   ]
  },
  {
   "cell_type": "code",
   "execution_count": 7,
   "metadata": {
    "slideshow": {
     "slide_type": "skip"
    }
   },
   "outputs": [],
   "source": [
    "# Use LabelEncoder to assign new values to the PTS column\n",
    "\n",
    "label_quality = LabelEncoder()"
   ]
  },
  {
   "cell_type": "code",
   "execution_count": 8,
   "metadata": {
    "slideshow": {
     "slide_type": "skip"
    }
   },
   "outputs": [],
   "source": [
    "# Fit_transform the PTS column using newly encoded values\n",
    "\n",
    "season_clean['PTS'] = label_quality.fit_transform(season_clean['PTS'])"
   ]
  },
  {
   "cell_type": "code",
   "execution_count": 9,
   "metadata": {
    "slideshow": {
     "slide_type": "subslide"
    }
   },
   "outputs": [
    {
     "data": {
      "text/html": [
       "<div>\n",
       "<style scoped>\n",
       "    .dataframe tbody tr th:only-of-type {\n",
       "        vertical-align: middle;\n",
       "    }\n",
       "\n",
       "    .dataframe tbody tr th {\n",
       "        vertical-align: top;\n",
       "    }\n",
       "\n",
       "    .dataframe thead th {\n",
       "        text-align: right;\n",
       "    }\n",
       "</style>\n",
       "<table border=\"1\" class=\"dataframe\">\n",
       "  <thead>\n",
       "    <tr style=\"text-align: right;\">\n",
       "      <th></th>\n",
       "      <th>Rk</th>\n",
       "      <th>AvAge</th>\n",
       "      <th>GP</th>\n",
       "      <th>W</th>\n",
       "      <th>L</th>\n",
       "      <th>OL</th>\n",
       "      <th>PTS</th>\n",
       "      <th>PTS%</th>\n",
       "      <th>GF</th>\n",
       "      <th>GA</th>\n",
       "      <th>...</th>\n",
       "      <th>PK%</th>\n",
       "      <th>SH</th>\n",
       "      <th>SHA</th>\n",
       "      <th>PIM/G</th>\n",
       "      <th>oPIM/G</th>\n",
       "      <th>S</th>\n",
       "      <th>S%</th>\n",
       "      <th>SA</th>\n",
       "      <th>SV%</th>\n",
       "      <th>SO</th>\n",
       "    </tr>\n",
       "  </thead>\n",
       "  <tbody>\n",
       "    <tr>\n",
       "      <th>0</th>\n",
       "      <td>1</td>\n",
       "      <td>28.7</td>\n",
       "      <td>82</td>\n",
       "      <td>53</td>\n",
       "      <td>18</td>\n",
       "      <td>11</td>\n",
       "      <td>1</td>\n",
       "      <td>0.713</td>\n",
       "      <td>251</td>\n",
       "      <td>199</td>\n",
       "      <td>...</td>\n",
       "      <td>83.22</td>\n",
       "      <td>12</td>\n",
       "      <td>11</td>\n",
       "      <td>12.8</td>\n",
       "      <td>14.1</td>\n",
       "      <td>2720</td>\n",
       "      <td>9.2</td>\n",
       "      <td>2228</td>\n",
       "      <td>0.911</td>\n",
       "      <td>9</td>\n",
       "    </tr>\n",
       "    <tr>\n",
       "      <th>1</th>\n",
       "      <td>2</td>\n",
       "      <td>28.4</td>\n",
       "      <td>82</td>\n",
       "      <td>53</td>\n",
       "      <td>19</td>\n",
       "      <td>10</td>\n",
       "      <td>1</td>\n",
       "      <td>0.707</td>\n",
       "      <td>270</td>\n",
       "      <td>190</td>\n",
       "      <td>...</td>\n",
       "      <td>82.35</td>\n",
       "      <td>8</td>\n",
       "      <td>7</td>\n",
       "      <td>12.5</td>\n",
       "      <td>12.8</td>\n",
       "      <td>2482</td>\n",
       "      <td>10.9</td>\n",
       "      <td>2524</td>\n",
       "      <td>0.925</td>\n",
       "      <td>7</td>\n",
       "    </tr>\n",
       "    <tr>\n",
       "      <th>2</th>\n",
       "      <td>3</td>\n",
       "      <td>31.2</td>\n",
       "      <td>82</td>\n",
       "      <td>51</td>\n",
       "      <td>21</td>\n",
       "      <td>10</td>\n",
       "      <td>1</td>\n",
       "      <td>0.683</td>\n",
       "      <td>289</td>\n",
       "      <td>240</td>\n",
       "      <td>...</td>\n",
       "      <td>78.29</td>\n",
       "      <td>6</td>\n",
       "      <td>4</td>\n",
       "      <td>10.0</td>\n",
       "      <td>10.9</td>\n",
       "      <td>2965</td>\n",
       "      <td>9.7</td>\n",
       "      <td>2274</td>\n",
       "      <td>0.894</td>\n",
       "      <td>8</td>\n",
       "    </tr>\n",
       "    <tr>\n",
       "      <th>3</th>\n",
       "      <td>4</td>\n",
       "      <td>27.2</td>\n",
       "      <td>82</td>\n",
       "      <td>50</td>\n",
       "      <td>24</td>\n",
       "      <td>8</td>\n",
       "      <td>1</td>\n",
       "      <td>0.659</td>\n",
       "      <td>268</td>\n",
       "      <td>240</td>\n",
       "      <td>...</td>\n",
       "      <td>80.62</td>\n",
       "      <td>7</td>\n",
       "      <td>11</td>\n",
       "      <td>12.7</td>\n",
       "      <td>11.4</td>\n",
       "      <td>2747</td>\n",
       "      <td>9.8</td>\n",
       "      <td>2418</td>\n",
       "      <td>0.901</td>\n",
       "      <td>2</td>\n",
       "    </tr>\n",
       "    <tr>\n",
       "      <th>4</th>\n",
       "      <td>5</td>\n",
       "      <td>30.3</td>\n",
       "      <td>82</td>\n",
       "      <td>51</td>\n",
       "      <td>27</td>\n",
       "      <td>4</td>\n",
       "      <td>1</td>\n",
       "      <td>0.646</td>\n",
       "      <td>238</td>\n",
       "      <td>207</td>\n",
       "      <td>...</td>\n",
       "      <td>79.94</td>\n",
       "      <td>12</td>\n",
       "      <td>4</td>\n",
       "      <td>12.9</td>\n",
       "      <td>13.1</td>\n",
       "      <td>2698</td>\n",
       "      <td>8.8</td>\n",
       "      <td>2415</td>\n",
       "      <td>0.914</td>\n",
       "      <td>7</td>\n",
       "    </tr>\n",
       "    <tr>\n",
       "      <th>5</th>\n",
       "      <td>6</td>\n",
       "      <td>25.9</td>\n",
       "      <td>82</td>\n",
       "      <td>46</td>\n",
       "      <td>24</td>\n",
       "      <td>12</td>\n",
       "      <td>1</td>\n",
       "      <td>0.634</td>\n",
       "      <td>260</td>\n",
       "      <td>209</td>\n",
       "      <td>...</td>\n",
       "      <td>80.61</td>\n",
       "      <td>10</td>\n",
       "      <td>6</td>\n",
       "      <td>14.1</td>\n",
       "      <td>15.2</td>\n",
       "      <td>2683</td>\n",
       "      <td>9.7</td>\n",
       "      <td>2344</td>\n",
       "      <td>0.911</td>\n",
       "      <td>6</td>\n",
       "    </tr>\n",
       "    <tr>\n",
       "      <th>6</th>\n",
       "      <td>7</td>\n",
       "      <td>27.9</td>\n",
       "      <td>82</td>\n",
       "      <td>45</td>\n",
       "      <td>27</td>\n",
       "      <td>10</td>\n",
       "      <td>1</td>\n",
       "      <td>0.610</td>\n",
       "      <td>243</td>\n",
       "      <td>213</td>\n",
       "      <td>...</td>\n",
       "      <td>81.40</td>\n",
       "      <td>7</td>\n",
       "      <td>5</td>\n",
       "      <td>16.5</td>\n",
       "      <td>16.3</td>\n",
       "      <td>2335</td>\n",
       "      <td>10.4</td>\n",
       "      <td>2392</td>\n",
       "      <td>0.911</td>\n",
       "      <td>10</td>\n",
       "    </tr>\n",
       "    <tr>\n",
       "      <th>7</th>\n",
       "      <td>8</td>\n",
       "      <td>26.6</td>\n",
       "      <td>82</td>\n",
       "      <td>45</td>\n",
       "      <td>28</td>\n",
       "      <td>9</td>\n",
       "      <td>1</td>\n",
       "      <td>0.604</td>\n",
       "      <td>258</td>\n",
       "      <td>233</td>\n",
       "      <td>...</td>\n",
       "      <td>82.71</td>\n",
       "      <td>7</td>\n",
       "      <td>13</td>\n",
       "      <td>13.6</td>\n",
       "      <td>14.2</td>\n",
       "      <td>2381</td>\n",
       "      <td>10.8</td>\n",
       "      <td>2484</td>\n",
       "      <td>0.906</td>\n",
       "      <td>4</td>\n",
       "    </tr>\n",
       "    <tr>\n",
       "      <th>8</th>\n",
       "      <td>9</td>\n",
       "      <td>27.0</td>\n",
       "      <td>82</td>\n",
       "      <td>44</td>\n",
       "      <td>27</td>\n",
       "      <td>11</td>\n",
       "      <td>1</td>\n",
       "      <td>0.604</td>\n",
       "      <td>260</td>\n",
       "      <td>232</td>\n",
       "      <td>...</td>\n",
       "      <td>82.95</td>\n",
       "      <td>16</td>\n",
       "      <td>1</td>\n",
       "      <td>17.5</td>\n",
       "      <td>14.8</td>\n",
       "      <td>2441</td>\n",
       "      <td>10.7</td>\n",
       "      <td>2668</td>\n",
       "      <td>0.913</td>\n",
       "      <td>3</td>\n",
       "    </tr>\n",
       "    <tr>\n",
       "      <th>9</th>\n",
       "      <td>10</td>\n",
       "      <td>28.9</td>\n",
       "      <td>82</td>\n",
       "      <td>46</td>\n",
       "      <td>30</td>\n",
       "      <td>6</td>\n",
       "      <td>1</td>\n",
       "      <td>0.598</td>\n",
       "      <td>251</td>\n",
       "      <td>246</td>\n",
       "      <td>...</td>\n",
       "      <td>83.38</td>\n",
       "      <td>6</td>\n",
       "      <td>15</td>\n",
       "      <td>15.8</td>\n",
       "      <td>15.6</td>\n",
       "      <td>2643</td>\n",
       "      <td>9.5</td>\n",
       "      <td>2441</td>\n",
       "      <td>0.899</td>\n",
       "      <td>4</td>\n",
       "    </tr>\n",
       "  </tbody>\n",
       "</table>\n",
       "<p>10 rows × 32 columns</p>\n",
       "</div>"
      ],
      "text/plain": [
       "   Rk  AvAge  GP   W   L  OL  PTS   PTS%   GF   GA  ...    PK%  SH  SHA  \\\n",
       "0   1   28.7  82  53  18  11    1  0.713  251  199  ...  83.22  12   11   \n",
       "1   2   28.4  82  53  19  10    1  0.707  270  190  ...  82.35   8    7   \n",
       "2   3   31.2  82  51  21  10    1  0.683  289  240  ...  78.29   6    4   \n",
       "3   4   27.2  82  50  24   8    1  0.659  268  240  ...  80.62   7   11   \n",
       "4   5   30.3  82  51  27   4    1  0.646  238  207  ...  79.94  12    4   \n",
       "5   6   25.9  82  46  24  12    1  0.634  260  209  ...  80.61  10    6   \n",
       "6   7   27.9  82  45  27  10    1  0.610  243  213  ...  81.40   7    5   \n",
       "7   8   26.6  82  45  28   9    1  0.604  258  233  ...  82.71   7   13   \n",
       "8   9   27.0  82  44  27  11    1  0.604  260  232  ...  82.95  16    1   \n",
       "9  10   28.9  82  46  30   6    1  0.598  251  246  ...  83.38   6   15   \n",
       "\n",
       "   PIM/G  oPIM/G     S    S%    SA    SV%  SO  \n",
       "0   12.8    14.1  2720   9.2  2228  0.911   9  \n",
       "1   12.5    12.8  2482  10.9  2524  0.925   7  \n",
       "2   10.0    10.9  2965   9.7  2274  0.894   8  \n",
       "3   12.7    11.4  2747   9.8  2418  0.901   2  \n",
       "4   12.9    13.1  2698   8.8  2415  0.914   7  \n",
       "5   14.1    15.2  2683   9.7  2344  0.911   6  \n",
       "6   16.5    16.3  2335  10.4  2392  0.911  10  \n",
       "7   13.6    14.2  2381  10.8  2484  0.906   4  \n",
       "8   17.5    14.8  2441  10.7  2668  0.913   3  \n",
       "9   15.8    15.6  2643   9.5  2441  0.899   4  \n",
       "\n",
       "[10 rows x 32 columns]"
      ]
     },
     "execution_count": 9,
     "metadata": {},
     "output_type": "execute_result"
    }
   ],
   "source": [
    "# Dataframe displaying the newly transformed PTS column\n",
    "\n",
    "season_clean.head(10)"
   ]
  },
  {
   "cell_type": "code",
   "execution_count": 10,
   "metadata": {
    "slideshow": {
     "slide_type": "skip"
    }
   },
   "outputs": [
    {
     "data": {
      "text/plain": [
       "0    164\n",
       "1    137\n",
       "Name: PTS, dtype: int64"
      ]
     },
     "execution_count": 10,
     "metadata": {},
     "output_type": "execute_result"
    }
   ],
   "source": [
    "# Count the values in each points category (non-playoff and playoff)\n",
    "\n",
    "season_clean['PTS'].value_counts()"
   ]
  },
  {
   "cell_type": "code",
   "execution_count": 11,
   "metadata": {
    "slideshow": {
     "slide_type": "skip"
    }
   },
   "outputs": [
    {
     "data": {
      "text/plain": [
       "<matplotlib.axes._subplots.AxesSubplot at 0x11f8fc278>"
      ]
     },
     "execution_count": 11,
     "metadata": {},
     "output_type": "execute_result"
    },
    {
     "data": {
      "image/png": "[encoded data removed]",
      "text/plain": [
       "<Figure size 432x288 with 1 Axes>"
      ]
     },
     "metadata": {
      "needs_background": "light"
     },
     "output_type": "display_data"
    }
   ],
   "source": [
    "# Visualize the transformed points column distribution \n",
    "# using seaborn & matplotlib\n",
    "\n",
    "sns.countplot(season_clean['PTS'])"
   ]
  },
  {
   "cell_type": "code",
   "execution_count": 12,
   "metadata": {
    "slideshow": {
     "slide_type": "subslide"
    }
   },
   "outputs": [],
   "source": [
    "# Assign the data to X and y, x predicts y\n",
    "\n",
    "X = season_clean.drop('PTS', axis = 1)\n",
    "y = season_clean[\"PTS\"]\n"
   ]
  },
  {
   "cell_type": "code",
   "execution_count": 13,
   "metadata": {
    "slideshow": {
     "slide_type": "fragment"
    }
   },
   "outputs": [],
   "source": [
    "# Use train_test_split to create training and testing data\n",
    "\n",
    "from sklearn.model_selection import train_test_split\n",
    "\n",
    "X_train, X_test, y_train, y_test = train_test_split(X, y, test_size=0.3, random_state=42)\n"
   ]
  },
  {
   "cell_type": "code",
   "execution_count": 14,
   "metadata": {
    "slideshow": {
     "slide_type": "fragment"
    }
   },
   "outputs": [],
   "source": [
    "# Applying standard scaling to get optimized result and reduce large discrepancies\n",
    "# between the data in each column.\n",
    "\n",
    "sc = StandardScaler()\n",
    "X_train = sc.fit_transform(X_train)\n",
    "X_test = sc.transform(X_test)"
   ]
  },
  {
   "cell_type": "code",
   "execution_count": 15,
   "metadata": {
    "slideshow": {
     "slide_type": "skip"
    }
   },
   "outputs": [
    {
     "data": {
      "text/plain": [
       "array([[-1.17308356e+00,  3.74733692e-01,  0.00000000e+00,\n",
       "         1.07373504e+00, -9.29119312e-01, -5.59633071e-01,\n",
       "         1.01886507e+00,  1.42551373e+00, -8.36716338e-01,\n",
       "        -8.28020971e-01, -1.25502917e+00,  1.40100143e+00,\n",
       "        -1.94995056e+00,  4.81924576e-01,  2.11564730e+00,\n",
       "        -7.33334007e-02, -4.44115167e-01, -1.39556293e+00,\n",
       "         8.53475784e-01, -1.34882964e+00, -1.48717177e+00,\n",
       "         5.23566145e-01, -5.84267204e-01, -1.22311229e+00,\n",
       "        -1.18418205e+00, -1.19261328e+00,  3.24645235e-01,\n",
       "         1.52691512e+00, -6.15440645e-02,  9.03994816e-01,\n",
       "        -1.11223333e-01],\n",
       "       [-2.71124576e-01, -1.14895569e+00,  0.00000000e+00,\n",
       "         8.01575280e-01, -5.08820028e-02, -2.01053362e+00,\n",
       "         4.53140717e-01,  1.15000687e+00,  1.77543827e-01,\n",
       "        -1.25212927e+00, -1.69575848e+00,  6.87548142e-01,\n",
       "        -2.02129021e-01,  1.03771378e+00,  2.26255106e+00,\n",
       "         1.44056629e+00, -1.57617343e+00, -1.46857445e+00,\n",
       "        -1.07769525e+00, -1.96250330e+00, -1.87755435e+00,\n",
       "         1.20006301e+00,  3.59549049e-01, -2.63509871e-01,\n",
       "        -1.95635479e+00, -1.86428285e+00,  7.22366241e-01,\n",
       "         9.09326185e-01, -3.57423225e-01, -5.21578986e-01,\n",
       "         1.39567343e+00],\n",
       "       [ 6.71100435e-02, -1.86598599e+00,  0.00000000e+00,\n",
       "        -1.49039866e-02, -5.08820028e-02,  1.65817206e-01,\n",
       "         1.70615281e-02, -2.66885558e-01, -1.47019426e-01,\n",
       "         4.44303936e-01,  9.48617367e-01, -2.59051493e-02,\n",
       "         1.04631493e+00, -3.26496081e-01,  1.56930523e-01,\n",
       "        -9.60791842e-01, -9.66603598e-01,  9.89479847e-01,\n",
       "        -1.99155297e+00,  8.42861979e-01,  1.47514317e+00,\n",
       "         2.36467475e-01,  3.59549049e-01,  1.65569497e+00,\n",
       "         1.44120526e+00,  1.20020955e+00, -6.36003965e-01,\n",
       "         1.68219462e-01, -1.21987950e+00, -7.59174620e-01,\n",
       "         2.14912182e+00],\n",
       "       [-4.96614322e-01,  1.62185425e-02,  0.00000000e+00,\n",
       "         5.29415525e-01, -1.97254888e-01, -9.22358209e-01,\n",
       "         3.70639249e-01,  3.62844410e-01, -2.28160239e-01,\n",
       "        -8.28020971e-01,  6.71587517e-02,  2.41639835e-01,\n",
       "        -1.20088418e+00,  1.02977393e-01, -4.79652430e-01,\n",
       "        -7.51978091e-01,  1.55875715e+00,  2.25501275e+00,\n",
       "         7.41103306e-02,  5.79858984e-01,  4.41777495e-01,\n",
       "        -3.17929955e-01,  3.59549049e-01,  6.96092549e-01,\n",
       "        -5.66443859e-01,  5.28539980e-01,  1.23022537e+00,\n",
       "        -4.49369473e-01, -3.51127924e-01,  7.24100979e-02,\n",
       "         2.65500859e-01],\n",
       "       [ 6.71100435e-02,  3.74733692e-01,  0.00000000e+00,\n",
       "         5.29415525e-01,  2.41863767e-01, -2.01053362e+00,\n",
       "         1.58492616e-01, -1.88169312e-01, -3.09301052e-01,\n",
       "        -4.03912669e-01, -1.25502917e+00,  4.09810968e-02,\n",
       "        -9.51195393e-01, -3.77022372e-01, -2.83780752e-01,\n",
       "        -2.29943714e-01, -8.70814052e-03, -5.68099111e-01,\n",
       "         5.70697168e-01, -1.21482336e-01, -1.09350865e-01,\n",
       "         7.47682249e-02,  3.59549049e-01, -5.83377344e-01,\n",
       "         1.67120243e-01, -2.27088282e-01, -5.25865841e-01,\n",
       "         1.68219462e-01, -7.60322508e-01, -1.65185536e-01,\n",
       "        -1.11223333e-01],\n",
       "       [ 1.42004852e+00,  3.74733692e-01,  0.00000000e+00,\n",
       "        -1.51178264e+00,  1.26647396e+00,  8.91267483e-01,\n",
       "        -1.42082120e+00, -1.40827112e+00, -1.87589832e-01,\n",
       "        -4.03912669e-01,  9.48617367e-01, -9.62312594e-01,\n",
       "        -2.02129021e-01, -1.23596932e+00, -7.73459946e-01,\n",
       "         4.48700977e-01, -1.48909203e+00, -3.49064570e-01,\n",
       "        -1.86050922e+00, -9.98158985e-01, -3.38987682e-01,\n",
       "         1.08126356e+00, -8.98872622e-01, -5.83377344e-01,\n",
       "        -9.91138866e-01, -8.98757848e-01,  1.16606554e-01,\n",
       "        -1.80806513e+00,  8.44979321e-01,  7.85196999e-01,\n",
       "         6.42225050e-01],\n",
       "       [-7.22104068e-01,  4.64362479e-01,  0.00000000e+00,\n",
       "         3.93335647e-01, -7.82746427e-01,  8.91267483e-01,\n",
       "         5.94571805e-01,  1.74037871e+00,  4.61536673e-01,\n",
       "        -1.25212927e+00, -8.14299864e-01,  8.43616049e-01,\n",
       "        -2.02129021e-01,  1.71981871e+00,  1.72390394e+00,\n",
       "         5.53107852e-01,  3.39617480e-01, -1.29821425e+00,\n",
       "         2.08804584e+00, -6.47488325e-01, -1.37235336e+00,\n",
       "        -5.39028930e-01,  1.61797072e+00,  2.61529739e+00,\n",
       "        -1.10696478e+00, -1.36053067e+00,  1.57287732e+00,\n",
       "         9.09326185e-01,  1.60041548e+00,  5.47601365e-01,\n",
       "         6.42225050e-01],\n",
       "       [ 6.71100435e-02, -2.52667819e-01,  0.00000000e+00,\n",
       "         1.21175891e-01,  9.54908820e-02, -5.59633071e-01,\n",
       "         1.70615281e-02, -3.45601804e-01, -2.53082060e-02,\n",
       "        -4.03912669e-01, -3.73570556e-01, -2.93450133e-01,\n",
       "        -7.01506602e-01, -3.01232935e-01,  3.03834281e-01,\n",
       "        -2.11299629e-02, -9.66603598e-01, -8.84482337e-01,\n",
       "        -6.12145091e-01, -2.96817666e-01, -3.61951364e-01,\n",
       "         7.14682402e-02, -1.21347804e+00,  1.01596002e+00,\n",
       "        -7.20878407e-01, -1.23459263e+00, -1.09491282e+00,\n",
       "         4.15255037e-01,  1.40894838e-03,  7.24100979e-02,\n",
       "         1.01894924e+00],\n",
       "       [-8.34848941e-01, -1.14895569e+00,  0.00000000e+00,\n",
       "         5.29415525e-01, -4.90000657e-01, -1.96907932e-01,\n",
       "         5.23856261e-01,  1.22872312e+00,  2.58684640e-01,\n",
       "         4.44303936e-01,  5.07888060e-01,  6.20661896e-01,\n",
       "        -4.51817812e-01,  1.16402950e+00,  1.03835307e+00,\n",
       "        -3.86554027e-01,  8.62105912e-01,  1.91429235e+00,\n",
       "        -4.43167625e-01,  6.67526649e-01,  1.49810685e+00,\n",
       "         4.44366512e-01,  4.49436311e-02,  1.97556244e+00,\n",
       "         9.00684345e-01,  1.24218889e+00, -5.68697334e-01,\n",
       "         2.02098627e+00,  5.80666600e-02, -2.83983353e-01,\n",
       "        -4.87947524e-01],\n",
       "       [ 1.79854917e-01,  1.18139278e+00,  0.00000000e+00,\n",
       "         1.21175891e-01,  2.41863767e-01, -9.22358209e-01,\n",
       "        -5.36540160e-02,  4.41560656e-01,  3.39825453e-01,\n",
       "         8.68412238e-01, -8.14299864e-01,  1.97049004e-01,\n",
       "         4.75597697e-02,  6.08240303e-01, -4.30684510e-01,\n",
       "        -9.60791842e-01,  1.82000137e+00,  6.73096621e-01,\n",
       "         1.76388499e+00,  2.24554462e+00,  2.37072676e+00,\n",
       "        -5.35728946e-01, -2.69661787e-01,  3.76225076e-01,\n",
       "         2.36781255e+00,  1.74594107e+00,  4.31811378e-02,\n",
       "         5.38772824e-01,  1.52496179e-01, -2.83983353e-01,\n",
       "         2.65500859e-01]])"
      ]
     },
     "execution_count": 15,
     "metadata": {},
     "output_type": "execute_result"
    }
   ],
   "source": [
    "# Visualize the scaled data created for X_train\n",
    "\n",
    "X_train[:10]"
   ]
  },
  {
   "cell_type": "markdown",
   "metadata": {
    "slideshow": {
     "slide_type": "slide"
    }
   },
   "source": [
    "# Random Forest\n",
    "\n",
    "#### A random forest is a meta estimator that fits a number of decision tree classifiers on various sub-samples of the dataset and uses averaging to improve the predictive accuracy and control over-fitting."
   ]
  },
  {
   "cell_type": "code",
   "execution_count": 16,
   "metadata": {
    "slideshow": {
     "slide_type": "fragment"
    }
   },
   "outputs": [],
   "source": [
    "# Create Random Forest model\n",
    "\n",
    "rfc = RandomForestClassifier(n_estimators=200)\n",
    "rfc.fit(X_train, y_train)\n",
    "pred_rfc = rfc.predict(X_test)"
   ]
  },
  {
   "cell_type": "code",
   "execution_count": 17,
   "metadata": {
    "slideshow": {
     "slide_type": "skip"
    }
   },
   "outputs": [
    {
     "data": {
      "text/plain": [
       "array([0, 0, 0, 0, 1, 1, 0, 1, 1, 1, 1, 0, 0, 0, 0, 0, 1, 1, 1, 1])"
      ]
     },
     "execution_count": 17,
     "metadata": {},
     "output_type": "execute_result"
    }
   ],
   "source": [
    "# Display the pred_rfc array\n",
    "\n",
    "pred_rfc[:20]"
   ]
  },
  {
   "cell_type": "code",
   "execution_count": 18,
   "metadata": {
    "slideshow": {
     "slide_type": "fragment"
    }
   },
   "outputs": [
    {
     "name": "stdout",
     "output_type": "stream",
     "text": [
      "              precision    recall  f1-score   support\n",
      "\n",
      "           0       0.96      1.00      0.98        51\n",
      "           1       1.00      0.95      0.97        40\n",
      "\n",
      "   micro avg       0.98      0.98      0.98        91\n",
      "   macro avg       0.98      0.97      0.98        91\n",
      "weighted avg       0.98      0.98      0.98        91\n",
      "\n",
      "[[51  0]\n",
      " [ 2 38]]\n"
     ]
    }
   ],
   "source": [
    "# See how well the model performed\n",
    "\n",
    "print(classification_report(y_test, pred_rfc))\n",
    "print(confusion_matrix(y_test, pred_rfc))"
   ]
  },
  {
   "cell_type": "markdown",
   "metadata": {
    "slideshow": {
     "slide_type": "subslide"
    }
   },
   "source": [
    "#### A confusion matrix is a table used to describe the performance of a classification model (or \"classifier\") on a set of test data for which the true values are known. The relative terminology can be confusing but generally it is used to visualize the number of true negatives (51 in our model), false positives (0 in our model), false negatives (1 in our model), and true positives (39 in our model).  So, the random forest model is slightly better at predicting true negatives than true positives but is highly accurate."
   ]
  },
  {
   "cell_type": "code",
   "execution_count": 19,
   "metadata": {
    "slideshow": {
     "slide_type": "fragment"
    }
   },
   "outputs": [
    {
     "data": {
      "text/plain": [
       "0.978021978021978"
      ]
     },
     "execution_count": 19,
     "metadata": {},
     "output_type": "execute_result"
    }
   ],
   "source": [
    "# Random Forest Accuracy Score\n",
    "\n",
    "from sklearn.metrics import accuracy_score\n",
    "cm = accuracy_score(y_test, pred_rfc)\n",
    "cm"
   ]
  },
  {
   "cell_type": "markdown",
   "metadata": {
    "slideshow": {
     "slide_type": "slide"
    }
   },
   "source": [
    "## SVM (Support Vector Machine) Classifier"
   ]
  },
  {
   "cell_type": "markdown",
   "metadata": {
    "slideshow": {
     "slide_type": "fragment"
    }
   },
   "source": [
    "#### A Support Vector Machine (SVM) is a discriminative classifier formally defined by a separating hyperplane. In other words, given labeled training data (supervised learning), the algorithm outputs an optimal hyperplane which categorizes new examples.\n",
    "\n",
    "#### SVM works better on smaller numbers, random forest does better with binned numbers, SVM is fastest and easiest to apply with mass data.  The difference between the two will eventually go away with mulitple runs."
   ]
  },
  {
   "cell_type": "code",
   "execution_count": 20,
   "metadata": {
    "slideshow": {
     "slide_type": "fragment"
    }
   },
   "outputs": [],
   "source": [
    "# Create SVM model\n",
    "\n",
    "clf=svm.SVC()\n",
    "clf.fit(X_train, y_train)\n",
    "pred_clf = clf.predict(X_test)"
   ]
  },
  {
   "cell_type": "code",
   "execution_count": 21,
   "metadata": {
    "slideshow": {
     "slide_type": "subslide"
    }
   },
   "outputs": [
    {
     "name": "stdout",
     "output_type": "stream",
     "text": [
      "              precision    recall  f1-score   support\n",
      "\n",
      "           0       0.94      0.98      0.96        51\n",
      "           1       0.97      0.93      0.95        40\n",
      "\n",
      "   micro avg       0.96      0.96      0.96        91\n",
      "   macro avg       0.96      0.95      0.96        91\n",
      "weighted avg       0.96      0.96      0.96        91\n",
      "\n",
      "[[50  1]\n",
      " [ 3 37]]\n"
     ]
    }
   ],
   "source": [
    "# See how well the model performed\n",
    "\n",
    "print(classification_report(y_test, pred_clf))\n",
    "print(confusion_matrix(y_test, pred_clf))"
   ]
  },
  {
   "cell_type": "code",
   "execution_count": 22,
   "metadata": {
    "slideshow": {
     "slide_type": "fragment"
    }
   },
   "outputs": [
    {
     "data": {
      "text/plain": [
       "0.9560439560439561"
      ]
     },
     "execution_count": 22,
     "metadata": {},
     "output_type": "execute_result"
    }
   ],
   "source": [
    "# SVM Accuracy Score\n",
    "\n",
    "svm = accuracy_score(y_test, pred_clf)\n",
    "svm"
   ]
  },
  {
   "cell_type": "markdown",
   "metadata": {
    "slideshow": {
     "slide_type": "slide"
    }
   },
   "source": [
    "## Neural Network"
   ]
  },
  {
   "cell_type": "markdown",
   "metadata": {
    "slideshow": {
     "slide_type": "fragment"
    }
   },
   "source": [
    "#### Multi-layer Perceptron (MLP) is a supervised learning algorithm that learns a function  by training on a dataset. Given a set of features and a target, it can learn a non-linear function approximator for either classification or regression. It is different from logistic regression, in that between the input and the output layer, there can be one or more non-linear layers, called hidden layers."
   ]
  },
  {
   "cell_type": "code",
   "execution_count": 23,
   "metadata": {
    "slideshow": {
     "slide_type": "fragment"
    }
   },
   "outputs": [],
   "source": [
    "# Use MLPClassifier to create neural network model\n",
    "\n",
    "mlpc = MLPClassifier(hidden_layer_sizes=(11,11,11), max_iter=500)\n",
    "mlpc.fit(X_train, y_train)\n",
    "pred_mlpc = mlpc.predict(X_test)"
   ]
  },
  {
   "cell_type": "code",
   "execution_count": 24,
   "metadata": {
    "slideshow": {
     "slide_type": "subslide"
    }
   },
   "outputs": [
    {
     "name": "stdout",
     "output_type": "stream",
     "text": [
      "              precision    recall  f1-score   support\n",
      "\n",
      "           0       0.94      0.96      0.95        51\n",
      "           1       0.95      0.93      0.94        40\n",
      "\n",
      "   micro avg       0.95      0.95      0.95        91\n",
      "   macro avg       0.95      0.94      0.94        91\n",
      "weighted avg       0.95      0.95      0.94        91\n",
      "\n",
      "[[49  2]\n",
      " [ 3 37]]\n"
     ]
    }
   ],
   "source": [
    "# See how well the model performed\n",
    "\n",
    "print(classification_report(y_test, pred_mlpc))\n",
    "print(confusion_matrix(y_test, pred_mlpc))"
   ]
  },
  {
   "cell_type": "code",
   "execution_count": 25,
   "metadata": {
    "slideshow": {
     "slide_type": "fragment"
    }
   },
   "outputs": [
    {
     "data": {
      "text/plain": [
       "0.945054945054945"
      ]
     },
     "execution_count": 25,
     "metadata": {},
     "output_type": "execute_result"
    }
   ],
   "source": [
    "# Neural Network Accuracy Score\n",
    "\n",
    "nn = accuracy_score(y_test, pred_mlpc)\n",
    "nn"
   ]
  },
  {
   "cell_type": "markdown",
   "metadata": {
    "slideshow": {
     "slide_type": "slide"
    }
   },
   "source": [
    "## Linear Regression Model"
   ]
  },
  {
   "cell_type": "markdown",
   "metadata": {
    "slideshow": {
     "slide_type": "fragment"
    }
   },
   "source": [
    "#### Linear Regression is a machine learning algorithm based on supervised learning. It performs a regression task. Regression models a target prediction value based on independent variables. It is mostly used for finding out the relationship between variables and forecasting."
   ]
  },
  {
   "cell_type": "code",
   "execution_count": 26,
   "metadata": {
    "slideshow": {
     "slide_type": "skip"
    }
   },
   "outputs": [
    {
     "data": {
      "text/html": [
       "<div>\n",
       "<style scoped>\n",
       "    .dataframe tbody tr th:only-of-type {\n",
       "        vertical-align: middle;\n",
       "    }\n",
       "\n",
       "    .dataframe tbody tr th {\n",
       "        vertical-align: top;\n",
       "    }\n",
       "\n",
       "    .dataframe thead th {\n",
       "        text-align: right;\n",
       "    }\n",
       "</style>\n",
       "<table border=\"1\" class=\"dataframe\">\n",
       "  <thead>\n",
       "    <tr style=\"text-align: right;\">\n",
       "      <th></th>\n",
       "      <th>Rk</th>\n",
       "      <th>Team</th>\n",
       "      <th>AvAge</th>\n",
       "      <th>GP</th>\n",
       "      <th>W</th>\n",
       "      <th>L</th>\n",
       "      <th>OL</th>\n",
       "      <th>PTS</th>\n",
       "      <th>PTS%</th>\n",
       "      <th>GF</th>\n",
       "      <th>...</th>\n",
       "      <th>PK%</th>\n",
       "      <th>SH</th>\n",
       "      <th>SHA</th>\n",
       "      <th>PIM/G</th>\n",
       "      <th>oPIM/G</th>\n",
       "      <th>S</th>\n",
       "      <th>S%</th>\n",
       "      <th>SA</th>\n",
       "      <th>SV%</th>\n",
       "      <th>SO</th>\n",
       "    </tr>\n",
       "  </thead>\n",
       "  <tbody>\n",
       "    <tr>\n",
       "      <th>0</th>\n",
       "      <td>1</td>\n",
       "      <td>San Jose Sharks*</td>\n",
       "      <td>28.7</td>\n",
       "      <td>82</td>\n",
       "      <td>53</td>\n",
       "      <td>18</td>\n",
       "      <td>11</td>\n",
       "      <td>117</td>\n",
       "      <td>0.713</td>\n",
       "      <td>251</td>\n",
       "      <td>...</td>\n",
       "      <td>83.22</td>\n",
       "      <td>12</td>\n",
       "      <td>11</td>\n",
       "      <td>12.8</td>\n",
       "      <td>14.1</td>\n",
       "      <td>2720</td>\n",
       "      <td>9.2</td>\n",
       "      <td>2228</td>\n",
       "      <td>0.911</td>\n",
       "      <td>9</td>\n",
       "    </tr>\n",
       "    <tr>\n",
       "      <th>1</th>\n",
       "      <td>2</td>\n",
       "      <td>Boston Bruins*</td>\n",
       "      <td>28.4</td>\n",
       "      <td>82</td>\n",
       "      <td>53</td>\n",
       "      <td>19</td>\n",
       "      <td>10</td>\n",
       "      <td>116</td>\n",
       "      <td>0.707</td>\n",
       "      <td>270</td>\n",
       "      <td>...</td>\n",
       "      <td>82.35</td>\n",
       "      <td>8</td>\n",
       "      <td>7</td>\n",
       "      <td>12.5</td>\n",
       "      <td>12.8</td>\n",
       "      <td>2482</td>\n",
       "      <td>10.9</td>\n",
       "      <td>2524</td>\n",
       "      <td>0.925</td>\n",
       "      <td>7</td>\n",
       "    </tr>\n",
       "    <tr>\n",
       "      <th>2</th>\n",
       "      <td>3</td>\n",
       "      <td>Detroit Red Wings*</td>\n",
       "      <td>31.2</td>\n",
       "      <td>82</td>\n",
       "      <td>51</td>\n",
       "      <td>21</td>\n",
       "      <td>10</td>\n",
       "      <td>112</td>\n",
       "      <td>0.683</td>\n",
       "      <td>289</td>\n",
       "      <td>...</td>\n",
       "      <td>78.29</td>\n",
       "      <td>6</td>\n",
       "      <td>4</td>\n",
       "      <td>10.0</td>\n",
       "      <td>10.9</td>\n",
       "      <td>2965</td>\n",
       "      <td>9.7</td>\n",
       "      <td>2274</td>\n",
       "      <td>0.894</td>\n",
       "      <td>8</td>\n",
       "    </tr>\n",
       "    <tr>\n",
       "      <th>3</th>\n",
       "      <td>4</td>\n",
       "      <td>Washington Capitals*</td>\n",
       "      <td>27.2</td>\n",
       "      <td>82</td>\n",
       "      <td>50</td>\n",
       "      <td>24</td>\n",
       "      <td>8</td>\n",
       "      <td>108</td>\n",
       "      <td>0.659</td>\n",
       "      <td>268</td>\n",
       "      <td>...</td>\n",
       "      <td>80.62</td>\n",
       "      <td>7</td>\n",
       "      <td>11</td>\n",
       "      <td>12.7</td>\n",
       "      <td>11.4</td>\n",
       "      <td>2747</td>\n",
       "      <td>9.8</td>\n",
       "      <td>2418</td>\n",
       "      <td>0.901</td>\n",
       "      <td>2</td>\n",
       "    </tr>\n",
       "    <tr>\n",
       "      <th>4</th>\n",
       "      <td>5</td>\n",
       "      <td>New Jersey Devils*</td>\n",
       "      <td>30.3</td>\n",
       "      <td>82</td>\n",
       "      <td>51</td>\n",
       "      <td>27</td>\n",
       "      <td>4</td>\n",
       "      <td>106</td>\n",
       "      <td>0.646</td>\n",
       "      <td>238</td>\n",
       "      <td>...</td>\n",
       "      <td>79.94</td>\n",
       "      <td>12</td>\n",
       "      <td>4</td>\n",
       "      <td>12.9</td>\n",
       "      <td>13.1</td>\n",
       "      <td>2698</td>\n",
       "      <td>8.8</td>\n",
       "      <td>2415</td>\n",
       "      <td>0.914</td>\n",
       "      <td>7</td>\n",
       "    </tr>\n",
       "    <tr>\n",
       "      <th>5</th>\n",
       "      <td>6</td>\n",
       "      <td>Chicago Blackhawks*</td>\n",
       "      <td>25.9</td>\n",
       "      <td>82</td>\n",
       "      <td>46</td>\n",
       "      <td>24</td>\n",
       "      <td>12</td>\n",
       "      <td>104</td>\n",
       "      <td>0.634</td>\n",
       "      <td>260</td>\n",
       "      <td>...</td>\n",
       "      <td>80.61</td>\n",
       "      <td>10</td>\n",
       "      <td>6</td>\n",
       "      <td>14.1</td>\n",
       "      <td>15.2</td>\n",
       "      <td>2683</td>\n",
       "      <td>9.7</td>\n",
       "      <td>2344</td>\n",
       "      <td>0.911</td>\n",
       "      <td>6</td>\n",
       "    </tr>\n",
       "    <tr>\n",
       "      <th>6</th>\n",
       "      <td>7</td>\n",
       "      <td>Vancouver Canucks*</td>\n",
       "      <td>27.9</td>\n",
       "      <td>82</td>\n",
       "      <td>45</td>\n",
       "      <td>27</td>\n",
       "      <td>10</td>\n",
       "      <td>100</td>\n",
       "      <td>0.610</td>\n",
       "      <td>243</td>\n",
       "      <td>...</td>\n",
       "      <td>81.40</td>\n",
       "      <td>7</td>\n",
       "      <td>5</td>\n",
       "      <td>16.5</td>\n",
       "      <td>16.3</td>\n",
       "      <td>2335</td>\n",
       "      <td>10.4</td>\n",
       "      <td>2392</td>\n",
       "      <td>0.911</td>\n",
       "      <td>10</td>\n",
       "    </tr>\n",
       "    <tr>\n",
       "      <th>7</th>\n",
       "      <td>8</td>\n",
       "      <td>Pittsburgh Penguins*</td>\n",
       "      <td>26.6</td>\n",
       "      <td>82</td>\n",
       "      <td>45</td>\n",
       "      <td>28</td>\n",
       "      <td>9</td>\n",
       "      <td>99</td>\n",
       "      <td>0.604</td>\n",
       "      <td>258</td>\n",
       "      <td>...</td>\n",
       "      <td>82.71</td>\n",
       "      <td>7</td>\n",
       "      <td>13</td>\n",
       "      <td>13.6</td>\n",
       "      <td>14.2</td>\n",
       "      <td>2381</td>\n",
       "      <td>10.8</td>\n",
       "      <td>2484</td>\n",
       "      <td>0.906</td>\n",
       "      <td>4</td>\n",
       "    </tr>\n",
       "    <tr>\n",
       "      <th>8</th>\n",
       "      <td>9</td>\n",
       "      <td>Philadelphia Flyers*</td>\n",
       "      <td>27.0</td>\n",
       "      <td>82</td>\n",
       "      <td>44</td>\n",
       "      <td>27</td>\n",
       "      <td>11</td>\n",
       "      <td>99</td>\n",
       "      <td>0.604</td>\n",
       "      <td>260</td>\n",
       "      <td>...</td>\n",
       "      <td>82.95</td>\n",
       "      <td>16</td>\n",
       "      <td>1</td>\n",
       "      <td>17.5</td>\n",
       "      <td>14.8</td>\n",
       "      <td>2441</td>\n",
       "      <td>10.7</td>\n",
       "      <td>2668</td>\n",
       "      <td>0.913</td>\n",
       "      <td>3</td>\n",
       "    </tr>\n",
       "    <tr>\n",
       "      <th>9</th>\n",
       "      <td>10</td>\n",
       "      <td>Calgary Flames*</td>\n",
       "      <td>28.9</td>\n",
       "      <td>82</td>\n",
       "      <td>46</td>\n",
       "      <td>30</td>\n",
       "      <td>6</td>\n",
       "      <td>98</td>\n",
       "      <td>0.598</td>\n",
       "      <td>251</td>\n",
       "      <td>...</td>\n",
       "      <td>83.38</td>\n",
       "      <td>6</td>\n",
       "      <td>15</td>\n",
       "      <td>15.8</td>\n",
       "      <td>15.6</td>\n",
       "      <td>2643</td>\n",
       "      <td>9.5</td>\n",
       "      <td>2441</td>\n",
       "      <td>0.899</td>\n",
       "      <td>4</td>\n",
       "    </tr>\n",
       "  </tbody>\n",
       "</table>\n",
       "<p>10 rows × 33 columns</p>\n",
       "</div>"
      ],
      "text/plain": [
       "   Rk                  Team  AvAge  GP   W   L  OL  PTS   PTS%   GF  ...  \\\n",
       "0   1      San Jose Sharks*   28.7  82  53  18  11  117  0.713  251  ...   \n",
       "1   2        Boston Bruins*   28.4  82  53  19  10  116  0.707  270  ...   \n",
       "2   3    Detroit Red Wings*   31.2  82  51  21  10  112  0.683  289  ...   \n",
       "3   4  Washington Capitals*   27.2  82  50  24   8  108  0.659  268  ...   \n",
       "4   5    New Jersey Devils*   30.3  82  51  27   4  106  0.646  238  ...   \n",
       "5   6   Chicago Blackhawks*   25.9  82  46  24  12  104  0.634  260  ...   \n",
       "6   7    Vancouver Canucks*   27.9  82  45  27  10  100  0.610  243  ...   \n",
       "7   8  Pittsburgh Penguins*   26.6  82  45  28   9   99  0.604  258  ...   \n",
       "8   9  Philadelphia Flyers*   27.0  82  44  27  11   99  0.604  260  ...   \n",
       "9  10       Calgary Flames*   28.9  82  46  30   6   98  0.598  251  ...   \n",
       "\n",
       "     PK%  SH  SHA  PIM/G  oPIM/G     S    S%    SA    SV%  SO  \n",
       "0  83.22  12   11   12.8    14.1  2720   9.2  2228  0.911   9  \n",
       "1  82.35   8    7   12.5    12.8  2482  10.9  2524  0.925   7  \n",
       "2  78.29   6    4   10.0    10.9  2965   9.7  2274  0.894   8  \n",
       "3  80.62   7   11   12.7    11.4  2747   9.8  2418  0.901   2  \n",
       "4  79.94  12    4   12.9    13.1  2698   8.8  2415  0.914   7  \n",
       "5  80.61  10    6   14.1    15.2  2683   9.7  2344  0.911   6  \n",
       "6  81.40   7    5   16.5    16.3  2335  10.4  2392  0.911  10  \n",
       "7  82.71   7   13   13.6    14.2  2381  10.8  2484  0.906   4  \n",
       "8  82.95  16    1   17.5    14.8  2441  10.7  2668  0.913   3  \n",
       "9  83.38   6   15   15.8    15.6  2643   9.5  2441  0.899   4  \n",
       "\n",
       "[10 rows x 33 columns]"
      ]
     },
     "execution_count": 26,
     "metadata": {},
     "output_type": "execute_result"
    }
   ],
   "source": [
    "# Read the csv file into a pandas DataFrame\n",
    "\n",
    "season = pd.concat([pd.read_csv(f) for f in glob.glob('nhl_season_data/*.csv')], \n",
    "                             ignore_index = True)\n",
    "\n",
    "season.head(10)"
   ]
  },
  {
   "cell_type": "code",
   "execution_count": 27,
   "metadata": {
    "slideshow": {
     "slide_type": "skip"
    }
   },
   "outputs": [],
   "source": [
    "# Drop Team column\n",
    "\n",
    "season_clean = season.drop(columns='Team')"
   ]
  },
  {
   "cell_type": "code",
   "execution_count": 28,
   "metadata": {
    "slideshow": {
     "slide_type": "skip"
    }
   },
   "outputs": [],
   "source": [
    "# Assign the data to X and y, x predicts y\n",
    "\n",
    "X = season_clean.drop('PTS', axis = 1)\n",
    "y = season_clean['PTS']"
   ]
  },
  {
   "cell_type": "code",
   "execution_count": 29,
   "metadata": {
    "slideshow": {
     "slide_type": "skip"
    }
   },
   "outputs": [],
   "source": [
    "# Use train_test_split to create training and testing data\n",
    "\n",
    "from sklearn.model_selection import train_test_split\n",
    "\n",
    "X_train, X_test, y_train, y_test = train_test_split(X, y, test_size=0.3, random_state=42)"
   ]
  },
  {
   "cell_type": "code",
   "execution_count": 30,
   "metadata": {
    "slideshow": {
     "slide_type": "skip"
    }
   },
   "outputs": [],
   "source": [
    "# Applying standard scaling to get optimized result\n",
    "\n",
    "sc = StandardScaler()\n",
    "X_train = sc.fit_transform(X_train)\n",
    "X_test = sc.transform(X_test)"
   ]
  },
  {
   "cell_type": "code",
   "execution_count": 31,
   "metadata": {
    "slideshow": {
     "slide_type": "skip"
    }
   },
   "outputs": [],
   "source": [
    "# Create the model using LinearRegression\n",
    "\n",
    "model = LinearRegression()"
   ]
  },
  {
   "cell_type": "code",
   "execution_count": 32,
   "metadata": {
    "slideshow": {
     "slide_type": "skip"
    }
   },
   "outputs": [],
   "source": [
    "# Fit the model to the training data and calculate the scores for the training and testing data\n",
    "\n",
    "model.fit(X_train, y_train)\n",
    "pred_lrm = model.predict(X_test)"
   ]
  },
  {
   "cell_type": "code",
   "execution_count": 33,
   "metadata": {
    "slideshow": {
     "slide_type": "skip"
    }
   },
   "outputs": [
    {
     "data": {
      "text/plain": [
       "array([-3.54235883e-15, -1.77635684e-15,  1.09690035e-13,  6.85129129e+00,\n",
       "       -7.29422748e+00, -1.86579620e-01,  1.65071775e-13,  2.91729861e-14,\n",
       "        1.01972352e-13, -3.65656371e-15,  4.21026775e-15,  4.22266433e-14,\n",
       "       -2.26555886e-15, -8.41973042e-14,  5.20032896e-15, -9.17648224e-15,\n",
       "       -3.17354302e-16,  1.81799020e-15,  1.11022302e-15, -4.77395901e-15,\n",
       "       -2.98372438e-16, -7.77156117e-16, -5.55111512e-16, -2.55351296e-15,\n",
       "        8.74300632e-16, -7.62410968e-16,  1.22124533e-15,  2.22044605e-16,\n",
       "        1.99840144e-15, -2.99760217e-15, -1.66533454e-15])"
      ]
     },
     "execution_count": 33,
     "metadata": {},
     "output_type": "execute_result"
    }
   ],
   "source": [
    "# Determining the features that effect the model the most\n",
    "\n",
    "model.coef_"
   ]
  },
  {
   "cell_type": "markdown",
   "metadata": {
    "slideshow": {
     "slide_type": "skip"
    }
   },
   "source": [
    "#### Indices 3, 4, and 5 have the strongest impact on the model.  These indices correspond to wins, losses and overtime losses respectively."
   ]
  },
  {
   "cell_type": "code",
   "execution_count": 34,
   "metadata": {
    "slideshow": {
     "slide_type": "skip"
    }
   },
   "outputs": [
    {
     "name": "stdout",
     "output_type": "stream",
     "text": [
      "Training Score: 1.0\n",
      "Testing Score: 1.0\n"
     ]
    }
   ],
   "source": [
    "# Print Training and Test scores\n",
    "\n",
    "training_score = model.score(X_train, y_train)\n",
    "testing_score = model.score(X_test, y_test)\n",
    "\n",
    "print(f\"Training Score: {training_score}\")\n",
    "print(f\"Testing Score: {testing_score}\")"
   ]
  },
  {
   "cell_type": "code",
   "execution_count": 35,
   "metadata": {
    "slideshow": {
     "slide_type": "skip"
    }
   },
   "outputs": [
    {
     "data": {
      "image/png": "[encoded data removed]",
      "text/plain": [
       "<Figure size 576x396 with 2 Axes>"
      ]
     },
     "metadata": {},
     "output_type": "display_data"
    }
   ],
   "source": [
    " # Plot the Residuals for Ridge Model\n",
    "    \n",
    "from sklearn.linear_model import Ridge\n",
    "from yellowbrick.regressor import ResidualsPlot\n",
    "\n",
    "# Instantiate the linear model and visualizer\n",
    "# Ridge helps prevent over-fitting\n",
    "\n",
    "ridge = Ridge()\n",
    "visualizer = ResidualsPlot(ridge)\n",
    "\n",
    "visualizer.fit(X_train, y_train)  \n",
    "visualizer.score(X_test, y_test)  \n",
    "visualizer.poof()                 "
   ]
  },
  {
   "cell_type": "code",
   "execution_count": 36,
   "metadata": {
    "slideshow": {
     "slide_type": "skip"
    }
   },
   "outputs": [
    {
     "name": "stdout",
     "output_type": "stream",
     "text": [
      "MSE: 2.1082524412060448e-29, R2: 1.0\n"
     ]
    }
   ],
   "source": [
    "# Print mean squared error and R2\n",
    "\n",
    "from sklearn.metrics import mean_squared_error\n",
    "\n",
    "predictions = model.predict(X_test)\n",
    "MSE = mean_squared_error(y_test, predictions)\n",
    "r2 = model.score(X_test, y_test)\n",
    "\n",
    "print(f\"MSE: {MSE}, R2: {r2}\")"
   ]
  },
  {
   "cell_type": "code",
   "execution_count": 37,
   "metadata": {
    "slideshow": {
     "slide_type": "skip"
    }
   },
   "outputs": [
    {
     "data": {
      "text/plain": [
       "array([87.])"
      ]
     },
     "execution_count": 37,
     "metadata": {},
     "output_type": "execute_result"
    }
   ],
   "source": [
    "# Predict the 2016 Wild Score\n",
    "\n",
    "X_wild = [[17,28,82,38,33,11,0.53,213,204,3,2,0.13,0.01,5.09,158,153,48,259,18.53,45,\n",
    "           204,77.94,7,6,6.6,8.6,2374,9,2347,0.913,8]]\n",
    "X_wild = sc.transform(X_wild)\n",
    "y_wild = model.predict(X_wild)\n",
    "y_wild"
   ]
  },
  {
   "cell_type": "markdown",
   "metadata": {
    "slideshow": {
     "slide_type": "subslide"
    }
   },
   "source": [
    "## Linear Regression Using Goals For & Against"
   ]
  },
  {
   "cell_type": "code",
   "execution_count": 38,
   "metadata": {
    "slideshow": {
     "slide_type": "fragment"
    }
   },
   "outputs": [],
   "source": [
    "# Assign the data to X and y, x predicts y\n",
    "\n",
    "X = season_clean[['GF', 'GA']]\n",
    "y = season_clean['PTS']"
   ]
  },
  {
   "cell_type": "code",
   "execution_count": 39,
   "metadata": {
    "slideshow": {
     "slide_type": "skip"
    }
   },
   "outputs": [],
   "source": [
    "# Use train_test_split to create training and testing data\n",
    "\n",
    "from sklearn.model_selection import train_test_split\n",
    "\n",
    "X_train, X_test, y_train, y_test = train_test_split(X, y, test_size=0.3, random_state=42)"
   ]
  },
  {
   "cell_type": "code",
   "execution_count": 40,
   "metadata": {
    "slideshow": {
     "slide_type": "skip"
    }
   },
   "outputs": [],
   "source": [
    "# Applying standard scaling to get optimized result\n",
    "\n",
    "sc = StandardScaler()\n",
    "X_train = sc.fit_transform(X_train)\n",
    "X_test = sc.transform(X_test)"
   ]
  },
  {
   "cell_type": "code",
   "execution_count": 41,
   "metadata": {
    "slideshow": {
     "slide_type": "skip"
    }
   },
   "outputs": [],
   "source": [
    "# Create the model using LinearRegression\n",
    "\n",
    "model = LinearRegression()"
   ]
  },
  {
   "cell_type": "code",
   "execution_count": 42,
   "metadata": {
    "slideshow": {
     "slide_type": "skip"
    }
   },
   "outputs": [],
   "source": [
    "# Fit the model to the training data and calculate the scores for the training and testing data\n",
    "\n",
    "model.fit(X_train, y_train)\n",
    "pred_lrm = model.predict(X_test)"
   ]
  },
  {
   "cell_type": "code",
   "execution_count": 43,
   "metadata": {
    "slideshow": {
     "slide_type": "skip"
    }
   },
   "outputs": [
    {
     "data": {
      "text/plain": [
       "array([ 8.69894109, -8.74905836])"
      ]
     },
     "execution_count": 43,
     "metadata": {},
     "output_type": "execute_result"
    }
   ],
   "source": [
    "# Determining the features that effect the model the most\n",
    "\n",
    "model.coef_"
   ]
  },
  {
   "cell_type": "code",
   "execution_count": 44,
   "metadata": {
    "slideshow": {
     "slide_type": "fragment"
    }
   },
   "outputs": [
    {
     "name": "stdout",
     "output_type": "stream",
     "text": [
      "Training Score: 0.9113553075585127\n",
      "Testing Score: 0.8967884572159035\n"
     ]
    }
   ],
   "source": [
    "# Print Training and Test scores\n",
    "\n",
    "training_score = model.score(X_train, y_train)\n",
    "testing_score = model.score(X_test, y_test)\n",
    "\n",
    "print(f\"Training Score: {training_score}\")\n",
    "print(f\"Testing Score: {testing_score}\")"
   ]
  },
  {
   "cell_type": "code",
   "execution_count": 45,
   "metadata": {
    "slideshow": {
     "slide_type": "subslide"
    }
   },
   "outputs": [
    {
     "data": {
      "image/png": "[encoded data removed]",
      "text/plain": [
       "<Figure size 576x396 with 2 Axes>"
      ]
     },
     "metadata": {},
     "output_type": "display_data"
    }
   ],
   "source": [
    " # Plot the Residuals for Ridge Model\n",
    "    \n",
    "from sklearn.linear_model import Ridge\n",
    "from yellowbrick.regressor import ResidualsPlot\n",
    "\n",
    "# Instantiate the linear model and visualizer\n",
    "# Ridge helps prevent over-fitting\n",
    "\n",
    "ridge = Ridge()\n",
    "visualizer = ResidualsPlot(ridge)\n",
    "\n",
    "visualizer.fit(X_train, y_train)  \n",
    "visualizer.score(X_test, y_test)  \n",
    "visualizer.poof()  "
   ]
  },
  {
   "cell_type": "code",
   "execution_count": 46,
   "metadata": {
    "slideshow": {
     "slide_type": "subslide"
    }
   },
   "outputs": [
    {
     "name": "stdout",
     "output_type": "stream",
     "text": [
      "MSE: 17.60780693883132, R2: 0.8967884572159035\n"
     ]
    }
   ],
   "source": [
    "# Print mean squared error and R2\n",
    "\n",
    "from sklearn.metrics import mean_squared_error\n",
    "\n",
    "predictions = model.predict(X_test)\n",
    "MSE = mean_squared_error(y_test, predictions)\n",
    "r2 = model.score(X_test, y_test)\n",
    "\n",
    "print(f\"MSE: {MSE}, R2: {r2}\")"
   ]
  },
  {
   "cell_type": "code",
   "execution_count": 47,
   "metadata": {
    "slideshow": {
     "slide_type": "skip"
    }
   },
   "outputs": [
    {
     "data": {
      "text/plain": [
       "array([95.07405085])"
      ]
     },
     "execution_count": 47,
     "metadata": {},
     "output_type": "execute_result"
    }
   ],
   "source": [
    "# Predict the 2016 Wild Score\n",
    "\n",
    "X_wild = [[213,204]]\n",
    "X_wild = sc.transform(X_wild)\n",
    "y_wild = model.predict(X_wild)\n",
    "y_wild"
   ]
  },
  {
   "cell_type": "markdown",
   "metadata": {
    "slideshow": {
     "slide_type": "skip"
    }
   },
   "source": [
    "## Linear Regression Using W, L, OL"
   ]
  },
  {
   "cell_type": "code",
   "execution_count": 48,
   "metadata": {
    "slideshow": {
     "slide_type": "skip"
    }
   },
   "outputs": [],
   "source": [
    "# Assign the data to X and y, x predicts y\n",
    "\n",
    "X = season_clean[['W', 'L', 'OL']]\n",
    "y = season_clean['PTS']"
   ]
  },
  {
   "cell_type": "code",
   "execution_count": 49,
   "metadata": {
    "slideshow": {
     "slide_type": "skip"
    }
   },
   "outputs": [],
   "source": [
    "# Use train_test_split to create training and testing data\n",
    "\n",
    "from sklearn.model_selection import train_test_split\n",
    "\n",
    "X_train, X_test, y_train, y_test = train_test_split(X, y, test_size=0.3, random_state=42)"
   ]
  },
  {
   "cell_type": "code",
   "execution_count": 50,
   "metadata": {
    "slideshow": {
     "slide_type": "skip"
    }
   },
   "outputs": [],
   "source": [
    "# Applying standard scaling to get optimized result\n",
    "\n",
    "sc = StandardScaler()\n",
    "X_train = sc.fit_transform(X_train)\n",
    "X_test = sc.transform(X_test)"
   ]
  },
  {
   "cell_type": "code",
   "execution_count": 51,
   "metadata": {
    "slideshow": {
     "slide_type": "skip"
    }
   },
   "outputs": [],
   "source": [
    "# Create the model using LinearRegression\n",
    "\n",
    "model = LinearRegression()"
   ]
  },
  {
   "cell_type": "code",
   "execution_count": 52,
   "metadata": {
    "slideshow": {
     "slide_type": "skip"
    }
   },
   "outputs": [],
   "source": [
    "# Fit the model to the training data and calculate the scores for the training and testing data\n",
    "\n",
    "model.fit(X_train, y_train)\n",
    "pred_lrm = model.predict(X_test)"
   ]
  },
  {
   "cell_type": "code",
   "execution_count": 53,
   "metadata": {
    "slideshow": {
     "slide_type": "skip"
    }
   },
   "outputs": [
    {
     "data": {
      "text/plain": [
       "array([ 6.85129129, -7.29422748, -0.18657962])"
      ]
     },
     "execution_count": 53,
     "metadata": {},
     "output_type": "execute_result"
    }
   ],
   "source": [
    "# Determining the features that effect the model the most\n",
    "\n",
    "model.coef_"
   ]
  },
  {
   "cell_type": "code",
   "execution_count": 54,
   "metadata": {
    "slideshow": {
     "slide_type": "skip"
    }
   },
   "outputs": [
    {
     "name": "stdout",
     "output_type": "stream",
     "text": [
      "Training Score: 1.0\n",
      "Testing Score: 1.0\n"
     ]
    }
   ],
   "source": [
    "# Print Training and Test scores\n",
    "\n",
    "training_score = model.score(X_train, y_train)\n",
    "testing_score = model.score(X_test, y_test)\n",
    "\n",
    "print(f\"Training Score: {training_score}\")\n",
    "print(f\"Testing Score: {testing_score}\")"
   ]
  },
  {
   "cell_type": "code",
   "execution_count": 55,
   "metadata": {
    "slideshow": {
     "slide_type": "skip"
    }
   },
   "outputs": [
    {
     "data": {
      "image/png": "[encoded data removed]",
      "text/plain": [
       "<Figure size 576x396 with 2 Axes>"
      ]
     },
     "metadata": {},
     "output_type": "display_data"
    }
   ],
   "source": [
    " # Plot the Residuals for Ridge Model\n",
    "    \n",
    "from sklearn.linear_model import Ridge\n",
    "from yellowbrick.regressor import ResidualsPlot\n",
    "\n",
    "# Instantiate the linear model and visualizer\n",
    "# Ridge helps prevent over-fitting\n",
    "\n",
    "ridge = Ridge()\n",
    "visualizer = ResidualsPlot(ridge)\n",
    "\n",
    "visualizer.fit(X_train, y_train)  \n",
    "visualizer.score(X_test, y_test)  \n",
    "visualizer.poof()  "
   ]
  },
  {
   "cell_type": "code",
   "execution_count": 56,
   "metadata": {
    "slideshow": {
     "slide_type": "skip"
    }
   },
   "outputs": [
    {
     "name": "stdout",
     "output_type": "stream",
     "text": [
      "MSE: 7.878206490822588e-29, R2: 1.0\n"
     ]
    }
   ],
   "source": [
    "# Print mean squared error and R2\n",
    "\n",
    "from sklearn.metrics import mean_squared_error\n",
    "\n",
    "predictions = model.predict(X_test)\n",
    "MSE = mean_squared_error(y_test, predictions)\n",
    "r2 = model.score(X_test, y_test)\n",
    "\n",
    "print(f\"MSE: {MSE}, R2: {r2}\")"
   ]
  },
  {
   "cell_type": "code",
   "execution_count": 57,
   "metadata": {
    "slideshow": {
     "slide_type": "skip"
    }
   },
   "outputs": [
    {
     "data": {
      "text/plain": [
       "array([87.])"
      ]
     },
     "execution_count": 57,
     "metadata": {},
     "output_type": "execute_result"
    }
   ],
   "source": [
    "# Predict the 2016 Wild Score\n",
    "\n",
    "X_wild = [[38,33,11]]\n",
    "X_wild = sc.transform(X_wild)\n",
    "y_wild = model.predict(X_wild)\n",
    "y_wild"
   ]
  },
  {
   "cell_type": "markdown",
   "metadata": {
    "slideshow": {
     "slide_type": "slide"
    }
   },
   "source": [
    "# Linear Regression Using SOS, PPA, PPOA, and SV%\n",
    "\n",
    "### Here we use only Strength of schedule, Power Play Goals Against and Power Play Opportunities Against to test how accurate the linear regression model is."
   ]
  },
  {
   "cell_type": "code",
   "execution_count": 58,
   "metadata": {
    "slideshow": {
     "slide_type": "skip"
    }
   },
   "outputs": [
    {
     "data": {
      "text/plain": [
       "['Rk',\n",
       " 'AvAge',\n",
       " 'GP',\n",
       " 'W',\n",
       " 'L',\n",
       " 'OL',\n",
       " 'PTS',\n",
       " 'PTS%',\n",
       " 'GF',\n",
       " 'GA',\n",
       " 'SOW',\n",
       " 'SOL',\n",
       " 'SRS',\n",
       " 'SOS',\n",
       " 'TG/G',\n",
       " 'EVGF',\n",
       " 'EVGA',\n",
       " 'PP',\n",
       " 'PPO',\n",
       " 'PP%',\n",
       " 'PPA',\n",
       " 'PPOA',\n",
       " 'PK%',\n",
       " 'SH',\n",
       " 'SHA',\n",
       " 'PIM/G',\n",
       " 'oPIM/G',\n",
       " 'S',\n",
       " 'S%',\n",
       " 'SA',\n",
       " 'SV%',\n",
       " 'SO']"
      ]
     },
     "execution_count": 58,
     "metadata": {},
     "output_type": "execute_result"
    }
   ],
   "source": [
    "# View the dataframe columns to determine features\n",
    "\n",
    "list(season_clean)"
   ]
  },
  {
   "cell_type": "code",
   "execution_count": 59,
   "metadata": {
    "slideshow": {
     "slide_type": "fragment"
    }
   },
   "outputs": [],
   "source": [
    "# Assign the data to X and y, x predicts y\n",
    "# SRS: Simple Rating System, PPA: Power Play Goals Against, PPOA: Power Play, SV%: Save Percentage\n",
    "\n",
    "X = season_clean[['SOS', 'PPA', 'PPOA', 'SV%']]\n",
    "y = season_clean['PTS']"
   ]
  },
  {
   "cell_type": "code",
   "execution_count": 60,
   "metadata": {
    "slideshow": {
     "slide_type": "skip"
    }
   },
   "outputs": [],
   "source": [
    "# Use train_test_split to create training and testing data\n",
    "\n",
    "from sklearn.model_selection import train_test_split\n",
    "\n",
    "X_train, X_test, y_train, y_test = train_test_split(X, y, test_size=0.3, random_state=42)"
   ]
  },
  {
   "cell_type": "code",
   "execution_count": 61,
   "metadata": {
    "slideshow": {
     "slide_type": "skip"
    }
   },
   "outputs": [],
   "source": [
    "# Applying standard scaling to get optimized result\n",
    "\n",
    "sc = StandardScaler()\n",
    "X_train = sc.fit_transform(X_train)\n",
    "X_test = sc.transform(X_test)"
   ]
  },
  {
   "cell_type": "code",
   "execution_count": 62,
   "metadata": {
    "slideshow": {
     "slide_type": "skip"
    }
   },
   "outputs": [],
   "source": [
    "# Create the model using LinearRegression\n",
    "\n",
    "model = LinearRegression()\n"
   ]
  },
  {
   "cell_type": "code",
   "execution_count": 63,
   "metadata": {
    "slideshow": {
     "slide_type": "skip"
    }
   },
   "outputs": [],
   "source": [
    "# Fit the model to the training data and calculate the scores for the training and testing data\n",
    "\n",
    "model.fit(X_train, y_train)\n",
    "pred_lrm = model.predict(X_test)"
   ]
  },
  {
   "cell_type": "code",
   "execution_count": 64,
   "metadata": {
    "slideshow": {
     "slide_type": "subslide"
    }
   },
   "outputs": [
    {
     "data": {
      "text/plain": [
       "array([-4.57680511, -3.84771811,  2.11631574,  3.73821381])"
      ]
     },
     "execution_count": 64,
     "metadata": {},
     "output_type": "execute_result"
    }
   ],
   "source": [
    "# Determining the features that effect the model the most.\n",
    "\n",
    "model.coef_"
   ]
  },
  {
   "cell_type": "code",
   "execution_count": 65,
   "metadata": {
    "slideshow": {
     "slide_type": "fragment"
    }
   },
   "outputs": [
    {
     "name": "stdout",
     "output_type": "stream",
     "text": [
      "Training Score: 0.38645601162667576\n",
      "Testing Score: 0.4540841242646563\n"
     ]
    }
   ],
   "source": [
    "# Print Training and Test scores\n",
    "\n",
    "training_score = model.score(X_train, y_train)\n",
    "testing_score = model.score(X_test, y_test)\n",
    "\n",
    "print(f\"Training Score: {training_score}\")\n",
    "print(f\"Testing Score: {testing_score}\")"
   ]
  },
  {
   "cell_type": "code",
   "execution_count": 66,
   "metadata": {
    "slideshow": {
     "slide_type": "subslide"
    }
   },
   "outputs": [
    {
     "data": {
      "image/png": "[encoded data removed]",
      "text/plain": [
       "<Figure size 576x396 with 2 Axes>"
      ]
     },
     "metadata": {},
     "output_type": "display_data"
    }
   ],
   "source": [
    " # Plot the Residuals for Ridge Model\n",
    "    \n",
    "from sklearn.linear_model import Ridge\n",
    "from yellowbrick.regressor import ResidualsPlot\n",
    "\n",
    "# Instantiate the linear model and visualizer\n",
    "# Ridge helps prevent over-fitting\n",
    "\n",
    "ridge = Ridge()\n",
    "visualizer = ResidualsPlot(ridge)\n",
    "\n",
    "visualizer.fit(X_train, y_train)  \n",
    "visualizer.score(X_test, y_test)  \n",
    "visualizer.poof() "
   ]
  },
  {
   "cell_type": "code",
   "execution_count": 67,
   "metadata": {
    "slideshow": {
     "slide_type": "subslide"
    }
   },
   "outputs": [
    {
     "name": "stdout",
     "output_type": "stream",
     "text": [
      "MSE: 93.13281330266193, R2: 0.4540841242646563\n"
     ]
    }
   ],
   "source": [
    "# Print values for mean squared error and R2\n",
    "\n",
    "from sklearn.metrics import mean_squared_error\n",
    "\n",
    "predictions = model.predict(X_test)\n",
    "MSE = mean_squared_error(y_test, predictions)\n",
    "r2 = model.score(X_test, y_test)\n",
    "\n",
    "print(f\"MSE: {MSE}, R2: {r2}\")"
   ]
  },
  {
   "cell_type": "code",
   "execution_count": 68,
   "metadata": {
    "slideshow": {
     "slide_type": "skip"
    }
   },
   "outputs": [
    {
     "data": {
      "text/plain": [
       "array([91.16075534])"
      ]
     },
     "execution_count": 68,
     "metadata": {},
     "output_type": "execute_result"
    }
   ],
   "source": [
    "# Predict the 2016 Wild Score (Actual is 87)\n",
    "\n",
    "X_wild = [[0.01, 45, 204, 0.913]]\n",
    "X_wild = sc.transform(X_wild)\n",
    "y_wild = model.predict(X_wild)\n",
    "y_wild"
   ]
  },
  {
   "cell_type": "code",
   "execution_count": 69,
   "metadata": {
    "slideshow": {
     "slide_type": "skip"
    }
   },
   "outputs": [
    {
     "data": {
      "text/plain": [
       "array([106.67180968])"
      ]
     },
     "execution_count": 69,
     "metadata": {},
     "output_type": "execute_result"
    }
   ],
   "source": [
    "# Predict the 2016 Ducks Score (Actual is 103)\n",
    "\n",
    "X_new = [[-0.05, 37, 290, 0.917]]\n",
    "X_new = sc.transform(X_new)\n",
    "y_ducks = model.predict(X_new)\n",
    "y_ducks"
   ]
  },
  {
   "cell_type": "code",
   "execution_count": 70,
   "metadata": {
    "slideshow": {
     "slide_type": "skip"
    }
   },
   "outputs": [
    {
     "data": {
      "text/plain": [
       "array([85.38060146])"
      ]
     },
     "execution_count": 70,
     "metadata": {},
     "output_type": "execute_result"
    }
   ],
   "source": [
    "# Predict the 2016 Blue Jackets Score (Actual is 76)\n",
    "\n",
    "X_new = [[0.03, 53, 279, 0.903]]\n",
    "X_new = sc.transform(X_new)\n",
    "y_bluejackets = model.predict(X_new)\n",
    "y_bluejackets"
   ]
  },
  {
   "cell_type": "markdown",
   "metadata": {
    "slideshow": {
     "slide_type": "slide"
    }
   },
   "source": [
    "# Predictive Model Comparison using Actual LR Model"
   ]
  },
  {
   "cell_type": "code",
   "execution_count": 71,
   "metadata": {
    "slideshow": {
     "slide_type": "subslide"
    }
   },
   "outputs": [
    {
     "data": {
      "text/html": [
       "<div>\n",
       "<style scoped>\n",
       "    .dataframe tbody tr th:only-of-type {\n",
       "        vertical-align: middle;\n",
       "    }\n",
       "\n",
       "    .dataframe tbody tr th {\n",
       "        vertical-align: top;\n",
       "    }\n",
       "\n",
       "    .dataframe thead th {\n",
       "        text-align: right;\n",
       "    }\n",
       "</style>\n",
       "<table border=\"1\" class=\"dataframe\">\n",
       "  <thead>\n",
       "    <tr style=\"text-align: right;\">\n",
       "      <th></th>\n",
       "      <th>SOS</th>\n",
       "      <th>PPA</th>\n",
       "      <th>PPOA</th>\n",
       "      <th>SV%</th>\n",
       "    </tr>\n",
       "  </thead>\n",
       "  <tbody>\n",
       "    <tr>\n",
       "      <th>0</th>\n",
       "      <td>0.05</td>\n",
       "      <td>63</td>\n",
       "      <td>408</td>\n",
       "      <td>0.905</td>\n",
       "    </tr>\n",
       "    <tr>\n",
       "      <th>1</th>\n",
       "      <td>-0.16</td>\n",
       "      <td>72</td>\n",
       "      <td>386</td>\n",
       "      <td>0.906</td>\n",
       "    </tr>\n",
       "    <tr>\n",
       "      <th>2</th>\n",
       "      <td>0.05</td>\n",
       "      <td>55</td>\n",
       "      <td>390</td>\n",
       "      <td>0.919</td>\n",
       "    </tr>\n",
       "    <tr>\n",
       "      <th>3</th>\n",
       "      <td>0.06</td>\n",
       "      <td>61</td>\n",
       "      <td>410</td>\n",
       "      <td>0.912</td>\n",
       "    </tr>\n",
       "    <tr>\n",
       "      <th>4</th>\n",
       "      <td>0.08</td>\n",
       "      <td>59</td>\n",
       "      <td>377</td>\n",
       "      <td>0.908</td>\n",
       "    </tr>\n",
       "  </tbody>\n",
       "</table>\n",
       "</div>"
      ],
      "text/plain": [
       "    SOS  PPA  PPOA    SV%\n",
       "0  0.05   63   408  0.905\n",
       "1 -0.16   72   386  0.906\n",
       "2  0.05   55   390  0.919\n",
       "3  0.06   61   410  0.912\n",
       "4  0.08   59   377  0.908"
      ]
     },
     "execution_count": 71,
     "metadata": {},
     "output_type": "execute_result"
    }
   ],
   "source": [
    "# Read in 2016 NHL season csv\n",
    "\n",
    "season_2006 = pd.read_csv('test_data/2006_team.csv')\n",
    "\n",
    "season_2006_clean = season_2006[['SOS', 'PPA', 'PPOA', 'SV%']]\n",
    "season_2006_clean.head()"
   ]
  },
  {
   "cell_type": "code",
   "execution_count": 72,
   "metadata": {
    "slideshow": {
     "slide_type": "subslide"
    }
   },
   "outputs": [
    {
     "name": "stdout",
     "output_type": "stream",
     "text": [
      "[ 86.87921999 107.21657822  94.92029543  89.61692227  84.62589553\n",
      "  87.11938333 116.164248   108.50704936  86.89487386 114.42453199\n",
      "  89.42442874 105.54241863  76.20824504  68.70602448 111.59047399\n",
      "  94.3912375  107.51845581  85.56409376 101.13416303 104.8926123\n",
      " 102.37907098  64.55571544  85.31963414  65.07772686  65.31727737\n",
      "  66.14752962  95.23882576  54.28620098  53.4864812   89.96728603]\n"
     ]
    }
   ],
   "source": [
    "# Predict 2006 NHL Season Points\n",
    "\n",
    "X = season_2006_clean\n",
    "y = season_2006['PTS']\n",
    "\n",
    "for index, row in X.iterrows():\n",
    "    X_pred = sc.transform(X)\n",
    "    y_pred = model.predict(X_pred)\n",
    "    y_pred\n",
    "    \n",
    "print(y_pred)\n"
   ]
  },
  {
   "cell_type": "code",
   "execution_count": 73,
   "metadata": {
    "slideshow": {
     "slide_type": "subslide"
    }
   },
   "outputs": [
    {
     "data": {
      "text/html": [
       "<div>\n",
       "<style scoped>\n",
       "    .dataframe tbody tr th:only-of-type {\n",
       "        vertical-align: middle;\n",
       "    }\n",
       "\n",
       "    .dataframe tbody tr th {\n",
       "        vertical-align: top;\n",
       "    }\n",
       "\n",
       "    .dataframe thead th {\n",
       "        text-align: right;\n",
       "    }\n",
       "</style>\n",
       "<table border=\"1\" class=\"dataframe\">\n",
       "  <thead>\n",
       "    <tr style=\"text-align: right;\">\n",
       "      <th></th>\n",
       "      <th>Predicted Scores</th>\n",
       "      <th>Actual Scores</th>\n",
       "      <th>Score Difference</th>\n",
       "    </tr>\n",
       "  </thead>\n",
       "  <tbody>\n",
       "    <tr>\n",
       "      <th>0</th>\n",
       "      <td>86.879220</td>\n",
       "      <td>113</td>\n",
       "      <td>-26.120780</td>\n",
       "    </tr>\n",
       "    <tr>\n",
       "      <th>1</th>\n",
       "      <td>107.216578</td>\n",
       "      <td>113</td>\n",
       "      <td>-5.783422</td>\n",
       "    </tr>\n",
       "    <tr>\n",
       "      <th>2</th>\n",
       "      <td>94.920295</td>\n",
       "      <td>110</td>\n",
       "      <td>-15.079705</td>\n",
       "    </tr>\n",
       "    <tr>\n",
       "      <th>3</th>\n",
       "      <td>89.616922</td>\n",
       "      <td>110</td>\n",
       "      <td>-20.383078</td>\n",
       "    </tr>\n",
       "    <tr>\n",
       "      <th>4</th>\n",
       "      <td>84.625896</td>\n",
       "      <td>107</td>\n",
       "      <td>-22.374104</td>\n",
       "    </tr>\n",
       "  </tbody>\n",
       "</table>\n",
       "</div>"
      ],
      "text/plain": [
       "   Predicted Scores  Actual Scores  Score Difference\n",
       "0         86.879220            113        -26.120780\n",
       "1        107.216578            113         -5.783422\n",
       "2         94.920295            110        -15.079705\n",
       "3         89.616922            110        -20.383078\n",
       "4         84.625896            107        -22.374104"
      ]
     },
     "execution_count": 73,
     "metadata": {},
     "output_type": "execute_result"
    }
   ],
   "source": [
    "# Create a dataframe that shows predicted scores, actual scores and the difference between\n",
    "# predicted and actual.\n",
    "\n",
    "team_comparison = pd.DataFrame({'Predicted Scores':y_pred, 'Actual Scores':y})\n",
    "team_comparison\n",
    "team_comparison['Score Difference'] = y_pred - y\n",
    "team_comparison.head()"
   ]
  },
  {
   "cell_type": "code",
   "execution_count": 74,
   "metadata": {
    "slideshow": {
     "slide_type": "fragment"
    }
   },
   "outputs": [
    {
     "data": {
      "text/plain": [
       "count    30.000000\n",
       "mean     -2.596103\n",
       "std      16.432024\n",
       "min     -26.293976\n",
       "25%     -16.103140\n",
       "50%      -5.559314\n",
       "75%       9.398308\n",
       "max      33.967286\n",
       "Name: Score Difference, dtype: float64"
      ]
     },
     "execution_count": 74,
     "metadata": {},
     "output_type": "execute_result"
    }
   ],
   "source": [
    "# Display .describe() features for creating regplot\n",
    "\n",
    "team_comparison['Score Difference'].describe()"
   ]
  },
  {
   "cell_type": "code",
   "execution_count": 75,
   "metadata": {
    "slideshow": {
     "slide_type": "subslide"
    }
   },
   "outputs": [
    {
     "data": {
      "text/plain": [
       "<matplotlib.axes._subplots.AxesSubplot at 0x121a15860>"
      ]
     },
     "execution_count": 75,
     "metadata": {},
     "output_type": "execute_result"
    },
    {
     "data": {
      "image/png": "[encoded data removed]",
      "text/plain": [
       "<Figure size 576x396 with 1 Axes>"
      ]
     },
     "metadata": {},
     "output_type": "display_data"
    }
   ],
   "source": [
    "# Use seaborn to plot the linear regression analysis.\n",
    "# Shaded area corresponds to 95% CI.\n",
    "\n",
    "x = np.linspace(-30, 35, 30)\n",
    "y = team_comparison['Score Difference']\n",
    "\n",
    "sns.regplot(x,y)"
   ]
  },
  {
   "cell_type": "markdown",
   "metadata": {
    "slideshow": {
     "slide_type": "slide"
    }
   },
   "source": [
    "# Now, a look at the general skater statistics ...\n",
    "\n",
    "### Repeat of the steps taken for team statistics"
   ]
  },
  {
   "cell_type": "code",
   "execution_count": 76,
   "metadata": {
    "slideshow": {
     "slide_type": "skip"
    }
   },
   "outputs": [
    {
     "data": {
      "text/html": [
       "<div>\n",
       "<style scoped>\n",
       "    .dataframe tbody tr th:only-of-type {\n",
       "        vertical-align: middle;\n",
       "    }\n",
       "\n",
       "    .dataframe tbody tr th {\n",
       "        vertical-align: top;\n",
       "    }\n",
       "\n",
       "    .dataframe thead th {\n",
       "        text-align: right;\n",
       "    }\n",
       "</style>\n",
       "<table border=\"1\" class=\"dataframe\">\n",
       "  <thead>\n",
       "    <tr style=\"text-align: right;\">\n",
       "      <th></th>\n",
       "      <th>Player</th>\n",
       "      <th>Age</th>\n",
       "      <th>Tm</th>\n",
       "      <th>Pos</th>\n",
       "      <th>GP</th>\n",
       "      <th>G</th>\n",
       "      <th>A</th>\n",
       "      <th>PTS</th>\n",
       "      <th>+/-</th>\n",
       "      <th>PIM</th>\n",
       "      <th>...</th>\n",
       "      <th>EV.1</th>\n",
       "      <th>PP.1</th>\n",
       "      <th>SH.1</th>\n",
       "      <th>S</th>\n",
       "      <th>TOI</th>\n",
       "      <th>ATOI</th>\n",
       "      <th>BLK</th>\n",
       "      <th>HIT</th>\n",
       "      <th>FOW</th>\n",
       "      <th>FOL</th>\n",
       "    </tr>\n",
       "  </thead>\n",
       "  <tbody>\n",
       "    <tr>\n",
       "      <th>0</th>\n",
       "      <td>Spencer Abbott\\abbotsp01</td>\n",
       "      <td>28</td>\n",
       "      <td>CHI</td>\n",
       "      <td>LW</td>\n",
       "      <td>1</td>\n",
       "      <td>0</td>\n",
       "      <td>0</td>\n",
       "      <td>0</td>\n",
       "      <td>0</td>\n",
       "      <td>0</td>\n",
       "      <td>...</td>\n",
       "      <td>0</td>\n",
       "      <td>0</td>\n",
       "      <td>0</td>\n",
       "      <td>1</td>\n",
       "      <td>9</td>\n",
       "      <td>8:34</td>\n",
       "      <td>0.0</td>\n",
       "      <td>0</td>\n",
       "      <td>0.0</td>\n",
       "      <td>0.0</td>\n",
       "    </tr>\n",
       "    <tr>\n",
       "      <th>1</th>\n",
       "      <td>Justin Abdelkader\\abdelju01</td>\n",
       "      <td>29</td>\n",
       "      <td>DET</td>\n",
       "      <td>LW</td>\n",
       "      <td>64</td>\n",
       "      <td>7</td>\n",
       "      <td>14</td>\n",
       "      <td>21</td>\n",
       "      <td>-20</td>\n",
       "      <td>50</td>\n",
       "      <td>...</td>\n",
       "      <td>11</td>\n",
       "      <td>2</td>\n",
       "      <td>1</td>\n",
       "      <td>104</td>\n",
       "      <td>1066</td>\n",
       "      <td>16:40</td>\n",
       "      <td>27.0</td>\n",
       "      <td>144</td>\n",
       "      <td>5.0</td>\n",
       "      <td>12.0</td>\n",
       "    </tr>\n",
       "    <tr>\n",
       "      <th>2</th>\n",
       "      <td>Pontus Aberg\\abergpo01</td>\n",
       "      <td>23</td>\n",
       "      <td>NSH</td>\n",
       "      <td>LW</td>\n",
       "      <td>15</td>\n",
       "      <td>1</td>\n",
       "      <td>1</td>\n",
       "      <td>2</td>\n",
       "      <td>-2</td>\n",
       "      <td>4</td>\n",
       "      <td>...</td>\n",
       "      <td>1</td>\n",
       "      <td>0</td>\n",
       "      <td>0</td>\n",
       "      <td>12</td>\n",
       "      <td>185</td>\n",
       "      <td>12:20</td>\n",
       "      <td>2.0</td>\n",
       "      <td>9</td>\n",
       "      <td>1.0</td>\n",
       "      <td>0.0</td>\n",
       "    </tr>\n",
       "    <tr>\n",
       "      <th>3</th>\n",
       "      <td>Noel Acciari\\acciano01</td>\n",
       "      <td>25</td>\n",
       "      <td>BOS</td>\n",
       "      <td>C</td>\n",
       "      <td>29</td>\n",
       "      <td>2</td>\n",
       "      <td>3</td>\n",
       "      <td>5</td>\n",
       "      <td>3</td>\n",
       "      <td>16</td>\n",
       "      <td>...</td>\n",
       "      <td>3</td>\n",
       "      <td>0</td>\n",
       "      <td>0</td>\n",
       "      <td>24</td>\n",
       "      <td>301</td>\n",
       "      <td>10:22</td>\n",
       "      <td>5.0</td>\n",
       "      <td>80</td>\n",
       "      <td>11.0</td>\n",
       "      <td>18.0</td>\n",
       "    </tr>\n",
       "    <tr>\n",
       "      <th>4</th>\n",
       "      <td>Kenny Agostino\\agostke01</td>\n",
       "      <td>24</td>\n",
       "      <td>STL</td>\n",
       "      <td>LW</td>\n",
       "      <td>7</td>\n",
       "      <td>1</td>\n",
       "      <td>2</td>\n",
       "      <td>3</td>\n",
       "      <td>0</td>\n",
       "      <td>2</td>\n",
       "      <td>...</td>\n",
       "      <td>1</td>\n",
       "      <td>1</td>\n",
       "      <td>0</td>\n",
       "      <td>17</td>\n",
       "      <td>89</td>\n",
       "      <td>12:47</td>\n",
       "      <td>3.0</td>\n",
       "      <td>9</td>\n",
       "      <td>0.0</td>\n",
       "      <td>0.0</td>\n",
       "    </tr>\n",
       "  </tbody>\n",
       "</table>\n",
       "<p>5 rows × 25 columns</p>\n",
       "</div>"
      ],
      "text/plain": [
       "                        Player  Age   Tm Pos  GP  G   A  PTS  +/-  PIM  ...  \\\n",
       "0     Spencer Abbott\\abbotsp01   28  CHI  LW   1  0   0    0    0    0  ...   \n",
       "1  Justin Abdelkader\\abdelju01   29  DET  LW  64  7  14   21  -20   50  ...   \n",
       "2       Pontus Aberg\\abergpo01   23  NSH  LW  15  1   1    2   -2    4  ...   \n",
       "3       Noel Acciari\\acciano01   25  BOS   C  29  2   3    5    3   16  ...   \n",
       "4     Kenny Agostino\\agostke01   24  STL  LW   7  1   2    3    0    2  ...   \n",
       "\n",
       "   EV.1  PP.1  SH.1    S   TOI   ATOI   BLK  HIT   FOW   FOL  \n",
       "0     0     0     0    1     9   8:34   0.0    0   0.0   0.0  \n",
       "1    11     2     1  104  1066  16:40  27.0  144   5.0  12.0  \n",
       "2     1     0     0   12   185  12:20   2.0    9   1.0   0.0  \n",
       "3     3     0     0   24   301  10:22   5.0   80  11.0  18.0  \n",
       "4     1     1     0   17    89  12:47   3.0    9   0.0   0.0  \n",
       "\n",
       "[5 rows x 25 columns]"
      ]
     },
     "execution_count": 76,
     "metadata": {},
     "output_type": "execute_result"
    }
   ],
   "source": [
    "# Read the csv file into a pandas DataFrame\n",
    "\n",
    "player = pd.concat([pd.read_csv(f) for f in glob.glob('player_data/*.csv')], \n",
    "                             ignore_index = True)\n",
    "\n",
    "player.head()"
   ]
  },
  {
   "cell_type": "code",
   "execution_count": 77,
   "metadata": {
    "slideshow": {
     "slide_type": "skip"
    }
   },
   "outputs": [
    {
     "data": {
      "text/html": [
       "<div>\n",
       "<style scoped>\n",
       "    .dataframe tbody tr th:only-of-type {\n",
       "        vertical-align: middle;\n",
       "    }\n",
       "\n",
       "    .dataframe tbody tr th {\n",
       "        vertical-align: top;\n",
       "    }\n",
       "\n",
       "    .dataframe thead th {\n",
       "        text-align: right;\n",
       "    }\n",
       "</style>\n",
       "<table border=\"1\" class=\"dataframe\">\n",
       "  <thead>\n",
       "    <tr style=\"text-align: right;\">\n",
       "      <th></th>\n",
       "      <th>Age</th>\n",
       "      <th>GP</th>\n",
       "      <th>G</th>\n",
       "      <th>A</th>\n",
       "      <th>PTS</th>\n",
       "      <th>+/-</th>\n",
       "      <th>PIM</th>\n",
       "      <th>PS</th>\n",
       "      <th>EV</th>\n",
       "      <th>PP</th>\n",
       "      <th>...</th>\n",
       "      <th>GW</th>\n",
       "      <th>EV.1</th>\n",
       "      <th>PP.1</th>\n",
       "      <th>SH.1</th>\n",
       "      <th>S</th>\n",
       "      <th>TOI</th>\n",
       "      <th>BLK</th>\n",
       "      <th>HIT</th>\n",
       "      <th>FOW</th>\n",
       "      <th>FOL</th>\n",
       "    </tr>\n",
       "  </thead>\n",
       "  <tbody>\n",
       "    <tr>\n",
       "      <th>0</th>\n",
       "      <td>28</td>\n",
       "      <td>1</td>\n",
       "      <td>0</td>\n",
       "      <td>0</td>\n",
       "      <td>0</td>\n",
       "      <td>0</td>\n",
       "      <td>0</td>\n",
       "      <td>0.0</td>\n",
       "      <td>0</td>\n",
       "      <td>0</td>\n",
       "      <td>...</td>\n",
       "      <td>0</td>\n",
       "      <td>0</td>\n",
       "      <td>0</td>\n",
       "      <td>0</td>\n",
       "      <td>1</td>\n",
       "      <td>9</td>\n",
       "      <td>0.0</td>\n",
       "      <td>0</td>\n",
       "      <td>0.0</td>\n",
       "      <td>0.0</td>\n",
       "    </tr>\n",
       "    <tr>\n",
       "      <th>1</th>\n",
       "      <td>29</td>\n",
       "      <td>64</td>\n",
       "      <td>7</td>\n",
       "      <td>14</td>\n",
       "      <td>21</td>\n",
       "      <td>-20</td>\n",
       "      <td>50</td>\n",
       "      <td>0.7</td>\n",
       "      <td>2</td>\n",
       "      <td>5</td>\n",
       "      <td>...</td>\n",
       "      <td>1</td>\n",
       "      <td>11</td>\n",
       "      <td>2</td>\n",
       "      <td>1</td>\n",
       "      <td>104</td>\n",
       "      <td>1066</td>\n",
       "      <td>27.0</td>\n",
       "      <td>144</td>\n",
       "      <td>5.0</td>\n",
       "      <td>12.0</td>\n",
       "    </tr>\n",
       "    <tr>\n",
       "      <th>2</th>\n",
       "      <td>23</td>\n",
       "      <td>15</td>\n",
       "      <td>1</td>\n",
       "      <td>1</td>\n",
       "      <td>2</td>\n",
       "      <td>-2</td>\n",
       "      <td>4</td>\n",
       "      <td>-0.1</td>\n",
       "      <td>1</td>\n",
       "      <td>0</td>\n",
       "      <td>...</td>\n",
       "      <td>0</td>\n",
       "      <td>1</td>\n",
       "      <td>0</td>\n",
       "      <td>0</td>\n",
       "      <td>12</td>\n",
       "      <td>185</td>\n",
       "      <td>2.0</td>\n",
       "      <td>9</td>\n",
       "      <td>1.0</td>\n",
       "      <td>0.0</td>\n",
       "    </tr>\n",
       "    <tr>\n",
       "      <th>3</th>\n",
       "      <td>25</td>\n",
       "      <td>29</td>\n",
       "      <td>2</td>\n",
       "      <td>3</td>\n",
       "      <td>5</td>\n",
       "      <td>3</td>\n",
       "      <td>16</td>\n",
       "      <td>0.5</td>\n",
       "      <td>2</td>\n",
       "      <td>0</td>\n",
       "      <td>...</td>\n",
       "      <td>0</td>\n",
       "      <td>3</td>\n",
       "      <td>0</td>\n",
       "      <td>0</td>\n",
       "      <td>24</td>\n",
       "      <td>301</td>\n",
       "      <td>5.0</td>\n",
       "      <td>80</td>\n",
       "      <td>11.0</td>\n",
       "      <td>18.0</td>\n",
       "    </tr>\n",
       "    <tr>\n",
       "      <th>4</th>\n",
       "      <td>24</td>\n",
       "      <td>7</td>\n",
       "      <td>1</td>\n",
       "      <td>2</td>\n",
       "      <td>3</td>\n",
       "      <td>0</td>\n",
       "      <td>2</td>\n",
       "      <td>0.3</td>\n",
       "      <td>1</td>\n",
       "      <td>0</td>\n",
       "      <td>...</td>\n",
       "      <td>0</td>\n",
       "      <td>1</td>\n",
       "      <td>1</td>\n",
       "      <td>0</td>\n",
       "      <td>17</td>\n",
       "      <td>89</td>\n",
       "      <td>3.0</td>\n",
       "      <td>9</td>\n",
       "      <td>0.0</td>\n",
       "      <td>0.0</td>\n",
       "    </tr>\n",
       "  </tbody>\n",
       "</table>\n",
       "<p>5 rows × 21 columns</p>\n",
       "</div>"
      ],
      "text/plain": [
       "   Age  GP  G   A  PTS  +/-  PIM   PS  EV  PP  ...  GW  EV.1  PP.1  SH.1    S  \\\n",
       "0   28   1  0   0    0    0    0  0.0   0   0  ...   0     0     0     0    1   \n",
       "1   29  64  7  14   21  -20   50  0.7   2   5  ...   1    11     2     1  104   \n",
       "2   23  15  1   1    2   -2    4 -0.1   1   0  ...   0     1     0     0   12   \n",
       "3   25  29  2   3    5    3   16  0.5   2   0  ...   0     3     0     0   24   \n",
       "4   24   7  1   2    3    0    2  0.3   1   0  ...   0     1     1     0   17   \n",
       "\n",
       "    TOI   BLK  HIT   FOW   FOL  \n",
       "0     9   0.0    0   0.0   0.0  \n",
       "1  1066  27.0  144   5.0  12.0  \n",
       "2   185   2.0    9   1.0   0.0  \n",
       "3   301   5.0   80  11.0  18.0  \n",
       "4    89   3.0    9   0.0   0.0  \n",
       "\n",
       "[5 rows x 21 columns]"
      ]
     },
     "execution_count": 77,
     "metadata": {},
     "output_type": "execute_result"
    }
   ],
   "source": [
    "# Drop columns with text values not needed for modeling\n",
    "\n",
    "cleandf = player.drop(columns = ['Player', 'Tm', 'Pos', 'ATOI'])\n",
    "cleandf.head()"
   ]
  },
  {
   "cell_type": "code",
   "execution_count": 78,
   "metadata": {
    "slideshow": {
     "slide_type": "subslide"
    }
   },
   "outputs": [
    {
     "data": {
      "text/plain": [
       "count    8845.000000\n",
       "mean       20.672018\n",
       "std        20.800314\n",
       "min         0.000000\n",
       "25%         3.000000\n",
       "50%        14.000000\n",
       "75%        33.000000\n",
       "max       113.000000\n",
       "Name: PTS, dtype: float64"
      ]
     },
     "execution_count": 78,
     "metadata": {},
     "output_type": "execute_result"
    }
   ],
   "source": [
    "# Determine max of points column to determine appropriate bins\n",
    "\n",
    "cleandf['PTS'].describe()"
   ]
  },
  {
   "cell_type": "code",
   "execution_count": 79,
   "metadata": {
    "slideshow": {
     "slide_type": "fragment"
    }
   },
   "outputs": [],
   "source": [
    "# Replace NAN values with the mean\n",
    "\n",
    "cleandf.fillna(cleandf.mean(), inplace=True)"
   ]
  },
  {
   "cell_type": "code",
   "execution_count": 80,
   "metadata": {
    "slideshow": {
     "slide_type": "fragment"
    }
   },
   "outputs": [
    {
     "data": {
      "text/plain": [
       "[not_scorer, scorer]\n",
       "Categories (2, object): [not_scorer < scorer]"
      ]
     },
     "execution_count": 80,
     "metadata": {},
     "output_type": "execute_result"
    }
   ],
   "source": [
    "# Preprocessing the data\n",
    "\n",
    "bins = (-1, 33.5, 113)\n",
    "group_names = ['not_scorer', 'scorer']\n",
    "cleandf['PTS'] = pd.cut(cleandf['PTS'], bins = bins, labels = group_names)\n",
    "cleandf['PTS'].unique()"
   ]
  },
  {
   "cell_type": "code",
   "execution_count": 81,
   "metadata": {
    "slideshow": {
     "slide_type": "skip"
    }
   },
   "outputs": [],
   "source": [
    "# Use LabelEncoder to assign new values to the PTS column\n",
    "\n",
    "label_quality = LabelEncoder()"
   ]
  },
  {
   "cell_type": "code",
   "execution_count": 82,
   "metadata": {
    "slideshow": {
     "slide_type": "skip"
    }
   },
   "outputs": [],
   "source": [
    "# Fit_transform the PTS column using newly encoded values\n",
    "\n",
    "cleandf['PTS'] = label_quality.fit_transform(cleandf['PTS'])"
   ]
  },
  {
   "cell_type": "code",
   "execution_count": 83,
   "metadata": {
    "slideshow": {
     "slide_type": "skip"
    }
   },
   "outputs": [
    {
     "data": {
      "text/html": [
       "<div>\n",
       "<style scoped>\n",
       "    .dataframe tbody tr th:only-of-type {\n",
       "        vertical-align: middle;\n",
       "    }\n",
       "\n",
       "    .dataframe tbody tr th {\n",
       "        vertical-align: top;\n",
       "    }\n",
       "\n",
       "    .dataframe thead th {\n",
       "        text-align: right;\n",
       "    }\n",
       "</style>\n",
       "<table border=\"1\" class=\"dataframe\">\n",
       "  <thead>\n",
       "    <tr style=\"text-align: right;\">\n",
       "      <th></th>\n",
       "      <th>Age</th>\n",
       "      <th>GP</th>\n",
       "      <th>G</th>\n",
       "      <th>A</th>\n",
       "      <th>PTS</th>\n",
       "      <th>+/-</th>\n",
       "      <th>PIM</th>\n",
       "      <th>PS</th>\n",
       "      <th>EV</th>\n",
       "      <th>PP</th>\n",
       "      <th>...</th>\n",
       "      <th>GW</th>\n",
       "      <th>EV.1</th>\n",
       "      <th>PP.1</th>\n",
       "      <th>SH.1</th>\n",
       "      <th>S</th>\n",
       "      <th>TOI</th>\n",
       "      <th>BLK</th>\n",
       "      <th>HIT</th>\n",
       "      <th>FOW</th>\n",
       "      <th>FOL</th>\n",
       "    </tr>\n",
       "  </thead>\n",
       "  <tbody>\n",
       "    <tr>\n",
       "      <th>0</th>\n",
       "      <td>28</td>\n",
       "      <td>1</td>\n",
       "      <td>0</td>\n",
       "      <td>0</td>\n",
       "      <td>0</td>\n",
       "      <td>0</td>\n",
       "      <td>0</td>\n",
       "      <td>0.0</td>\n",
       "      <td>0</td>\n",
       "      <td>0</td>\n",
       "      <td>...</td>\n",
       "      <td>0</td>\n",
       "      <td>0</td>\n",
       "      <td>0</td>\n",
       "      <td>0</td>\n",
       "      <td>1</td>\n",
       "      <td>9</td>\n",
       "      <td>0.0</td>\n",
       "      <td>0</td>\n",
       "      <td>0.0</td>\n",
       "      <td>0.0</td>\n",
       "    </tr>\n",
       "    <tr>\n",
       "      <th>1</th>\n",
       "      <td>29</td>\n",
       "      <td>64</td>\n",
       "      <td>7</td>\n",
       "      <td>14</td>\n",
       "      <td>0</td>\n",
       "      <td>-20</td>\n",
       "      <td>50</td>\n",
       "      <td>0.7</td>\n",
       "      <td>2</td>\n",
       "      <td>5</td>\n",
       "      <td>...</td>\n",
       "      <td>1</td>\n",
       "      <td>11</td>\n",
       "      <td>2</td>\n",
       "      <td>1</td>\n",
       "      <td>104</td>\n",
       "      <td>1066</td>\n",
       "      <td>27.0</td>\n",
       "      <td>144</td>\n",
       "      <td>5.0</td>\n",
       "      <td>12.0</td>\n",
       "    </tr>\n",
       "    <tr>\n",
       "      <th>2</th>\n",
       "      <td>23</td>\n",
       "      <td>15</td>\n",
       "      <td>1</td>\n",
       "      <td>1</td>\n",
       "      <td>0</td>\n",
       "      <td>-2</td>\n",
       "      <td>4</td>\n",
       "      <td>-0.1</td>\n",
       "      <td>1</td>\n",
       "      <td>0</td>\n",
       "      <td>...</td>\n",
       "      <td>0</td>\n",
       "      <td>1</td>\n",
       "      <td>0</td>\n",
       "      <td>0</td>\n",
       "      <td>12</td>\n",
       "      <td>185</td>\n",
       "      <td>2.0</td>\n",
       "      <td>9</td>\n",
       "      <td>1.0</td>\n",
       "      <td>0.0</td>\n",
       "    </tr>\n",
       "    <tr>\n",
       "      <th>3</th>\n",
       "      <td>25</td>\n",
       "      <td>29</td>\n",
       "      <td>2</td>\n",
       "      <td>3</td>\n",
       "      <td>0</td>\n",
       "      <td>3</td>\n",
       "      <td>16</td>\n",
       "      <td>0.5</td>\n",
       "      <td>2</td>\n",
       "      <td>0</td>\n",
       "      <td>...</td>\n",
       "      <td>0</td>\n",
       "      <td>3</td>\n",
       "      <td>0</td>\n",
       "      <td>0</td>\n",
       "      <td>24</td>\n",
       "      <td>301</td>\n",
       "      <td>5.0</td>\n",
       "      <td>80</td>\n",
       "      <td>11.0</td>\n",
       "      <td>18.0</td>\n",
       "    </tr>\n",
       "    <tr>\n",
       "      <th>4</th>\n",
       "      <td>24</td>\n",
       "      <td>7</td>\n",
       "      <td>1</td>\n",
       "      <td>2</td>\n",
       "      <td>0</td>\n",
       "      <td>0</td>\n",
       "      <td>2</td>\n",
       "      <td>0.3</td>\n",
       "      <td>1</td>\n",
       "      <td>0</td>\n",
       "      <td>...</td>\n",
       "      <td>0</td>\n",
       "      <td>1</td>\n",
       "      <td>1</td>\n",
       "      <td>0</td>\n",
       "      <td>17</td>\n",
       "      <td>89</td>\n",
       "      <td>3.0</td>\n",
       "      <td>9</td>\n",
       "      <td>0.0</td>\n",
       "      <td>0.0</td>\n",
       "    </tr>\n",
       "  </tbody>\n",
       "</table>\n",
       "<p>5 rows × 21 columns</p>\n",
       "</div>"
      ],
      "text/plain": [
       "   Age  GP  G   A  PTS  +/-  PIM   PS  EV  PP  ...  GW  EV.1  PP.1  SH.1    S  \\\n",
       "0   28   1  0   0    0    0    0  0.0   0   0  ...   0     0     0     0    1   \n",
       "1   29  64  7  14    0  -20   50  0.7   2   5  ...   1    11     2     1  104   \n",
       "2   23  15  1   1    0   -2    4 -0.1   1   0  ...   0     1     0     0   12   \n",
       "3   25  29  2   3    0    3   16  0.5   2   0  ...   0     3     0     0   24   \n",
       "4   24   7  1   2    0    0    2  0.3   1   0  ...   0     1     1     0   17   \n",
       "\n",
       "    TOI   BLK  HIT   FOW   FOL  \n",
       "0     9   0.0    0   0.0   0.0  \n",
       "1  1066  27.0  144   5.0  12.0  \n",
       "2   185   2.0    9   1.0   0.0  \n",
       "3   301   5.0   80  11.0  18.0  \n",
       "4    89   3.0    9   0.0   0.0  \n",
       "\n",
       "[5 rows x 21 columns]"
      ]
     },
     "execution_count": 83,
     "metadata": {},
     "output_type": "execute_result"
    }
   ],
   "source": [
    "# Dataframe displaying the newly transformed PTS column\n",
    "\n",
    "cleandf.head()"
   ]
  },
  {
   "cell_type": "code",
   "execution_count": 84,
   "metadata": {
    "slideshow": {
     "slide_type": "skip"
    }
   },
   "outputs": [
    {
     "data": {
      "text/plain": [
       "0    6684\n",
       "1    2161\n",
       "Name: PTS, dtype: int64"
      ]
     },
     "execution_count": 84,
     "metadata": {},
     "output_type": "execute_result"
    }
   ],
   "source": [
    "# Count the values in each points category (non-playoff and playoff)\n",
    "\n",
    "cleandf['PTS'].value_counts()"
   ]
  },
  {
   "cell_type": "code",
   "execution_count": 85,
   "metadata": {
    "slideshow": {
     "slide_type": "subslide"
    }
   },
   "outputs": [
    {
     "data": {
      "text/plain": [
       "<matplotlib.axes._subplots.AxesSubplot at 0x121c97e80>"
      ]
     },
     "execution_count": 85,
     "metadata": {},
     "output_type": "execute_result"
    },
    {
     "data": {
      "image/png": "[encoded data removed]",
      "text/plain": [
       "<Figure size 576x396 with 1 Axes>"
      ]
     },
     "metadata": {},
     "output_type": "display_data"
    }
   ],
   "source": [
    "# Visualize the transformed points column distribution \n",
    "# using seaborn & matplotlib\n",
    "\n",
    "sns.countplot(cleandf['PTS'])"
   ]
  },
  {
   "cell_type": "code",
   "execution_count": 86,
   "metadata": {
    "slideshow": {
     "slide_type": "skip"
    }
   },
   "outputs": [],
   "source": [
    "# Assign the data to X and y, x predicts y\n",
    "\n",
    "X = cleandf.drop('PTS', axis = 1)\n",
    "y = cleandf[\"PTS\"]"
   ]
  },
  {
   "cell_type": "code",
   "execution_count": 87,
   "metadata": {
    "slideshow": {
     "slide_type": "skip"
    }
   },
   "outputs": [],
   "source": [
    "# Use train_test_split to create training and testing data\n",
    "\n",
    "from sklearn.model_selection import train_test_split\n",
    "\n",
    "X_train, X_test, y_train, y_test = train_test_split(X, y, test_size=0.3, random_state=42)"
   ]
  },
  {
   "cell_type": "code",
   "execution_count": 88,
   "metadata": {
    "slideshow": {
     "slide_type": "skip"
    }
   },
   "outputs": [],
   "source": [
    "# Applying standard scaling to get optimized result and reduce large discrepancies\n",
    "# between the data in each column.\n",
    "\n",
    "sc = StandardScaler()\n",
    "X_train = sc.fit_transform(X_train)\n",
    "X_test = sc.transform(X_test)"
   ]
  },
  {
   "cell_type": "code",
   "execution_count": 89,
   "metadata": {
    "slideshow": {
     "slide_type": "skip"
    }
   },
   "outputs": [
    {
     "data": {
      "text/plain": [
       "array([[-0.33930397,  0.95918946,  0.48722302, -0.00722265, -1.22472857,\n",
       "        -0.79078133, -0.30217167,  0.69394534,  0.06180581, -0.35157369,\n",
       "        -0.69237602,  0.29789816, -0.44398827, -0.41282775,  0.40498043,\n",
       "         0.53279534,  0.0468289 ,  0.60038186, -0.33336311, -0.34046877],\n",
       "       [ 1.40776401,  0.16413815, -0.29823878, -0.8423155 , -0.38057481,\n",
       "         1.76944418, -0.78944449, -0.09909479, -0.5928388 , -0.35157369,\n",
       "        -0.12791725, -0.86101066, -0.62735928, -0.41282775, -0.40744706,\n",
       "        -0.63233887, -0.48037988,  0.85034581, -0.39859391, -0.45567106],\n",
       "       [-1.21283795,  0.78635222,  0.59943185,  0.06869488,  0.25254051,\n",
       "        -0.59876442,  0.01107515,  1.01116139, -0.26551649, -0.35157369,\n",
       "         0.43654153,  0.29789816, -0.26061727, -0.41282775,  0.66660962,\n",
       "         0.13815311, -0.55227199, -0.5601651 , -0.38228621, -0.40959015],\n",
       "       [-0.33930397,  0.47524518, -0.52265643, -0.53864537, -0.59161325,\n",
       "         2.28148928, -0.33697687, -0.41631084, -0.5928388 , -0.35157369,\n",
       "        -0.69237602, -0.39744713, -0.62735928, -0.41282775, -0.21466765,\n",
       "         0.34828728,  0.74178593,  1.3681283 , -0.4529529 , -0.47295141],\n",
       "       [-0.99445446, -1.63336916, -0.85928291, -0.8423155 ,  0.14702129,\n",
       "        -0.98279825, -0.82424969, -0.89213492, -0.5928388 , -0.35157369,\n",
       "        -0.69237602, -0.86101066, -0.62735928, -0.41282775, -1.1372548 ,\n",
       "        -1.37207949, -0.91173252, -1.04223845, -0.4529529 , -0.47871152],\n",
       "       [ 0.53423002,  0.57894753,  1.60931129,  0.22052995,  1.72980958,\n",
       "         0.04129196,  1.1248416 ,  2.2800256 , -0.26551649,  1.23255492,\n",
       "         2.12991787,  0.76146168, -0.62735928, -0.41282775,  0.4462903 ,\n",
       "         0.4610422 , -0.48037988, -0.41732855, -0.4203375 , -0.3923098 ],\n",
       "       [-1.21283795,  0.57894753,  1.94593778,  1.96663318, -2.59647842,\n",
       "         0.04129196,  1.36847801,  2.59724166,  0.38912811, -0.35157369,\n",
       "         1.56545909,  1.2250252 ,  2.48994784,  2.96788205,  2.22261481,\n",
       "         0.88643578, -0.09695531, -0.18521916,  1.43330424,  2.33798446],\n",
       "       [-0.99445446, -1.35682958, -0.74707409, -0.99415056, -0.38057481,\n",
       "        -0.91879261, -0.92866529, -0.7335269 , -0.5928388 , -0.35157369,\n",
       "        -0.69237602, -1.09279242, -0.62735928, -0.41282775, -0.9444754 ,\n",
       "        -1.24224049, -0.91173252, -0.88154733, -0.24638872, -0.30014797],\n",
       "       [-0.99445446, -1.70250406, -0.85928291, -0.99415056,  0.04150207,\n",
       "        -0.98279825, -0.89386009, -0.89213492, -0.5928388 , -0.35157369,\n",
       "        -0.69237602, -1.09279242, -0.62735928, -0.41282775, -1.15102476,\n",
       "        -1.3959972 , -0.93569655, -1.06009301, -0.4529529 , -0.47871152],\n",
       "       [-0.33930397,  0.61351498, -0.52265643, -0.61456291, -0.38057481,\n",
       "        -0.27873623, -0.9982757 , -0.41631084, -0.5928388 , -0.35157369,\n",
       "        -0.12791725, -0.51333801, -0.62735928, -0.41282775, -0.14581787,\n",
       "        -0.06856425, -0.3605597 , -0.63158337,  0.59073981,  0.57538943]])"
      ]
     },
     "execution_count": 89,
     "metadata": {},
     "output_type": "execute_result"
    }
   ],
   "source": [
    "# Visualize the scaled data created for X_train\n",
    "\n",
    "X_train[:10]"
   ]
  },
  {
   "cell_type": "markdown",
   "metadata": {
    "slideshow": {
     "slide_type": "slide"
    }
   },
   "source": [
    "# Random Forest"
   ]
  },
  {
   "cell_type": "code",
   "execution_count": 90,
   "metadata": {
    "slideshow": {
     "slide_type": "fragment"
    }
   },
   "outputs": [],
   "source": [
    "# Create Random Forest model\n",
    "\n",
    "rfc = RandomForestClassifier(n_estimators=200)\n",
    "rfc.fit(X_train, y_train)\n",
    "pred_rfc = rfc.predict(X_test)"
   ]
  },
  {
   "cell_type": "code",
   "execution_count": 91,
   "metadata": {
    "slideshow": {
     "slide_type": "skip"
    }
   },
   "outputs": [
    {
     "data": {
      "text/plain": [
       "array([1, 0, 0, 1, 0, 1, 0, 0, 1, 0, 0, 0, 0, 1, 1, 1, 1, 0, 1, 0])"
      ]
     },
     "execution_count": 91,
     "metadata": {},
     "output_type": "execute_result"
    }
   ],
   "source": [
    "# Display the pred_rfc array\n",
    "\n",
    "pred_rfc[:20]"
   ]
  },
  {
   "cell_type": "code",
   "execution_count": 92,
   "metadata": {
    "slideshow": {
     "slide_type": "subslide"
    }
   },
   "outputs": [
    {
     "name": "stdout",
     "output_type": "stream",
     "text": [
      "              precision    recall  f1-score   support\n",
      "\n",
      "           0       1.00      1.00      1.00      2002\n",
      "           1       0.99      0.99      0.99       652\n",
      "\n",
      "   micro avg       1.00      1.00      1.00      2654\n",
      "   macro avg       0.99      1.00      0.99      2654\n",
      "weighted avg       1.00      1.00      1.00      2654\n",
      "\n",
      "[[1996    6]\n",
      " [   4  648]]\n"
     ]
    }
   ],
   "source": [
    "# See how well the model performed\n",
    "\n",
    "print(classification_report(y_test, pred_rfc))\n",
    "print(confusion_matrix(y_test, pred_rfc))"
   ]
  },
  {
   "cell_type": "code",
   "execution_count": 93,
   "metadata": {
    "slideshow": {
     "slide_type": "fragment"
    }
   },
   "outputs": [
    {
     "data": {
      "text/plain": [
       "0.9962321024868124"
      ]
     },
     "execution_count": 93,
     "metadata": {},
     "output_type": "execute_result"
    }
   ],
   "source": [
    "# Random Forest Accuracy Score\n",
    "\n",
    "from sklearn.metrics import accuracy_score\n",
    "cm = accuracy_score(y_test, pred_rfc)\n",
    "cm"
   ]
  },
  {
   "cell_type": "markdown",
   "metadata": {
    "slideshow": {
     "slide_type": "slide"
    }
   },
   "source": [
    "## SVM (Support Vector Machine) Classifier"
   ]
  },
  {
   "cell_type": "code",
   "execution_count": 94,
   "metadata": {
    "slideshow": {
     "slide_type": "fragment"
    }
   },
   "outputs": [],
   "source": [
    "from sklearn.svm import SVC\n",
    "from sklearn import svm\n",
    "\n",
    "# Create SVM model\n",
    "\n",
    "clf=svm.SVC()\n",
    "clf.fit(X_train, y_train)\n",
    "pred_clf = clf.predict(X_test)"
   ]
  },
  {
   "cell_type": "code",
   "execution_count": 95,
   "metadata": {
    "slideshow": {
     "slide_type": "subslide"
    }
   },
   "outputs": [
    {
     "name": "stdout",
     "output_type": "stream",
     "text": [
      "              precision    recall  f1-score   support\n",
      "\n",
      "           0       0.99      0.99      0.99      2002\n",
      "           1       0.98      0.98      0.98       652\n",
      "\n",
      "   micro avg       0.99      0.99      0.99      2654\n",
      "   macro avg       0.99      0.99      0.99      2654\n",
      "weighted avg       0.99      0.99      0.99      2654\n",
      "\n",
      "[[1990   12]\n",
      " [  10  642]]\n"
     ]
    }
   ],
   "source": [
    "# See how well the model performed\n",
    "\n",
    "print(classification_report(y_test, pred_clf))\n",
    "print(confusion_matrix(y_test, pred_clf))"
   ]
  },
  {
   "cell_type": "code",
   "execution_count": 96,
   "metadata": {
    "slideshow": {
     "slide_type": "fragment"
    }
   },
   "outputs": [
    {
     "data": {
      "text/plain": [
       "0.9917106254709872"
      ]
     },
     "execution_count": 96,
     "metadata": {},
     "output_type": "execute_result"
    }
   ],
   "source": [
    "# SVM Accuracy Score\n",
    "\n",
    "svm = accuracy_score(y_test, pred_clf)\n",
    "svm"
   ]
  },
  {
   "cell_type": "markdown",
   "metadata": {
    "slideshow": {
     "slide_type": "slide"
    }
   },
   "source": [
    "## Neural Network"
   ]
  },
  {
   "cell_type": "code",
   "execution_count": 97,
   "metadata": {
    "slideshow": {
     "slide_type": "fragment"
    }
   },
   "outputs": [],
   "source": [
    "# Use MLPClassifier to create neural network model\n",
    "\n",
    "mlpc = MLPClassifier(hidden_layer_sizes=(11,11,11), max_iter=500)\n",
    "mlpc.fit(X_train, y_train)\n",
    "pred_mlpc = mlpc.predict(X_test)"
   ]
  },
  {
   "cell_type": "code",
   "execution_count": 98,
   "metadata": {
    "slideshow": {
     "slide_type": "subslide"
    }
   },
   "outputs": [
    {
     "name": "stdout",
     "output_type": "stream",
     "text": [
      "              precision    recall  f1-score   support\n",
      "\n",
      "           0       1.00      1.00      1.00      2002\n",
      "           1       0.99      0.99      0.99       652\n",
      "\n",
      "   micro avg       1.00      1.00      1.00      2654\n",
      "   macro avg       0.99      0.99      0.99      2654\n",
      "weighted avg       1.00      1.00      1.00      2654\n",
      "\n",
      "[[1998    4]\n",
      " [   9  643]]\n"
     ]
    }
   ],
   "source": [
    "# See how well the model performed\n",
    "\n",
    "print(classification_report(y_test, pred_mlpc))\n",
    "print(confusion_matrix(y_test, pred_mlpc))"
   ]
  },
  {
   "cell_type": "code",
   "execution_count": 99,
   "metadata": {
    "slideshow": {
     "slide_type": "fragment"
    }
   },
   "outputs": [
    {
     "data": {
      "text/plain": [
       "0.9951017332328561"
      ]
     },
     "execution_count": 99,
     "metadata": {},
     "output_type": "execute_result"
    }
   ],
   "source": [
    "# Neural Network Accuracy Score\n",
    "\n",
    "nn = accuracy_score(y_test, pred_mlpc)\n",
    "nn"
   ]
  },
  {
   "cell_type": "markdown",
   "metadata": {
    "slideshow": {
     "slide_type": "slide"
    }
   },
   "source": [
    "## Linear Regression"
   ]
  },
  {
   "cell_type": "code",
   "execution_count": 100,
   "metadata": {
    "slideshow": {
     "slide_type": "skip"
    }
   },
   "outputs": [
    {
     "data": {
      "text/html": [
       "<div>\n",
       "<style scoped>\n",
       "    .dataframe tbody tr th:only-of-type {\n",
       "        vertical-align: middle;\n",
       "    }\n",
       "\n",
       "    .dataframe tbody tr th {\n",
       "        vertical-align: top;\n",
       "    }\n",
       "\n",
       "    .dataframe thead th {\n",
       "        text-align: right;\n",
       "    }\n",
       "</style>\n",
       "<table border=\"1\" class=\"dataframe\">\n",
       "  <thead>\n",
       "    <tr style=\"text-align: right;\">\n",
       "      <th></th>\n",
       "      <th>Age</th>\n",
       "      <th>GP</th>\n",
       "      <th>G</th>\n",
       "      <th>A</th>\n",
       "      <th>PTS</th>\n",
       "      <th>+/-</th>\n",
       "      <th>PIM</th>\n",
       "      <th>PS</th>\n",
       "      <th>EV</th>\n",
       "      <th>PP</th>\n",
       "      <th>...</th>\n",
       "      <th>GW</th>\n",
       "      <th>EV.1</th>\n",
       "      <th>PP.1</th>\n",
       "      <th>SH.1</th>\n",
       "      <th>S</th>\n",
       "      <th>TOI</th>\n",
       "      <th>BLK</th>\n",
       "      <th>HIT</th>\n",
       "      <th>FOW</th>\n",
       "      <th>FOL</th>\n",
       "    </tr>\n",
       "  </thead>\n",
       "  <tbody>\n",
       "    <tr>\n",
       "      <th>0</th>\n",
       "      <td>28</td>\n",
       "      <td>1</td>\n",
       "      <td>0</td>\n",
       "      <td>0</td>\n",
       "      <td>0</td>\n",
       "      <td>0</td>\n",
       "      <td>0</td>\n",
       "      <td>0.0</td>\n",
       "      <td>0</td>\n",
       "      <td>0</td>\n",
       "      <td>...</td>\n",
       "      <td>0</td>\n",
       "      <td>0</td>\n",
       "      <td>0</td>\n",
       "      <td>0</td>\n",
       "      <td>1</td>\n",
       "      <td>9</td>\n",
       "      <td>0.0</td>\n",
       "      <td>0</td>\n",
       "      <td>0.0</td>\n",
       "      <td>0.0</td>\n",
       "    </tr>\n",
       "    <tr>\n",
       "      <th>1</th>\n",
       "      <td>29</td>\n",
       "      <td>64</td>\n",
       "      <td>7</td>\n",
       "      <td>14</td>\n",
       "      <td>21</td>\n",
       "      <td>-20</td>\n",
       "      <td>50</td>\n",
       "      <td>0.7</td>\n",
       "      <td>2</td>\n",
       "      <td>5</td>\n",
       "      <td>...</td>\n",
       "      <td>1</td>\n",
       "      <td>11</td>\n",
       "      <td>2</td>\n",
       "      <td>1</td>\n",
       "      <td>104</td>\n",
       "      <td>1066</td>\n",
       "      <td>27.0</td>\n",
       "      <td>144</td>\n",
       "      <td>5.0</td>\n",
       "      <td>12.0</td>\n",
       "    </tr>\n",
       "    <tr>\n",
       "      <th>2</th>\n",
       "      <td>23</td>\n",
       "      <td>15</td>\n",
       "      <td>1</td>\n",
       "      <td>1</td>\n",
       "      <td>2</td>\n",
       "      <td>-2</td>\n",
       "      <td>4</td>\n",
       "      <td>-0.1</td>\n",
       "      <td>1</td>\n",
       "      <td>0</td>\n",
       "      <td>...</td>\n",
       "      <td>0</td>\n",
       "      <td>1</td>\n",
       "      <td>0</td>\n",
       "      <td>0</td>\n",
       "      <td>12</td>\n",
       "      <td>185</td>\n",
       "      <td>2.0</td>\n",
       "      <td>9</td>\n",
       "      <td>1.0</td>\n",
       "      <td>0.0</td>\n",
       "    </tr>\n",
       "    <tr>\n",
       "      <th>3</th>\n",
       "      <td>25</td>\n",
       "      <td>29</td>\n",
       "      <td>2</td>\n",
       "      <td>3</td>\n",
       "      <td>5</td>\n",
       "      <td>3</td>\n",
       "      <td>16</td>\n",
       "      <td>0.5</td>\n",
       "      <td>2</td>\n",
       "      <td>0</td>\n",
       "      <td>...</td>\n",
       "      <td>0</td>\n",
       "      <td>3</td>\n",
       "      <td>0</td>\n",
       "      <td>0</td>\n",
       "      <td>24</td>\n",
       "      <td>301</td>\n",
       "      <td>5.0</td>\n",
       "      <td>80</td>\n",
       "      <td>11.0</td>\n",
       "      <td>18.0</td>\n",
       "    </tr>\n",
       "    <tr>\n",
       "      <th>4</th>\n",
       "      <td>24</td>\n",
       "      <td>7</td>\n",
       "      <td>1</td>\n",
       "      <td>2</td>\n",
       "      <td>3</td>\n",
       "      <td>0</td>\n",
       "      <td>2</td>\n",
       "      <td>0.3</td>\n",
       "      <td>1</td>\n",
       "      <td>0</td>\n",
       "      <td>...</td>\n",
       "      <td>0</td>\n",
       "      <td>1</td>\n",
       "      <td>1</td>\n",
       "      <td>0</td>\n",
       "      <td>17</td>\n",
       "      <td>89</td>\n",
       "      <td>3.0</td>\n",
       "      <td>9</td>\n",
       "      <td>0.0</td>\n",
       "      <td>0.0</td>\n",
       "    </tr>\n",
       "  </tbody>\n",
       "</table>\n",
       "<p>5 rows × 21 columns</p>\n",
       "</div>"
      ],
      "text/plain": [
       "   Age  GP  G   A  PTS  +/-  PIM   PS  EV  PP  ...  GW  EV.1  PP.1  SH.1    S  \\\n",
       "0   28   1  0   0    0    0    0  0.0   0   0  ...   0     0     0     0    1   \n",
       "1   29  64  7  14   21  -20   50  0.7   2   5  ...   1    11     2     1  104   \n",
       "2   23  15  1   1    2   -2    4 -0.1   1   0  ...   0     1     0     0   12   \n",
       "3   25  29  2   3    5    3   16  0.5   2   0  ...   0     3     0     0   24   \n",
       "4   24   7  1   2    3    0    2  0.3   1   0  ...   0     1     1     0   17   \n",
       "\n",
       "    TOI   BLK  HIT   FOW   FOL  \n",
       "0     9   0.0    0   0.0   0.0  \n",
       "1  1066  27.0  144   5.0  12.0  \n",
       "2   185   2.0    9   1.0   0.0  \n",
       "3   301   5.0   80  11.0  18.0  \n",
       "4    89   3.0    9   0.0   0.0  \n",
       "\n",
       "[5 rows x 21 columns]"
      ]
     },
     "execution_count": 100,
     "metadata": {},
     "output_type": "execute_result"
    }
   ],
   "source": [
    "# Prepare data for regression\n",
    "\n",
    "lineardf = player.drop(columns = ['Player', 'Tm', 'Pos', 'ATOI'])\n",
    "finaldf = lineardf.dropna()\n",
    "finaldf.head()"
   ]
  },
  {
   "cell_type": "code",
   "execution_count": 101,
   "metadata": {
    "slideshow": {
     "slide_type": "subslide"
    }
   },
   "outputs": [],
   "source": [
    "# Assign the data to X and y, x predicts y, used model.coef_ to determine the best features\n",
    "\n",
    "X = finaldf[['EV', 'PP', 'SH']]\n",
    "y = finaldf['PTS']"
   ]
  },
  {
   "cell_type": "code",
   "execution_count": 102,
   "metadata": {
    "slideshow": {
     "slide_type": "skip"
    }
   },
   "outputs": [],
   "source": [
    "# Use train_test_split to create training and testing data\n",
    "\n",
    "X_train, X_test, y_train, y_test = train_test_split(X, y, test_size=0.3, random_state=42)"
   ]
  },
  {
   "cell_type": "code",
   "execution_count": 103,
   "metadata": {
    "slideshow": {
     "slide_type": "skip"
    }
   },
   "outputs": [],
   "source": [
    "# Applying standard scaling to get optimized result\n",
    "\n",
    "sc = StandardScaler()\n",
    "X_train = sc.fit_transform(X_train)\n",
    "X_test = sc.transform(X_test)"
   ]
  },
  {
   "cell_type": "code",
   "execution_count": 104,
   "metadata": {
    "slideshow": {
     "slide_type": "skip"
    }
   },
   "outputs": [
    {
     "data": {
      "text/html": [
       "<div>\n",
       "<style scoped>\n",
       "    .dataframe tbody tr th:only-of-type {\n",
       "        vertical-align: middle;\n",
       "    }\n",
       "\n",
       "    .dataframe tbody tr th {\n",
       "        vertical-align: top;\n",
       "    }\n",
       "\n",
       "    .dataframe thead th {\n",
       "        text-align: right;\n",
       "    }\n",
       "</style>\n",
       "<table border=\"1\" class=\"dataframe\">\n",
       "  <thead>\n",
       "    <tr style=\"text-align: right;\">\n",
       "      <th></th>\n",
       "      <th>EV</th>\n",
       "      <th>PP</th>\n",
       "      <th>SH</th>\n",
       "    </tr>\n",
       "  </thead>\n",
       "  <tbody>\n",
       "    <tr>\n",
       "      <th>0</th>\n",
       "      <td>0</td>\n",
       "      <td>0</td>\n",
       "      <td>0</td>\n",
       "    </tr>\n",
       "    <tr>\n",
       "      <th>1</th>\n",
       "      <td>2</td>\n",
       "      <td>5</td>\n",
       "      <td>0</td>\n",
       "    </tr>\n",
       "    <tr>\n",
       "      <th>2</th>\n",
       "      <td>1</td>\n",
       "      <td>0</td>\n",
       "      <td>0</td>\n",
       "    </tr>\n",
       "    <tr>\n",
       "      <th>3</th>\n",
       "      <td>2</td>\n",
       "      <td>0</td>\n",
       "      <td>0</td>\n",
       "    </tr>\n",
       "    <tr>\n",
       "      <th>4</th>\n",
       "      <td>1</td>\n",
       "      <td>0</td>\n",
       "      <td>0</td>\n",
       "    </tr>\n",
       "  </tbody>\n",
       "</table>\n",
       "</div>"
      ],
      "text/plain": [
       "   EV  PP  SH\n",
       "0   0   0   0\n",
       "1   2   5   0\n",
       "2   1   0   0\n",
       "3   2   0   0\n",
       "4   1   0   0"
      ]
     },
     "execution_count": 104,
     "metadata": {},
     "output_type": "execute_result"
    }
   ],
   "source": [
    "# Fit the model to the training data and calculate the scores for the training and testing data\n",
    "\n",
    "model = LinearRegression()\n",
    "\n",
    "model.fit(X_train, y_train)\n",
    "pred_lrm = model.predict(X_test)\n",
    "X.head()"
   ]
  },
  {
   "cell_type": "code",
   "execution_count": 105,
   "metadata": {
    "slideshow": {
     "slide_type": "fragment"
    }
   },
   "outputs": [
    {
     "data": {
      "text/plain": [
       "array([11.95853108,  8.36615616,  1.0870526 ])"
      ]
     },
     "execution_count": 105,
     "metadata": {},
     "output_type": "execute_result"
    }
   ],
   "source": [
    "# Display model coefficients for each of the features used in\n",
    "# the linear regression model.\n",
    "\n",
    "model.coef_"
   ]
  },
  {
   "cell_type": "code",
   "execution_count": 106,
   "metadata": {
    "slideshow": {
     "slide_type": "fragment"
    }
   },
   "outputs": [
    {
     "name": "stdout",
     "output_type": "stream",
     "text": [
      "Training Score: 0.8419166892082613\n",
      "Testing Score: 0.8463431537704258\n"
     ]
    }
   ],
   "source": [
    "# Display training and test scores for linear regression model.\n",
    "\n",
    "training_score = model.score(X_train, y_train)\n",
    "testing_score = model.score(X_test, y_test)\n",
    "\n",
    "print(f\"Training Score: {training_score}\")\n",
    "print(f\"Testing Score: {testing_score}\")"
   ]
  },
  {
   "cell_type": "code",
   "execution_count": 107,
   "metadata": {
    "slideshow": {
     "slide_type": "subslide"
    }
   },
   "outputs": [
    {
     "data": {
      "image/png": "[encoded data removed]",
      "text/plain": [
       "<Figure size 576x396 with 2 Axes>"
      ]
     },
     "metadata": {},
     "output_type": "display_data"
    }
   ],
   "source": [
    " # Plot the Residuals for Ridge Model\n",
    "from sklearn.linear_model import Ridge\n",
    "from yellowbrick.regressor import ResidualsPlot\n",
    "\n",
    "# Instantiate the linear model and visualizer\n",
    "ridge = Ridge()\n",
    "visualizer = ResidualsPlot(ridge)\n",
    "\n",
    "visualizer.fit(X_train, y_train)  \n",
    "visualizer.score(X_test, y_test)  \n",
    "visualizer.poof()  "
   ]
  },
  {
   "cell_type": "code",
   "execution_count": 108,
   "metadata": {
    "slideshow": {
     "slide_type": "subslide"
    }
   },
   "outputs": [
    {
     "name": "stdout",
     "output_type": "stream",
     "text": [
      "MSE: 66.45458528308693, R2: 0.8463431537704258\n"
     ]
    }
   ],
   "source": [
    "# Diplay mean squared error and R2 value for linear regression model.\n",
    "\n",
    "from sklearn.metrics import mean_squared_error\n",
    "\n",
    "predictions = model.predict(X_test)\n",
    "MSE = mean_squared_error(y_test, predictions)\n",
    "r2 = model.score(X_test, y_test)\n",
    "\n",
    "print(f\"MSE: {MSE}, R2: {r2}\")"
   ]
  },
  {
   "cell_type": "markdown",
   "metadata": {
    "slideshow": {
     "slide_type": "slide"
    }
   },
   "source": [
    "# Predictive Model Comparison with Actual Model"
   ]
  },
  {
   "cell_type": "code",
   "execution_count": 109,
   "metadata": {
    "slideshow": {
     "slide_type": "fragment"
    }
   },
   "outputs": [
    {
     "data": {
      "text/html": [
       "<div>\n",
       "<style scoped>\n",
       "    .dataframe tbody tr th:only-of-type {\n",
       "        vertical-align: middle;\n",
       "    }\n",
       "\n",
       "    .dataframe tbody tr th {\n",
       "        vertical-align: top;\n",
       "    }\n",
       "\n",
       "    .dataframe thead th {\n",
       "        text-align: right;\n",
       "    }\n",
       "</style>\n",
       "<table border=\"1\" class=\"dataframe\">\n",
       "  <thead>\n",
       "    <tr style=\"text-align: right;\">\n",
       "      <th></th>\n",
       "      <th>EV</th>\n",
       "      <th>PP</th>\n",
       "      <th>SH</th>\n",
       "    </tr>\n",
       "  </thead>\n",
       "  <tbody>\n",
       "    <tr>\n",
       "      <th>0</th>\n",
       "      <td>1</td>\n",
       "      <td>0</td>\n",
       "      <td>0</td>\n",
       "    </tr>\n",
       "    <tr>\n",
       "      <th>1</th>\n",
       "      <td>6</td>\n",
       "      <td>0</td>\n",
       "      <td>1</td>\n",
       "    </tr>\n",
       "    <tr>\n",
       "      <th>2</th>\n",
       "      <td>2</td>\n",
       "      <td>0</td>\n",
       "      <td>1</td>\n",
       "    </tr>\n",
       "    <tr>\n",
       "      <th>3</th>\n",
       "      <td>1</td>\n",
       "      <td>0</td>\n",
       "      <td>1</td>\n",
       "    </tr>\n",
       "    <tr>\n",
       "      <th>4</th>\n",
       "      <td>1</td>\n",
       "      <td>0</td>\n",
       "      <td>0</td>\n",
       "    </tr>\n",
       "  </tbody>\n",
       "</table>\n",
       "</div>"
      ],
      "text/plain": [
       "   EV  PP  SH\n",
       "0   1   0   0\n",
       "1   6   0   1\n",
       "2   2   0   1\n",
       "3   1   0   1\n",
       "4   1   0   0"
      ]
     },
     "execution_count": 109,
     "metadata": {},
     "output_type": "execute_result"
    }
   ],
   "source": [
    "# Read in 2006 data only to test our model\n",
    "\n",
    "df = pd.read_csv('test_data/2006_player.csv')\n",
    "df.head(5)\n",
    "cleandf = df[['EV', 'PP', 'SH']]\n",
    "cleandf.head(5)"
   ]
  },
  {
   "cell_type": "code",
   "execution_count": 110,
   "metadata": {
    "slideshow": {
     "slide_type": "subslide"
    }
   },
   "outputs": [],
   "source": [
    "# Loop through each row in the 2016 data and predict points for each\n",
    "# Create a dataframe which includes the predicted points, actual points and\n",
    "# the difference between predicted and actual point.\n",
    "\n",
    "X = cleandf\n",
    "y = df['PTS']\n",
    "\n",
    "for index, row in X.iterrows():\n",
    "    X_predict = sc.transform(X)\n",
    "    y_predict = model.predict(X_predict)\n",
    "    y_predict\n",
    "    \n",
    "comparison = pd.DataFrame({'Predicted Scores':y_predict, 'Actual Scores':y})\n",
    "# comparison.head(5)\n",
    "comparison['Score Difference'] = y_predict - y\n"
   ]
  },
  {
   "cell_type": "code",
   "execution_count": 111,
   "metadata": {
    "slideshow": {
     "slide_type": "fragment"
    }
   },
   "outputs": [
    {
     "data": {
      "text/plain": [
       "count    1029.000000\n",
       "mean        0.260727\n",
       "std         8.487039\n",
       "min       -58.904176\n",
       "25%        -2.656848\n",
       "50%         2.563160\n",
       "75%         4.718606\n",
       "max        25.329473\n",
       "Name: Score Difference, dtype: float64"
      ]
     },
     "execution_count": 111,
     "metadata": {},
     "output_type": "execute_result"
    }
   ],
   "source": [
    "# View .describe() data to create cutoffs for regplot\n",
    "\n",
    "comparison['Score Difference'].describe()"
   ]
  },
  {
   "cell_type": "code",
   "execution_count": 112,
   "metadata": {
    "slideshow": {
     "slide_type": "subslide"
    }
   },
   "outputs": [
    {
     "data": {
      "text/plain": [
       "<matplotlib.axes._subplots.AxesSubplot at 0x125a93a58>"
      ]
     },
     "execution_count": 112,
     "metadata": {},
     "output_type": "execute_result"
    },
    {
     "data": {
      "image/png": "[encoded data removed]",
      "text/plain": [
       "<Figure size 576x396 with 1 Axes>"
      ]
     },
     "metadata": {},
     "output_type": "display_data"
    }
   ],
   "source": [
    "# Plot the point differences on a regression scatter plot that shows linear regression line\n",
    "# and 95% confidence interval for the regression line\n",
    "\n",
    "x = np.linspace(-60, 30, 1029)\n",
    "y = comparison['Score Difference']\n",
    "\n",
    "sns.regplot(x,y)"
   ]
  },
  {
   "cell_type": "markdown",
   "metadata": {
    "slideshow": {
     "slide_type": "skip"
    }
   },
   "source": []
  },
  {
   "cell_type": "markdown",
   "metadata": {
    "slideshow": {
     "slide_type": "slide"
    }
   },
   "source": [
    "# Linear Regression on advanced skater statistics"
   ]
  },
  {
   "cell_type": "code",
   "execution_count": 113,
   "metadata": {
    "slideshow": {
     "slide_type": "skip"
    }
   },
   "outputs": [
    {
     "data": {
      "text/html": [
       "<div>\n",
       "<style scoped>\n",
       "    .dataframe tbody tr th:only-of-type {\n",
       "        vertical-align: middle;\n",
       "    }\n",
       "\n",
       "    .dataframe tbody tr th {\n",
       "        vertical-align: top;\n",
       "    }\n",
       "\n",
       "    .dataframe thead th {\n",
       "        text-align: right;\n",
       "    }\n",
       "</style>\n",
       "<table border=\"1\" class=\"dataframe\">\n",
       "  <thead>\n",
       "    <tr style=\"text-align: right;\">\n",
       "      <th></th>\n",
       "      <th>Player</th>\n",
       "      <th>Age</th>\n",
       "      <th>Tm</th>\n",
       "      <th>Pos</th>\n",
       "      <th>GP</th>\n",
       "      <th>G</th>\n",
       "      <th>A</th>\n",
       "      <th>PTS</th>\n",
       "      <th>+/-</th>\n",
       "      <th>PIM</th>\n",
       "      <th>...</th>\n",
       "      <th>EV.1</th>\n",
       "      <th>PP.1</th>\n",
       "      <th>SH.1</th>\n",
       "      <th>S</th>\n",
       "      <th>TOI</th>\n",
       "      <th>ATOI</th>\n",
       "      <th>BLK</th>\n",
       "      <th>HIT</th>\n",
       "      <th>FOW</th>\n",
       "      <th>FOL</th>\n",
       "    </tr>\n",
       "  </thead>\n",
       "  <tbody>\n",
       "    <tr>\n",
       "      <th>0</th>\n",
       "      <td>Spencer Abbott\\abbotsp01</td>\n",
       "      <td>28</td>\n",
       "      <td>CHI</td>\n",
       "      <td>LW</td>\n",
       "      <td>1</td>\n",
       "      <td>0</td>\n",
       "      <td>0</td>\n",
       "      <td>0</td>\n",
       "      <td>0</td>\n",
       "      <td>0</td>\n",
       "      <td>...</td>\n",
       "      <td>0</td>\n",
       "      <td>0</td>\n",
       "      <td>0</td>\n",
       "      <td>1</td>\n",
       "      <td>9</td>\n",
       "      <td>8:34</td>\n",
       "      <td>0.0</td>\n",
       "      <td>0</td>\n",
       "      <td>0.0</td>\n",
       "      <td>0.0</td>\n",
       "    </tr>\n",
       "    <tr>\n",
       "      <th>1</th>\n",
       "      <td>Justin Abdelkader\\abdelju01</td>\n",
       "      <td>29</td>\n",
       "      <td>DET</td>\n",
       "      <td>LW</td>\n",
       "      <td>64</td>\n",
       "      <td>7</td>\n",
       "      <td>14</td>\n",
       "      <td>21</td>\n",
       "      <td>-20</td>\n",
       "      <td>50</td>\n",
       "      <td>...</td>\n",
       "      <td>11</td>\n",
       "      <td>2</td>\n",
       "      <td>1</td>\n",
       "      <td>104</td>\n",
       "      <td>1066</td>\n",
       "      <td>16:40</td>\n",
       "      <td>27.0</td>\n",
       "      <td>144</td>\n",
       "      <td>5.0</td>\n",
       "      <td>12.0</td>\n",
       "    </tr>\n",
       "    <tr>\n",
       "      <th>2</th>\n",
       "      <td>Pontus Aberg\\abergpo01</td>\n",
       "      <td>23</td>\n",
       "      <td>NSH</td>\n",
       "      <td>LW</td>\n",
       "      <td>15</td>\n",
       "      <td>1</td>\n",
       "      <td>1</td>\n",
       "      <td>2</td>\n",
       "      <td>-2</td>\n",
       "      <td>4</td>\n",
       "      <td>...</td>\n",
       "      <td>1</td>\n",
       "      <td>0</td>\n",
       "      <td>0</td>\n",
       "      <td>12</td>\n",
       "      <td>185</td>\n",
       "      <td>12:20</td>\n",
       "      <td>2.0</td>\n",
       "      <td>9</td>\n",
       "      <td>1.0</td>\n",
       "      <td>0.0</td>\n",
       "    </tr>\n",
       "    <tr>\n",
       "      <th>3</th>\n",
       "      <td>Noel Acciari\\acciano01</td>\n",
       "      <td>25</td>\n",
       "      <td>BOS</td>\n",
       "      <td>C</td>\n",
       "      <td>29</td>\n",
       "      <td>2</td>\n",
       "      <td>3</td>\n",
       "      <td>5</td>\n",
       "      <td>3</td>\n",
       "      <td>16</td>\n",
       "      <td>...</td>\n",
       "      <td>3</td>\n",
       "      <td>0</td>\n",
       "      <td>0</td>\n",
       "      <td>24</td>\n",
       "      <td>301</td>\n",
       "      <td>10:22</td>\n",
       "      <td>5.0</td>\n",
       "      <td>80</td>\n",
       "      <td>11.0</td>\n",
       "      <td>18.0</td>\n",
       "    </tr>\n",
       "    <tr>\n",
       "      <th>4</th>\n",
       "      <td>Kenny Agostino\\agostke01</td>\n",
       "      <td>24</td>\n",
       "      <td>STL</td>\n",
       "      <td>LW</td>\n",
       "      <td>7</td>\n",
       "      <td>1</td>\n",
       "      <td>2</td>\n",
       "      <td>3</td>\n",
       "      <td>0</td>\n",
       "      <td>2</td>\n",
       "      <td>...</td>\n",
       "      <td>1</td>\n",
       "      <td>1</td>\n",
       "      <td>0</td>\n",
       "      <td>17</td>\n",
       "      <td>89</td>\n",
       "      <td>12:47</td>\n",
       "      <td>3.0</td>\n",
       "      <td>9</td>\n",
       "      <td>0.0</td>\n",
       "      <td>0.0</td>\n",
       "    </tr>\n",
       "  </tbody>\n",
       "</table>\n",
       "<p>5 rows × 25 columns</p>\n",
       "</div>"
      ],
      "text/plain": [
       "                        Player  Age   Tm Pos  GP  G   A  PTS  +/-  PIM  ...  \\\n",
       "0     Spencer Abbott\\abbotsp01   28  CHI  LW   1  0   0    0    0    0  ...   \n",
       "1  Justin Abdelkader\\abdelju01   29  DET  LW  64  7  14   21  -20   50  ...   \n",
       "2       Pontus Aberg\\abergpo01   23  NSH  LW  15  1   1    2   -2    4  ...   \n",
       "3       Noel Acciari\\acciano01   25  BOS   C  29  2   3    5    3   16  ...   \n",
       "4     Kenny Agostino\\agostke01   24  STL  LW   7  1   2    3    0    2  ...   \n",
       "\n",
       "   EV.1  PP.1  SH.1    S   TOI   ATOI   BLK  HIT   FOW   FOL  \n",
       "0     0     0     0    1     9   8:34   0.0    0   0.0   0.0  \n",
       "1    11     2     1  104  1066  16:40  27.0  144   5.0  12.0  \n",
       "2     1     0     0   12   185  12:20   2.0    9   1.0   0.0  \n",
       "3     3     0     0   24   301  10:22   5.0   80  11.0  18.0  \n",
       "4     1     1     0   17    89  12:47   3.0    9   0.0   0.0  \n",
       "\n",
       "[5 rows x 25 columns]"
      ]
     },
     "execution_count": 113,
     "metadata": {},
     "output_type": "execute_result"
    }
   ],
   "source": [
    "# Read the csv file into a pandas DataFrame\n",
    "\n",
    "player = pd.concat([pd.read_csv(f) for f in glob.glob('player_data/*c.csv')], \n",
    "                             ignore_index = True)\n",
    "\n",
    "player.head()"
   ]
  },
  {
   "cell_type": "code",
   "execution_count": 114,
   "metadata": {
    "slideshow": {
     "slide_type": "skip"
    }
   },
   "outputs": [
    {
     "data": {
      "text/html": [
       "<div>\n",
       "<style scoped>\n",
       "    .dataframe tbody tr th:only-of-type {\n",
       "        vertical-align: middle;\n",
       "    }\n",
       "\n",
       "    .dataframe tbody tr th {\n",
       "        vertical-align: top;\n",
       "    }\n",
       "\n",
       "    .dataframe thead th {\n",
       "        text-align: right;\n",
       "    }\n",
       "</style>\n",
       "<table border=\"1\" class=\"dataframe\">\n",
       "  <thead>\n",
       "    <tr style=\"text-align: right;\">\n",
       "      <th></th>\n",
       "      <th>Age</th>\n",
       "      <th>CA</th>\n",
       "      <th>CF</th>\n",
       "      <th>CF%</th>\n",
       "      <th>CF% rel</th>\n",
       "      <th>E+/-</th>\n",
       "      <th>FA</th>\n",
       "      <th>FF</th>\n",
       "      <th>FF%</th>\n",
       "      <th>FF% rel</th>\n",
       "      <th>...</th>\n",
       "      <th>SAtt.</th>\n",
       "      <th>TK</th>\n",
       "      <th>TOI(EV)</th>\n",
       "      <th>TOI/60</th>\n",
       "      <th>Thru%</th>\n",
       "      <th>Tm</th>\n",
       "      <th>dZS%</th>\n",
       "      <th>oZS%</th>\n",
       "      <th>oiSH%</th>\n",
       "      <th>oiSV%</th>\n",
       "    </tr>\n",
       "  </thead>\n",
       "  <tbody>\n",
       "    <tr>\n",
       "      <th>0</th>\n",
       "      <td>23</td>\n",
       "      <td>628</td>\n",
       "      <td>765</td>\n",
       "      <td>54.9</td>\n",
       "      <td>-0.4</td>\n",
       "      <td>NaN</td>\n",
       "      <td>478</td>\n",
       "      <td>599</td>\n",
       "      <td>55.6</td>\n",
       "      <td>0.7</td>\n",
       "      <td>...</td>\n",
       "      <td>226.0</td>\n",
       "      <td>17</td>\n",
       "      <td>10:26</td>\n",
       "      <td>12:18</td>\n",
       "      <td>57.1</td>\n",
       "      <td>DET</td>\n",
       "      <td>41.2</td>\n",
       "      <td>58.8</td>\n",
       "      <td>8.3</td>\n",
       "      <td>93.6</td>\n",
       "    </tr>\n",
       "    <tr>\n",
       "      <th>1</th>\n",
       "      <td>20</td>\n",
       "      <td>201</td>\n",
       "      <td>153</td>\n",
       "      <td>43.2</td>\n",
       "      <td>-6.0</td>\n",
       "      <td>NaN</td>\n",
       "      <td>156</td>\n",
       "      <td>118</td>\n",
       "      <td>43.1</td>\n",
       "      <td>-8.0</td>\n",
       "      <td>...</td>\n",
       "      <td>50.0</td>\n",
       "      <td>2</td>\n",
       "      <td>9:37</td>\n",
       "      <td>11:13</td>\n",
       "      <td>62.0</td>\n",
       "      <td>BUF</td>\n",
       "      <td>46.4</td>\n",
       "      <td>53.6</td>\n",
       "      <td>4.5</td>\n",
       "      <td>92.6</td>\n",
       "    </tr>\n",
       "    <tr>\n",
       "      <th>2</th>\n",
       "      <td>33</td>\n",
       "      <td>647</td>\n",
       "      <td>565</td>\n",
       "      <td>46.6</td>\n",
       "      <td>-7.8</td>\n",
       "      <td>NaN</td>\n",
       "      <td>460</td>\n",
       "      <td>424</td>\n",
       "      <td>48.0</td>\n",
       "      <td>-6.0</td>\n",
       "      <td>...</td>\n",
       "      <td>138.0</td>\n",
       "      <td>24</td>\n",
       "      <td>9:05</td>\n",
       "      <td>12:11</td>\n",
       "      <td>65.2</td>\n",
       "      <td>PIT</td>\n",
       "      <td>50.6</td>\n",
       "      <td>49.4</td>\n",
       "      <td>5.6</td>\n",
       "      <td>91.1</td>\n",
       "    </tr>\n",
       "    <tr>\n",
       "      <th>3</th>\n",
       "      <td>29</td>\n",
       "      <td>532</td>\n",
       "      <td>470</td>\n",
       "      <td>46.9</td>\n",
       "      <td>-7.3</td>\n",
       "      <td>NaN</td>\n",
       "      <td>377</td>\n",
       "      <td>322</td>\n",
       "      <td>46.1</td>\n",
       "      <td>-8.0</td>\n",
       "      <td>...</td>\n",
       "      <td>53.0</td>\n",
       "      <td>7</td>\n",
       "      <td>13:20</td>\n",
       "      <td>15:08</td>\n",
       "      <td>39.6</td>\n",
       "      <td>VAN</td>\n",
       "      <td>59.4</td>\n",
       "      <td>40.6</td>\n",
       "      <td>9.3</td>\n",
       "      <td>92.1</td>\n",
       "    </tr>\n",
       "    <tr>\n",
       "      <th>4</th>\n",
       "      <td>38</td>\n",
       "      <td>702</td>\n",
       "      <td>655</td>\n",
       "      <td>48.3</td>\n",
       "      <td>-2.5</td>\n",
       "      <td>NaN</td>\n",
       "      <td>541</td>\n",
       "      <td>484</td>\n",
       "      <td>47.2</td>\n",
       "      <td>-2.9</td>\n",
       "      <td>...</td>\n",
       "      <td>187.0</td>\n",
       "      <td>45</td>\n",
       "      <td>14:11</td>\n",
       "      <td>19:17</td>\n",
       "      <td>51.3</td>\n",
       "      <td>OTT</td>\n",
       "      <td>47.2</td>\n",
       "      <td>52.8</td>\n",
       "      <td>8.2</td>\n",
       "      <td>88.1</td>\n",
       "    </tr>\n",
       "  </tbody>\n",
       "</table>\n",
       "<p>5 rows × 26 columns</p>\n",
       "</div>"
      ],
      "text/plain": [
       "   Age   CA   CF   CF%  CF% rel  E+/-   FA   FF   FF%  FF% rel  ...  SAtt.  \\\n",
       "0   23  628  765  54.9     -0.4   NaN  478  599  55.6      0.7  ...  226.0   \n",
       "1   20  201  153  43.2     -6.0   NaN  156  118  43.1     -8.0  ...   50.0   \n",
       "2   33  647  565  46.6     -7.8   NaN  460  424  48.0     -6.0  ...  138.0   \n",
       "3   29  532  470  46.9     -7.3   NaN  377  322  46.1     -8.0  ...   53.0   \n",
       "4   38  702  655  48.3     -2.5   NaN  541  484  47.2     -2.9  ...  187.0   \n",
       "\n",
       "   TK  TOI(EV) TOI/60 Thru%   Tm  dZS%  oZS% oiSH% oiSV%  \n",
       "0  17    10:26  12:18  57.1  DET  41.2  58.8   8.3  93.6  \n",
       "1   2     9:37  11:13  62.0  BUF  46.4  53.6   4.5  92.6  \n",
       "2  24     9:05  12:11  65.2  PIT  50.6  49.4   5.6  91.1  \n",
       "3   7    13:20  15:08  39.6  VAN  59.4  40.6   9.3  92.1  \n",
       "4  45    14:11  19:17  51.3  OTT  47.2  52.8   8.2  88.1  \n",
       "\n",
       "[5 rows x 26 columns]"
      ]
     },
     "execution_count": 114,
     "metadata": {},
     "output_type": "execute_result"
    }
   ],
   "source": [
    "# Read the csv files for advanced data into a pandas DataFrame\n",
    "\n",
    "advanced = pd.concat([pd.read_csv(f, encoding=\"ISO-8859-1\") for f in glob.glob('advanced_data/*corsi.csv')], \n",
    "                             ignore_index = True)\n",
    "\n",
    "advanced.head()"
   ]
  },
  {
   "cell_type": "code",
   "execution_count": 115,
   "metadata": {
    "slideshow": {
     "slide_type": "skip"
    }
   },
   "outputs": [
    {
     "data": {
      "text/html": [
       "<div>\n",
       "<style scoped>\n",
       "    .dataframe tbody tr th:only-of-type {\n",
       "        vertical-align: middle;\n",
       "    }\n",
       "\n",
       "    .dataframe tbody tr th {\n",
       "        vertical-align: top;\n",
       "    }\n",
       "\n",
       "    .dataframe thead th {\n",
       "        text-align: right;\n",
       "    }\n",
       "</style>\n",
       "<table border=\"1\" class=\"dataframe\">\n",
       "  <thead>\n",
       "    <tr style=\"text-align: right;\">\n",
       "      <th></th>\n",
       "      <th>Player</th>\n",
       "      <th>Age</th>\n",
       "      <th>Tm_x</th>\n",
       "      <th>Pos_x</th>\n",
       "      <th>GP_x</th>\n",
       "      <th>G</th>\n",
       "      <th>A</th>\n",
       "      <th>PTS</th>\n",
       "      <th>+/-</th>\n",
       "      <th>PIM</th>\n",
       "      <th>...</th>\n",
       "      <th>TK</th>\n",
       "      <th>TOI(EV)</th>\n",
       "      <th>TOI/60</th>\n",
       "      <th>Thru%</th>\n",
       "      <th>Tm_y</th>\n",
       "      <th>dZS%</th>\n",
       "      <th>oZS%</th>\n",
       "      <th>oiSH%</th>\n",
       "      <th>oiSV%</th>\n",
       "      <th>_merge</th>\n",
       "    </tr>\n",
       "  </thead>\n",
       "  <tbody>\n",
       "    <tr>\n",
       "      <th>0</th>\n",
       "      <td>Spencer Abbott\\abbotsp01</td>\n",
       "      <td>28</td>\n",
       "      <td>CHI</td>\n",
       "      <td>LW</td>\n",
       "      <td>1</td>\n",
       "      <td>0</td>\n",
       "      <td>0</td>\n",
       "      <td>0</td>\n",
       "      <td>0</td>\n",
       "      <td>0</td>\n",
       "      <td>...</td>\n",
       "      <td>1</td>\n",
       "      <td>8:34</td>\n",
       "      <td>8:34</td>\n",
       "      <td>50.0</td>\n",
       "      <td>CHI</td>\n",
       "      <td>0.0</td>\n",
       "      <td>100.0</td>\n",
       "      <td>0.0</td>\n",
       "      <td>100.0</td>\n",
       "      <td>both</td>\n",
       "    </tr>\n",
       "    <tr>\n",
       "      <th>1</th>\n",
       "      <td>Justin Abdelkader\\abdelju01</td>\n",
       "      <td>29</td>\n",
       "      <td>DET</td>\n",
       "      <td>LW</td>\n",
       "      <td>64</td>\n",
       "      <td>7</td>\n",
       "      <td>14</td>\n",
       "      <td>21</td>\n",
       "      <td>-20</td>\n",
       "      <td>50</td>\n",
       "      <td>...</td>\n",
       "      <td>15</td>\n",
       "      <td>13:07</td>\n",
       "      <td>16:39</td>\n",
       "      <td>65.0</td>\n",
       "      <td>DET</td>\n",
       "      <td>53.7</td>\n",
       "      <td>46.3</td>\n",
       "      <td>5.3</td>\n",
       "      <td>91.1</td>\n",
       "      <td>both</td>\n",
       "    </tr>\n",
       "    <tr>\n",
       "      <th>2</th>\n",
       "      <td>Pontus Aberg\\abergpo01</td>\n",
       "      <td>23</td>\n",
       "      <td>NSH</td>\n",
       "      <td>LW</td>\n",
       "      <td>15</td>\n",
       "      <td>1</td>\n",
       "      <td>1</td>\n",
       "      <td>2</td>\n",
       "      <td>-2</td>\n",
       "      <td>4</td>\n",
       "      <td>...</td>\n",
       "      <td>5</td>\n",
       "      <td>12:05</td>\n",
       "      <td>12:20</td>\n",
       "      <td>50.0</td>\n",
       "      <td>NSH</td>\n",
       "      <td>51.7</td>\n",
       "      <td>48.3</td>\n",
       "      <td>6.6</td>\n",
       "      <td>92.1</td>\n",
       "      <td>both</td>\n",
       "    </tr>\n",
       "    <tr>\n",
       "      <th>3</th>\n",
       "      <td>Noel Acciari\\acciano01</td>\n",
       "      <td>25</td>\n",
       "      <td>BOS</td>\n",
       "      <td>C</td>\n",
       "      <td>29</td>\n",
       "      <td>2</td>\n",
       "      <td>3</td>\n",
       "      <td>5</td>\n",
       "      <td>3</td>\n",
       "      <td>16</td>\n",
       "      <td>...</td>\n",
       "      <td>10</td>\n",
       "      <td>10:01</td>\n",
       "      <td>10:14</td>\n",
       "      <td>55.8</td>\n",
       "      <td>BOS</td>\n",
       "      <td>59.1</td>\n",
       "      <td>40.9</td>\n",
       "      <td>7.8</td>\n",
       "      <td>95.8</td>\n",
       "      <td>both</td>\n",
       "    </tr>\n",
       "    <tr>\n",
       "      <th>4</th>\n",
       "      <td>Kenny Agostino\\agostke01</td>\n",
       "      <td>24</td>\n",
       "      <td>STL</td>\n",
       "      <td>LW</td>\n",
       "      <td>7</td>\n",
       "      <td>1</td>\n",
       "      <td>2</td>\n",
       "      <td>3</td>\n",
       "      <td>0</td>\n",
       "      <td>2</td>\n",
       "      <td>...</td>\n",
       "      <td>1</td>\n",
       "      <td>11:30</td>\n",
       "      <td>12:47</td>\n",
       "      <td>65.4</td>\n",
       "      <td>STL</td>\n",
       "      <td>39.6</td>\n",
       "      <td>60.4</td>\n",
       "      <td>5.8</td>\n",
       "      <td>90.9</td>\n",
       "      <td>both</td>\n",
       "    </tr>\n",
       "    <tr>\n",
       "      <th>5</th>\n",
       "      <td>Sebastian Aho\\ahose01</td>\n",
       "      <td>19</td>\n",
       "      <td>CAR</td>\n",
       "      <td>RW</td>\n",
       "      <td>82</td>\n",
       "      <td>24</td>\n",
       "      <td>25</td>\n",
       "      <td>49</td>\n",
       "      <td>-1</td>\n",
       "      <td>26</td>\n",
       "      <td>...</td>\n",
       "      <td>40</td>\n",
       "      <td>14:15</td>\n",
       "      <td>16:47</td>\n",
       "      <td>59.1</td>\n",
       "      <td>CAR</td>\n",
       "      <td>45.3</td>\n",
       "      <td>54.7</td>\n",
       "      <td>7.6</td>\n",
       "      <td>91.2</td>\n",
       "      <td>both</td>\n",
       "    </tr>\n",
       "    <tr>\n",
       "      <th>6</th>\n",
       "      <td>Karl Alzner\\alzneka01</td>\n",
       "      <td>28</td>\n",
       "      <td>WSH</td>\n",
       "      <td>D</td>\n",
       "      <td>82</td>\n",
       "      <td>3</td>\n",
       "      <td>10</td>\n",
       "      <td>13</td>\n",
       "      <td>23</td>\n",
       "      <td>28</td>\n",
       "      <td>...</td>\n",
       "      <td>17</td>\n",
       "      <td>16:42</td>\n",
       "      <td>19:48</td>\n",
       "      <td>50.0</td>\n",
       "      <td>WSH</td>\n",
       "      <td>54.1</td>\n",
       "      <td>45.9</td>\n",
       "      <td>10.3</td>\n",
       "      <td>93.9</td>\n",
       "      <td>both</td>\n",
       "    </tr>\n",
       "    <tr>\n",
       "      <th>7</th>\n",
       "      <td>Josh Anderson\\anderjo05</td>\n",
       "      <td>22</td>\n",
       "      <td>CBJ</td>\n",
       "      <td>RW</td>\n",
       "      <td>78</td>\n",
       "      <td>17</td>\n",
       "      <td>12</td>\n",
       "      <td>29</td>\n",
       "      <td>12</td>\n",
       "      <td>89</td>\n",
       "      <td>...</td>\n",
       "      <td>25</td>\n",
       "      <td>11:44</td>\n",
       "      <td>12:01</td>\n",
       "      <td>61.7</td>\n",
       "      <td>CBJ</td>\n",
       "      <td>54.2</td>\n",
       "      <td>45.8</td>\n",
       "      <td>9.5</td>\n",
       "      <td>93.8</td>\n",
       "      <td>both</td>\n",
       "    </tr>\n",
       "    <tr>\n",
       "      <th>8</th>\n",
       "      <td>Rasmus Andersson\\anderra01</td>\n",
       "      <td>20</td>\n",
       "      <td>CGY</td>\n",
       "      <td>D</td>\n",
       "      <td>1</td>\n",
       "      <td>0</td>\n",
       "      <td>0</td>\n",
       "      <td>0</td>\n",
       "      <td>-1</td>\n",
       "      <td>0</td>\n",
       "      <td>...</td>\n",
       "      <td>0</td>\n",
       "      <td>16:40</td>\n",
       "      <td>18:33</td>\n",
       "      <td>0.0</td>\n",
       "      <td>CGY</td>\n",
       "      <td>40.0</td>\n",
       "      <td>60.0</td>\n",
       "      <td>0.0</td>\n",
       "      <td>80.0</td>\n",
       "      <td>both</td>\n",
       "    </tr>\n",
       "    <tr>\n",
       "      <th>9</th>\n",
       "      <td>Andy Andreoff\\andrean01</td>\n",
       "      <td>25</td>\n",
       "      <td>LAK</td>\n",
       "      <td>LW</td>\n",
       "      <td>36</td>\n",
       "      <td>0</td>\n",
       "      <td>2</td>\n",
       "      <td>2</td>\n",
       "      <td>-2</td>\n",
       "      <td>70</td>\n",
       "      <td>...</td>\n",
       "      <td>5</td>\n",
       "      <td>10:21</td>\n",
       "      <td>10:36</td>\n",
       "      <td>46.9</td>\n",
       "      <td>LAK</td>\n",
       "      <td>41.5</td>\n",
       "      <td>58.5</td>\n",
       "      <td>4.0</td>\n",
       "      <td>93.8</td>\n",
       "      <td>both</td>\n",
       "    </tr>\n",
       "    <tr>\n",
       "      <th>10</th>\n",
       "      <td>Sven Andrighetto\\andrisv01</td>\n",
       "      <td>23</td>\n",
       "      <td>TOT</td>\n",
       "      <td>RW</td>\n",
       "      <td>46</td>\n",
       "      <td>7</td>\n",
       "      <td>17</td>\n",
       "      <td>24</td>\n",
       "      <td>1</td>\n",
       "      <td>12</td>\n",
       "      <td>...</td>\n",
       "      <td>19</td>\n",
       "      <td>12:44</td>\n",
       "      <td>13:58</td>\n",
       "      <td>52.3</td>\n",
       "      <td>TOT</td>\n",
       "      <td>46.8</td>\n",
       "      <td>53.2</td>\n",
       "      <td>8.1</td>\n",
       "      <td>92.1</td>\n",
       "      <td>both</td>\n",
       "    </tr>\n",
       "    <tr>\n",
       "      <th>11</th>\n",
       "      <td>Artem Anisimov\\anisiar01</td>\n",
       "      <td>28</td>\n",
       "      <td>CHI</td>\n",
       "      <td>C</td>\n",
       "      <td>64</td>\n",
       "      <td>22</td>\n",
       "      <td>23</td>\n",
       "      <td>45</td>\n",
       "      <td>9</td>\n",
       "      <td>30</td>\n",
       "      <td>...</td>\n",
       "      <td>35</td>\n",
       "      <td>14:38</td>\n",
       "      <td>17:51</td>\n",
       "      <td>55.0</td>\n",
       "      <td>CHI</td>\n",
       "      <td>34.9</td>\n",
       "      <td>65.1</td>\n",
       "      <td>11.9</td>\n",
       "      <td>92.0</td>\n",
       "      <td>both</td>\n",
       "    </tr>\n",
       "    <tr>\n",
       "      <th>12</th>\n",
       "      <td>Josh Archibald\\archijo01</td>\n",
       "      <td>24</td>\n",
       "      <td>PIT</td>\n",
       "      <td>RW</td>\n",
       "      <td>10</td>\n",
       "      <td>3</td>\n",
       "      <td>0</td>\n",
       "      <td>3</td>\n",
       "      <td>3</td>\n",
       "      <td>4</td>\n",
       "      <td>...</td>\n",
       "      <td>0</td>\n",
       "      <td>10:20</td>\n",
       "      <td>10:52</td>\n",
       "      <td>45.8</td>\n",
       "      <td>PIT</td>\n",
       "      <td>50.0</td>\n",
       "      <td>50.0</td>\n",
       "      <td>11.1</td>\n",
       "      <td>94.3</td>\n",
       "      <td>both</td>\n",
       "    </tr>\n",
       "    <tr>\n",
       "      <th>13</th>\n",
       "      <td>Joel Armia\\armiajo01</td>\n",
       "      <td>23</td>\n",
       "      <td>WPG</td>\n",
       "      <td>RW</td>\n",
       "      <td>57</td>\n",
       "      <td>10</td>\n",
       "      <td>9</td>\n",
       "      <td>19</td>\n",
       "      <td>-8</td>\n",
       "      <td>20</td>\n",
       "      <td>...</td>\n",
       "      <td>42</td>\n",
       "      <td>12:24</td>\n",
       "      <td>15:08</td>\n",
       "      <td>56.9</td>\n",
       "      <td>WPG</td>\n",
       "      <td>57.3</td>\n",
       "      <td>42.7</td>\n",
       "      <td>6.2</td>\n",
       "      <td>92.6</td>\n",
       "      <td>both</td>\n",
       "    </tr>\n",
       "    <tr>\n",
       "      <th>14</th>\n",
       "      <td>Viktor Arvidsson\\arvidvi01</td>\n",
       "      <td>23</td>\n",
       "      <td>NSH</td>\n",
       "      <td>LW</td>\n",
       "      <td>80</td>\n",
       "      <td>31</td>\n",
       "      <td>30</td>\n",
       "      <td>61</td>\n",
       "      <td>16</td>\n",
       "      <td>28</td>\n",
       "      <td>...</td>\n",
       "      <td>37</td>\n",
       "      <td>14:02</td>\n",
       "      <td>17:09</td>\n",
       "      <td>59.6</td>\n",
       "      <td>NSH</td>\n",
       "      <td>44.2</td>\n",
       "      <td>55.8</td>\n",
       "      <td>9.6</td>\n",
       "      <td>91.0</td>\n",
       "      <td>both</td>\n",
       "    </tr>\n",
       "    <tr>\n",
       "      <th>15</th>\n",
       "      <td>Andreas Athanasiou\\athanan01</td>\n",
       "      <td>22</td>\n",
       "      <td>DET</td>\n",
       "      <td>C</td>\n",
       "      <td>64</td>\n",
       "      <td>18</td>\n",
       "      <td>11</td>\n",
       "      <td>29</td>\n",
       "      <td>-7</td>\n",
       "      <td>28</td>\n",
       "      <td>...</td>\n",
       "      <td>17</td>\n",
       "      <td>11:43</td>\n",
       "      <td>13:28</td>\n",
       "      <td>50.8</td>\n",
       "      <td>DET</td>\n",
       "      <td>37.9</td>\n",
       "      <td>62.1</td>\n",
       "      <td>9.0</td>\n",
       "      <td>90.9</td>\n",
       "      <td>both</td>\n",
       "    </tr>\n",
       "    <tr>\n",
       "      <th>16</th>\n",
       "      <td>Cam Atkinson\\atkinca01</td>\n",
       "      <td>27</td>\n",
       "      <td>CBJ</td>\n",
       "      <td>RW</td>\n",
       "      <td>82</td>\n",
       "      <td>35</td>\n",
       "      <td>27</td>\n",
       "      <td>62</td>\n",
       "      <td>13</td>\n",
       "      <td>22</td>\n",
       "      <td>...</td>\n",
       "      <td>36</td>\n",
       "      <td>13:59</td>\n",
       "      <td>18:05</td>\n",
       "      <td>60.2</td>\n",
       "      <td>CBJ</td>\n",
       "      <td>54.7</td>\n",
       "      <td>45.3</td>\n",
       "      <td>8.9</td>\n",
       "      <td>93.3</td>\n",
       "      <td>both</td>\n",
       "    </tr>\n",
       "    <tr>\n",
       "      <th>17</th>\n",
       "      <td>Brady Austin\\austibr01</td>\n",
       "      <td>23</td>\n",
       "      <td>BUF</td>\n",
       "      <td>D</td>\n",
       "      <td>5</td>\n",
       "      <td>0</td>\n",
       "      <td>0</td>\n",
       "      <td>0</td>\n",
       "      <td>0</td>\n",
       "      <td>4</td>\n",
       "      <td>...</td>\n",
       "      <td>1</td>\n",
       "      <td>15:29</td>\n",
       "      <td>16:05</td>\n",
       "      <td>80.0</td>\n",
       "      <td>BUF</td>\n",
       "      <td>37.7</td>\n",
       "      <td>62.3</td>\n",
       "      <td>5.7</td>\n",
       "      <td>93.0</td>\n",
       "      <td>both</td>\n",
       "    </tr>\n",
       "    <tr>\n",
       "      <th>18</th>\n",
       "      <td>Yohann Auvitu\\auvityo01</td>\n",
       "      <td>27</td>\n",
       "      <td>NJD</td>\n",
       "      <td>D</td>\n",
       "      <td>25</td>\n",
       "      <td>2</td>\n",
       "      <td>2</td>\n",
       "      <td>4</td>\n",
       "      <td>1</td>\n",
       "      <td>2</td>\n",
       "      <td>...</td>\n",
       "      <td>7</td>\n",
       "      <td>13:31</td>\n",
       "      <td>15:36</td>\n",
       "      <td>62.1</td>\n",
       "      <td>NJD</td>\n",
       "      <td>33.7</td>\n",
       "      <td>66.3</td>\n",
       "      <td>6.8</td>\n",
       "      <td>94.1</td>\n",
       "      <td>both</td>\n",
       "    </tr>\n",
       "    <tr>\n",
       "      <th>19</th>\n",
       "      <td>David Backes\\backeda01</td>\n",
       "      <td>32</td>\n",
       "      <td>BOS</td>\n",
       "      <td>RW</td>\n",
       "      <td>74</td>\n",
       "      <td>17</td>\n",
       "      <td>21</td>\n",
       "      <td>38</td>\n",
       "      <td>2</td>\n",
       "      <td>69</td>\n",
       "      <td>...</td>\n",
       "      <td>28</td>\n",
       "      <td>14:18</td>\n",
       "      <td>17:03</td>\n",
       "      <td>61.1</td>\n",
       "      <td>BOS</td>\n",
       "      <td>49.7</td>\n",
       "      <td>50.3</td>\n",
       "      <td>8.7</td>\n",
       "      <td>89.2</td>\n",
       "      <td>both</td>\n",
       "    </tr>\n",
       "    <tr>\n",
       "      <th>20</th>\n",
       "      <td>Mikael Backlund\\backlmi01</td>\n",
       "      <td>27</td>\n",
       "      <td>CGY</td>\n",
       "      <td>C</td>\n",
       "      <td>81</td>\n",
       "      <td>22</td>\n",
       "      <td>31</td>\n",
       "      <td>53</td>\n",
       "      <td>9</td>\n",
       "      <td>36</td>\n",
       "      <td>...</td>\n",
       "      <td>57</td>\n",
       "      <td>13:14</td>\n",
       "      <td>17:36</td>\n",
       "      <td>58.3</td>\n",
       "      <td>CGY</td>\n",
       "      <td>63.7</td>\n",
       "      <td>36.3</td>\n",
       "      <td>9.2</td>\n",
       "      <td>89.9</td>\n",
       "      <td>both</td>\n",
       "    </tr>\n",
       "    <tr>\n",
       "      <th>21</th>\n",
       "      <td>Nicklas Backstrom\\backsni02</td>\n",
       "      <td>29</td>\n",
       "      <td>WSH</td>\n",
       "      <td>C</td>\n",
       "      <td>82</td>\n",
       "      <td>23</td>\n",
       "      <td>63</td>\n",
       "      <td>86</td>\n",
       "      <td>17</td>\n",
       "      <td>38</td>\n",
       "      <td>...</td>\n",
       "      <td>61</td>\n",
       "      <td>14:30</td>\n",
       "      <td>18:16</td>\n",
       "      <td>60.1</td>\n",
       "      <td>WSH</td>\n",
       "      <td>47.0</td>\n",
       "      <td>53.0</td>\n",
       "      <td>10.2</td>\n",
       "      <td>92.4</td>\n",
       "      <td>both</td>\n",
       "    </tr>\n",
       "    <tr>\n",
       "      <th>22</th>\n",
       "      <td>Sven Baertschi\\baertsv01</td>\n",
       "      <td>24</td>\n",
       "      <td>VAN</td>\n",
       "      <td>LW</td>\n",
       "      <td>68</td>\n",
       "      <td>18</td>\n",
       "      <td>17</td>\n",
       "      <td>35</td>\n",
       "      <td>-6</td>\n",
       "      <td>8</td>\n",
       "      <td>...</td>\n",
       "      <td>39</td>\n",
       "      <td>13:41</td>\n",
       "      <td>15:53</td>\n",
       "      <td>61.6</td>\n",
       "      <td>VAN</td>\n",
       "      <td>50.0</td>\n",
       "      <td>50.0</td>\n",
       "      <td>10.0</td>\n",
       "      <td>90.6</td>\n",
       "      <td>both</td>\n",
       "    </tr>\n",
       "    <tr>\n",
       "      <th>23</th>\n",
       "      <td>Casey Bailey\\baileca01</td>\n",
       "      <td>25</td>\n",
       "      <td>OTT</td>\n",
       "      <td>RW</td>\n",
       "      <td>7</td>\n",
       "      <td>0</td>\n",
       "      <td>0</td>\n",
       "      <td>0</td>\n",
       "      <td>-1</td>\n",
       "      <td>0</td>\n",
       "      <td>...</td>\n",
       "      <td>1</td>\n",
       "      <td>0.333333333</td>\n",
       "      <td>0.333333333</td>\n",
       "      <td>83.3</td>\n",
       "      <td>OTT</td>\n",
       "      <td>33.3</td>\n",
       "      <td>66.7</td>\n",
       "      <td>0.0</td>\n",
       "      <td>94.1</td>\n",
       "      <td>both</td>\n",
       "    </tr>\n",
       "    <tr>\n",
       "      <th>24</th>\n",
       "      <td>Josh Bailey\\bailejo01</td>\n",
       "      <td>27</td>\n",
       "      <td>NYI</td>\n",
       "      <td>RW</td>\n",
       "      <td>82</td>\n",
       "      <td>13</td>\n",
       "      <td>43</td>\n",
       "      <td>56</td>\n",
       "      <td>5</td>\n",
       "      <td>12</td>\n",
       "      <td>...</td>\n",
       "      <td>54</td>\n",
       "      <td>15:10</td>\n",
       "      <td>18:22</td>\n",
       "      <td>56.9</td>\n",
       "      <td>NYI</td>\n",
       "      <td>37.9</td>\n",
       "      <td>62.1</td>\n",
       "      <td>10.5</td>\n",
       "      <td>90.1</td>\n",
       "      <td>both</td>\n",
       "    </tr>\n",
       "    <tr>\n",
       "      <th>25</th>\n",
       "      <td>Justin Bailey\\baileju01</td>\n",
       "      <td>21</td>\n",
       "      <td>BUF</td>\n",
       "      <td>RW</td>\n",
       "      <td>32</td>\n",
       "      <td>2</td>\n",
       "      <td>2</td>\n",
       "      <td>4</td>\n",
       "      <td>0</td>\n",
       "      <td>4</td>\n",
       "      <td>...</td>\n",
       "      <td>8</td>\n",
       "      <td>10:38</td>\n",
       "      <td>10:38</td>\n",
       "      <td>48.0</td>\n",
       "      <td>BUF</td>\n",
       "      <td>57.5</td>\n",
       "      <td>42.5</td>\n",
       "      <td>7.2</td>\n",
       "      <td>94.7</td>\n",
       "      <td>both</td>\n",
       "    </tr>\n",
       "    <tr>\n",
       "      <th>26</th>\n",
       "      <td>Nicholas Baptiste\\baptini01</td>\n",
       "      <td>21</td>\n",
       "      <td>BUF</td>\n",
       "      <td>RW</td>\n",
       "      <td>14</td>\n",
       "      <td>3</td>\n",
       "      <td>1</td>\n",
       "      <td>4</td>\n",
       "      <td>1</td>\n",
       "      <td>6</td>\n",
       "      <td>...</td>\n",
       "      <td>1</td>\n",
       "      <td>8:38</td>\n",
       "      <td>9:14</td>\n",
       "      <td>81.0</td>\n",
       "      <td>BUF</td>\n",
       "      <td>45.9</td>\n",
       "      <td>54.1</td>\n",
       "      <td>10.0</td>\n",
       "      <td>94.7</td>\n",
       "      <td>both</td>\n",
       "    </tr>\n",
       "    <tr>\n",
       "      <th>27</th>\n",
       "      <td>Ivan Barbashev\\barbaiv01</td>\n",
       "      <td>21</td>\n",
       "      <td>STL</td>\n",
       "      <td>C</td>\n",
       "      <td>30</td>\n",
       "      <td>5</td>\n",
       "      <td>7</td>\n",
       "      <td>12</td>\n",
       "      <td>5</td>\n",
       "      <td>2</td>\n",
       "      <td>...</td>\n",
       "      <td>9</td>\n",
       "      <td>10:52</td>\n",
       "      <td>11:47</td>\n",
       "      <td>48.8</td>\n",
       "      <td>STL</td>\n",
       "      <td>56.0</td>\n",
       "      <td>44.0</td>\n",
       "      <td>9.7</td>\n",
       "      <td>94.8</td>\n",
       "      <td>both</td>\n",
       "    </tr>\n",
       "    <tr>\n",
       "      <th>28</th>\n",
       "      <td>Riley Barber\\barberi01</td>\n",
       "      <td>22</td>\n",
       "      <td>WSH</td>\n",
       "      <td>RW</td>\n",
       "      <td>3</td>\n",
       "      <td>0</td>\n",
       "      <td>0</td>\n",
       "      <td>0</td>\n",
       "      <td>0</td>\n",
       "      <td>0</td>\n",
       "      <td>...</td>\n",
       "      <td>0</td>\n",
       "      <td>8:35</td>\n",
       "      <td>8:35</td>\n",
       "      <td>66.7</td>\n",
       "      <td>WSH</td>\n",
       "      <td>35.3</td>\n",
       "      <td>64.7</td>\n",
       "      <td>0.0</td>\n",
       "      <td>100.0</td>\n",
       "      <td>both</td>\n",
       "    </tr>\n",
       "    <tr>\n",
       "      <th>29</th>\n",
       "      <td>Mark Barberio\\barbema01</td>\n",
       "      <td>26</td>\n",
       "      <td>TOT</td>\n",
       "      <td>D</td>\n",
       "      <td>60</td>\n",
       "      <td>2</td>\n",
       "      <td>11</td>\n",
       "      <td>13</td>\n",
       "      <td>-5</td>\n",
       "      <td>14</td>\n",
       "      <td>...</td>\n",
       "      <td>16</td>\n",
       "      <td>15:54</td>\n",
       "      <td>18:16</td>\n",
       "      <td>40.4</td>\n",
       "      <td>TOT</td>\n",
       "      <td>45.6</td>\n",
       "      <td>54.4</td>\n",
       "      <td>6.9</td>\n",
       "      <td>92.2</td>\n",
       "      <td>both</td>\n",
       "    </tr>\n",
       "    <tr>\n",
       "      <th>...</th>\n",
       "      <td>...</td>\n",
       "      <td>...</td>\n",
       "      <td>...</td>\n",
       "      <td>...</td>\n",
       "      <td>...</td>\n",
       "      <td>...</td>\n",
       "      <td>...</td>\n",
       "      <td>...</td>\n",
       "      <td>...</td>\n",
       "      <td>...</td>\n",
       "      <td>...</td>\n",
       "      <td>...</td>\n",
       "      <td>...</td>\n",
       "      <td>...</td>\n",
       "      <td>...</td>\n",
       "      <td>...</td>\n",
       "      <td>...</td>\n",
       "      <td>...</td>\n",
       "      <td>...</td>\n",
       "      <td>...</td>\n",
       "      <td>...</td>\n",
       "    </tr>\n",
       "    <tr>\n",
       "      <th>8815</th>\n",
       "      <td>Joe Whitney\\whitnjo01</td>\n",
       "      <td>25</td>\n",
       "      <td>NJD</td>\n",
       "      <td>RW</td>\n",
       "      <td>1</td>\n",
       "      <td>0</td>\n",
       "      <td>0</td>\n",
       "      <td>0</td>\n",
       "      <td>0</td>\n",
       "      <td>0</td>\n",
       "      <td>...</td>\n",
       "      <td>0</td>\n",
       "      <td>8:00</td>\n",
       "      <td>8:00</td>\n",
       "      <td>NaN</td>\n",
       "      <td>NJD</td>\n",
       "      <td>0.0</td>\n",
       "      <td>100.0</td>\n",
       "      <td>0.0</td>\n",
       "      <td>100.0</td>\n",
       "      <td>both</td>\n",
       "    </tr>\n",
       "    <tr>\n",
       "      <th>8816</th>\n",
       "      <td>Ray Whitney\\whitnra01</td>\n",
       "      <td>41</td>\n",
       "      <td>DAL</td>\n",
       "      <td>LW</td>\n",
       "      <td>69</td>\n",
       "      <td>9</td>\n",
       "      <td>23</td>\n",
       "      <td>32</td>\n",
       "      <td>-6</td>\n",
       "      <td>14</td>\n",
       "      <td>...</td>\n",
       "      <td>25</td>\n",
       "      <td>11:06</td>\n",
       "      <td>13:59</td>\n",
       "      <td>52.3</td>\n",
       "      <td>DAL</td>\n",
       "      <td>42.7</td>\n",
       "      <td>57.3</td>\n",
       "      <td>6.6</td>\n",
       "      <td>92.6</td>\n",
       "      <td>both</td>\n",
       "    </tr>\n",
       "    <tr>\n",
       "      <th>8817</th>\n",
       "      <td>Ryan Whitney\\whitnry01</td>\n",
       "      <td>30</td>\n",
       "      <td>FLA</td>\n",
       "      <td>D</td>\n",
       "      <td>7</td>\n",
       "      <td>0</td>\n",
       "      <td>0</td>\n",
       "      <td>0</td>\n",
       "      <td>-7</td>\n",
       "      <td>6</td>\n",
       "      <td>...</td>\n",
       "      <td>0</td>\n",
       "      <td>14:29</td>\n",
       "      <td>16:45</td>\n",
       "      <td>50.0</td>\n",
       "      <td>FLA</td>\n",
       "      <td>51.8</td>\n",
       "      <td>48.2</td>\n",
       "      <td>5.3</td>\n",
       "      <td>87.2</td>\n",
       "      <td>both</td>\n",
       "    </tr>\n",
       "    <tr>\n",
       "      <th>8818</th>\n",
       "      <td>Dennis Wideman\\widemde01</td>\n",
       "      <td>30</td>\n",
       "      <td>CGY</td>\n",
       "      <td>D</td>\n",
       "      <td>46</td>\n",
       "      <td>4</td>\n",
       "      <td>17</td>\n",
       "      <td>21</td>\n",
       "      <td>-15</td>\n",
       "      <td>18</td>\n",
       "      <td>...</td>\n",
       "      <td>13</td>\n",
       "      <td>18:15</td>\n",
       "      <td>22:42</td>\n",
       "      <td>44.9</td>\n",
       "      <td>CGY</td>\n",
       "      <td>37.6</td>\n",
       "      <td>62.4</td>\n",
       "      <td>8.7</td>\n",
       "      <td>88.5</td>\n",
       "      <td>both</td>\n",
       "    </tr>\n",
       "    <tr>\n",
       "      <th>8819</th>\n",
       "      <td>Patrick Wiercioch\\wiercpa01</td>\n",
       "      <td>23</td>\n",
       "      <td>OTT</td>\n",
       "      <td>D</td>\n",
       "      <td>53</td>\n",
       "      <td>4</td>\n",
       "      <td>19</td>\n",
       "      <td>23</td>\n",
       "      <td>-1</td>\n",
       "      <td>20</td>\n",
       "      <td>...</td>\n",
       "      <td>4</td>\n",
       "      <td>13:21</td>\n",
       "      <td>16:22</td>\n",
       "      <td>44.9</td>\n",
       "      <td>OTT</td>\n",
       "      <td>44.4</td>\n",
       "      <td>55.6</td>\n",
       "      <td>7.4</td>\n",
       "      <td>93.1</td>\n",
       "      <td>both</td>\n",
       "    </tr>\n",
       "    <tr>\n",
       "      <th>8820</th>\n",
       "      <td>Justin Williams\\williju01</td>\n",
       "      <td>32</td>\n",
       "      <td>LAK</td>\n",
       "      <td>RW</td>\n",
       "      <td>82</td>\n",
       "      <td>19</td>\n",
       "      <td>24</td>\n",
       "      <td>43</td>\n",
       "      <td>14</td>\n",
       "      <td>48</td>\n",
       "      <td>...</td>\n",
       "      <td>25</td>\n",
       "      <td>13:57</td>\n",
       "      <td>16:57</td>\n",
       "      <td>59.2</td>\n",
       "      <td>LAK</td>\n",
       "      <td>44.3</td>\n",
       "      <td>55.7</td>\n",
       "      <td>7.0</td>\n",
       "      <td>92.8</td>\n",
       "      <td>both</td>\n",
       "    </tr>\n",
       "    <tr>\n",
       "      <th>8821</th>\n",
       "      <td>Colin Wilson\\wilsoco01</td>\n",
       "      <td>24</td>\n",
       "      <td>NSH</td>\n",
       "      <td>C</td>\n",
       "      <td>81</td>\n",
       "      <td>11</td>\n",
       "      <td>22</td>\n",
       "      <td>33</td>\n",
       "      <td>-1</td>\n",
       "      <td>21</td>\n",
       "      <td>...</td>\n",
       "      <td>33</td>\n",
       "      <td>13:38</td>\n",
       "      <td>15:13</td>\n",
       "      <td>56.0</td>\n",
       "      <td>NSH</td>\n",
       "      <td>45.8</td>\n",
       "      <td>54.2</td>\n",
       "      <td>7.8</td>\n",
       "      <td>91.5</td>\n",
       "      <td>both</td>\n",
       "    </tr>\n",
       "    <tr>\n",
       "      <th>8822</th>\n",
       "      <td>Garrett Wilson\\wilsoga01</td>\n",
       "      <td>22</td>\n",
       "      <td>FLA</td>\n",
       "      <td>LW</td>\n",
       "      <td>3</td>\n",
       "      <td>0</td>\n",
       "      <td>0</td>\n",
       "      <td>0</td>\n",
       "      <td>-1</td>\n",
       "      <td>0</td>\n",
       "      <td>...</td>\n",
       "      <td>0</td>\n",
       "      <td>9:59</td>\n",
       "      <td>10:20</td>\n",
       "      <td>100.0</td>\n",
       "      <td>FLA</td>\n",
       "      <td>69.2</td>\n",
       "      <td>30.8</td>\n",
       "      <td>0.0</td>\n",
       "      <td>92.3</td>\n",
       "      <td>both</td>\n",
       "    </tr>\n",
       "    <tr>\n",
       "      <th>8823</th>\n",
       "      <td>Ryan Wilson\\wilsory01</td>\n",
       "      <td>26</td>\n",
       "      <td>COL</td>\n",
       "      <td>D</td>\n",
       "      <td>28</td>\n",
       "      <td>0</td>\n",
       "      <td>6</td>\n",
       "      <td>6</td>\n",
       "      <td>1</td>\n",
       "      <td>12</td>\n",
       "      <td>...</td>\n",
       "      <td>5</td>\n",
       "      <td>13:17</td>\n",
       "      <td>14:40</td>\n",
       "      <td>46.9</td>\n",
       "      <td>COL</td>\n",
       "      <td>43.6</td>\n",
       "      <td>56.4</td>\n",
       "      <td>11.2</td>\n",
       "      <td>91.3</td>\n",
       "      <td>both</td>\n",
       "    </tr>\n",
       "    <tr>\n",
       "      <th>8824</th>\n",
       "      <td>Tom Wilson\\wilsoto01</td>\n",
       "      <td>19</td>\n",
       "      <td>WSH</td>\n",
       "      <td>RW</td>\n",
       "      <td>82</td>\n",
       "      <td>3</td>\n",
       "      <td>7</td>\n",
       "      <td>10</td>\n",
       "      <td>1</td>\n",
       "      <td>151</td>\n",
       "      <td>...</td>\n",
       "      <td>17</td>\n",
       "      <td>7:50</td>\n",
       "      <td>7:56</td>\n",
       "      <td>64.9</td>\n",
       "      <td>WSH</td>\n",
       "      <td>46.5</td>\n",
       "      <td>53.5</td>\n",
       "      <td>7.0</td>\n",
       "      <td>94.8</td>\n",
       "      <td>both</td>\n",
       "    </tr>\n",
       "    <tr>\n",
       "      <th>8825</th>\n",
       "      <td>Jesse Winchester\\winchje01</td>\n",
       "      <td>30</td>\n",
       "      <td>FLA</td>\n",
       "      <td>C</td>\n",
       "      <td>52</td>\n",
       "      <td>9</td>\n",
       "      <td>9</td>\n",
       "      <td>18</td>\n",
       "      <td>-2</td>\n",
       "      <td>38</td>\n",
       "      <td>...</td>\n",
       "      <td>9</td>\n",
       "      <td>10:29</td>\n",
       "      <td>12:44</td>\n",
       "      <td>64.1</td>\n",
       "      <td>FLA</td>\n",
       "      <td>56.2</td>\n",
       "      <td>43.8</td>\n",
       "      <td>7.7</td>\n",
       "      <td>91.4</td>\n",
       "      <td>both</td>\n",
       "    </tr>\n",
       "    <tr>\n",
       "      <th>8826</th>\n",
       "      <td>Tommy Wingels\\wingeto01</td>\n",
       "      <td>25</td>\n",
       "      <td>SJS</td>\n",
       "      <td>C</td>\n",
       "      <td>77</td>\n",
       "      <td>16</td>\n",
       "      <td>22</td>\n",
       "      <td>38</td>\n",
       "      <td>11</td>\n",
       "      <td>35</td>\n",
       "      <td>...</td>\n",
       "      <td>26</td>\n",
       "      <td>13:37</td>\n",
       "      <td>16:07</td>\n",
       "      <td>58.8</td>\n",
       "      <td>SJS</td>\n",
       "      <td>50.4</td>\n",
       "      <td>49.6</td>\n",
       "      <td>7.5</td>\n",
       "      <td>92.3</td>\n",
       "      <td>both</td>\n",
       "    </tr>\n",
       "    <tr>\n",
       "      <th>8827</th>\n",
       "      <td>Daniel Winnik\\winnida01</td>\n",
       "      <td>28</td>\n",
       "      <td>ANA</td>\n",
       "      <td>C</td>\n",
       "      <td>76</td>\n",
       "      <td>6</td>\n",
       "      <td>24</td>\n",
       "      <td>30</td>\n",
       "      <td>6</td>\n",
       "      <td>23</td>\n",
       "      <td>...</td>\n",
       "      <td>34</td>\n",
       "      <td>12:38</td>\n",
       "      <td>15:23</td>\n",
       "      <td>57.8</td>\n",
       "      <td>ANA</td>\n",
       "      <td>52.6</td>\n",
       "      <td>47.4</td>\n",
       "      <td>8.7</td>\n",
       "      <td>92.8</td>\n",
       "      <td>both</td>\n",
       "    </tr>\n",
       "    <tr>\n",
       "      <th>8828</th>\n",
       "      <td>James Wisniewski\\wisnija01</td>\n",
       "      <td>29</td>\n",
       "      <td>CBJ</td>\n",
       "      <td>D</td>\n",
       "      <td>75</td>\n",
       "      <td>7</td>\n",
       "      <td>44</td>\n",
       "      <td>51</td>\n",
       "      <td>0</td>\n",
       "      <td>61</td>\n",
       "      <td>...</td>\n",
       "      <td>18</td>\n",
       "      <td>16:45</td>\n",
       "      <td>22:20</td>\n",
       "      <td>47.8</td>\n",
       "      <td>CBJ</td>\n",
       "      <td>49.5</td>\n",
       "      <td>50.5</td>\n",
       "      <td>8.4</td>\n",
       "      <td>91.8</td>\n",
       "      <td>both</td>\n",
       "    </tr>\n",
       "    <tr>\n",
       "      <th>8829</th>\n",
       "      <td>Tyler Wotherspoon\\wothety01</td>\n",
       "      <td>20</td>\n",
       "      <td>CGY</td>\n",
       "      <td>D</td>\n",
       "      <td>14</td>\n",
       "      <td>0</td>\n",
       "      <td>4</td>\n",
       "      <td>4</td>\n",
       "      <td>-3</td>\n",
       "      <td>4</td>\n",
       "      <td>...</td>\n",
       "      <td>2</td>\n",
       "      <td>13:25</td>\n",
       "      <td>13:27</td>\n",
       "      <td>17.6</td>\n",
       "      <td>CGY</td>\n",
       "      <td>41.0</td>\n",
       "      <td>59.0</td>\n",
       "      <td>9.1</td>\n",
       "      <td>90.1</td>\n",
       "      <td>both</td>\n",
       "    </tr>\n",
       "    <tr>\n",
       "      <th>8830</th>\n",
       "      <td>James Wright\\wrighja02</td>\n",
       "      <td>23</td>\n",
       "      <td>WPG</td>\n",
       "      <td>C</td>\n",
       "      <td>59</td>\n",
       "      <td>0</td>\n",
       "      <td>2</td>\n",
       "      <td>2</td>\n",
       "      <td>-3</td>\n",
       "      <td>15</td>\n",
       "      <td>...</td>\n",
       "      <td>22</td>\n",
       "      <td>7:15</td>\n",
       "      <td>9:35</td>\n",
       "      <td>52.6</td>\n",
       "      <td>WPG</td>\n",
       "      <td>47.1</td>\n",
       "      <td>52.9</td>\n",
       "      <td>7.0</td>\n",
       "      <td>91.4</td>\n",
       "      <td>both</td>\n",
       "    </tr>\n",
       "    <tr>\n",
       "      <th>8831</th>\n",
       "      <td>Nail Yakupov\\yakupna01</td>\n",
       "      <td>20</td>\n",
       "      <td>EDM</td>\n",
       "      <td>RW</td>\n",
       "      <td>63</td>\n",
       "      <td>11</td>\n",
       "      <td>13</td>\n",
       "      <td>24</td>\n",
       "      <td>-33</td>\n",
       "      <td>36</td>\n",
       "      <td>...</td>\n",
       "      <td>18</td>\n",
       "      <td>12:07</td>\n",
       "      <td>14:19</td>\n",
       "      <td>56.2</td>\n",
       "      <td>EDM</td>\n",
       "      <td>35.8</td>\n",
       "      <td>64.2</td>\n",
       "      <td>7.5</td>\n",
       "      <td>87.7</td>\n",
       "      <td>both</td>\n",
       "    </tr>\n",
       "    <tr>\n",
       "      <th>8832</th>\n",
       "      <td>Keith Yandle\\yandlke01</td>\n",
       "      <td>27</td>\n",
       "      <td>PHX</td>\n",
       "      <td>D</td>\n",
       "      <td>82</td>\n",
       "      <td>8</td>\n",
       "      <td>45</td>\n",
       "      <td>53</td>\n",
       "      <td>-23</td>\n",
       "      <td>63</td>\n",
       "      <td>...</td>\n",
       "      <td>31</td>\n",
       "      <td>19:21</td>\n",
       "      <td>24:09</td>\n",
       "      <td>49.8</td>\n",
       "      <td>PHX</td>\n",
       "      <td>45.3</td>\n",
       "      <td>54.7</td>\n",
       "      <td>7.9</td>\n",
       "      <td>90.7</td>\n",
       "      <td>both</td>\n",
       "    </tr>\n",
       "    <tr>\n",
       "      <th>8833</th>\n",
       "      <td>Brandon Yip\\yipbr01</td>\n",
       "      <td>28</td>\n",
       "      <td>PHX</td>\n",
       "      <td>RW</td>\n",
       "      <td>2</td>\n",
       "      <td>0</td>\n",
       "      <td>0</td>\n",
       "      <td>0</td>\n",
       "      <td>0</td>\n",
       "      <td>0</td>\n",
       "      <td>...</td>\n",
       "      <td>1</td>\n",
       "      <td>6:53</td>\n",
       "      <td>6:53</td>\n",
       "      <td>100.0</td>\n",
       "      <td>PHX</td>\n",
       "      <td>57.1</td>\n",
       "      <td>42.9</td>\n",
       "      <td>14.3</td>\n",
       "      <td>50.0</td>\n",
       "      <td>both</td>\n",
       "    </tr>\n",
       "    <tr>\n",
       "      <th>8834</th>\n",
       "      <td>Nolan Yonkman\\yonkmno01</td>\n",
       "      <td>32</td>\n",
       "      <td>ANA</td>\n",
       "      <td>D</td>\n",
       "      <td>2</td>\n",
       "      <td>0</td>\n",
       "      <td>1</td>\n",
       "      <td>1</td>\n",
       "      <td>-1</td>\n",
       "      <td>0</td>\n",
       "      <td>...</td>\n",
       "      <td>1</td>\n",
       "      <td>14:54</td>\n",
       "      <td>14:54</td>\n",
       "      <td>50.0</td>\n",
       "      <td>ANA</td>\n",
       "      <td>31.3</td>\n",
       "      <td>68.8</td>\n",
       "      <td>14.3</td>\n",
       "      <td>78.9</td>\n",
       "      <td>both</td>\n",
       "    </tr>\n",
       "    <tr>\n",
       "      <th>8835</th>\n",
       "      <td>Nikita Zadorov\\zadorni01</td>\n",
       "      <td>18</td>\n",
       "      <td>BUF</td>\n",
       "      <td>D</td>\n",
       "      <td>7</td>\n",
       "      <td>1</td>\n",
       "      <td>0</td>\n",
       "      <td>1</td>\n",
       "      <td>-4</td>\n",
       "      <td>4</td>\n",
       "      <td>...</td>\n",
       "      <td>1</td>\n",
       "      <td>16:00</td>\n",
       "      <td>17:10</td>\n",
       "      <td>44.4</td>\n",
       "      <td>BUF</td>\n",
       "      <td>58.3</td>\n",
       "      <td>41.7</td>\n",
       "      <td>6.9</td>\n",
       "      <td>89.1</td>\n",
       "      <td>both</td>\n",
       "    </tr>\n",
       "    <tr>\n",
       "      <th>8836</th>\n",
       "      <td>Travis Zajac\\zajactr01</td>\n",
       "      <td>28</td>\n",
       "      <td>NJD</td>\n",
       "      <td>C</td>\n",
       "      <td>80</td>\n",
       "      <td>18</td>\n",
       "      <td>30</td>\n",
       "      <td>48</td>\n",
       "      <td>3</td>\n",
       "      <td>28</td>\n",
       "      <td>...</td>\n",
       "      <td>49</td>\n",
       "      <td>15:45</td>\n",
       "      <td>20:19</td>\n",
       "      <td>59.3</td>\n",
       "      <td>NJD</td>\n",
       "      <td>46.9</td>\n",
       "      <td>53.1</td>\n",
       "      <td>8.9</td>\n",
       "      <td>89.6</td>\n",
       "      <td>both</td>\n",
       "    </tr>\n",
       "    <tr>\n",
       "      <th>8837</th>\n",
       "      <td>Michael Zalewski\\zalewmi01</td>\n",
       "      <td>21</td>\n",
       "      <td>VAN</td>\n",
       "      <td>LW</td>\n",
       "      <td>2</td>\n",
       "      <td>0</td>\n",
       "      <td>1</td>\n",
       "      <td>1</td>\n",
       "      <td>2</td>\n",
       "      <td>0</td>\n",
       "      <td>...</td>\n",
       "      <td>1</td>\n",
       "      <td>11:33</td>\n",
       "      <td>12:08</td>\n",
       "      <td>40.0</td>\n",
       "      <td>VAN</td>\n",
       "      <td>66.7</td>\n",
       "      <td>33.3</td>\n",
       "      <td>22.2</td>\n",
       "      <td>100.0</td>\n",
       "      <td>both</td>\n",
       "    </tr>\n",
       "    <tr>\n",
       "      <th>8838</th>\n",
       "      <td>Henrik Zetterberg\\zettehe01</td>\n",
       "      <td>33</td>\n",
       "      <td>DET</td>\n",
       "      <td>LW</td>\n",
       "      <td>45</td>\n",
       "      <td>16</td>\n",
       "      <td>32</td>\n",
       "      <td>48</td>\n",
       "      <td>19</td>\n",
       "      <td>20</td>\n",
       "      <td>...</td>\n",
       "      <td>28</td>\n",
       "      <td>16:29</td>\n",
       "      <td>20:33</td>\n",
       "      <td>56.6</td>\n",
       "      <td>DET</td>\n",
       "      <td>50.1</td>\n",
       "      <td>49.9</td>\n",
       "      <td>10.7</td>\n",
       "      <td>92.7</td>\n",
       "      <td>both</td>\n",
       "    </tr>\n",
       "    <tr>\n",
       "      <th>8839</th>\n",
       "      <td>Mika Zibanejad\\zibanmi01</td>\n",
       "      <td>20</td>\n",
       "      <td>OTT</td>\n",
       "      <td>C</td>\n",
       "      <td>69</td>\n",
       "      <td>16</td>\n",
       "      <td>17</td>\n",
       "      <td>33</td>\n",
       "      <td>-15</td>\n",
       "      <td>18</td>\n",
       "      <td>...</td>\n",
       "      <td>31</td>\n",
       "      <td>11:58</td>\n",
       "      <td>14:18</td>\n",
       "      <td>56.9</td>\n",
       "      <td>OTT</td>\n",
       "      <td>41.9</td>\n",
       "      <td>58.1</td>\n",
       "      <td>7.8</td>\n",
       "      <td>89.6</td>\n",
       "      <td>both</td>\n",
       "    </tr>\n",
       "    <tr>\n",
       "      <th>8840</th>\n",
       "      <td>Marek Zidlicky\\zidlima01</td>\n",
       "      <td>36</td>\n",
       "      <td>NJD</td>\n",
       "      <td>D</td>\n",
       "      <td>81</td>\n",
       "      <td>12</td>\n",
       "      <td>30</td>\n",
       "      <td>42</td>\n",
       "      <td>-3</td>\n",
       "      <td>60</td>\n",
       "      <td>...</td>\n",
       "      <td>19</td>\n",
       "      <td>18:23</td>\n",
       "      <td>21:39</td>\n",
       "      <td>49.4</td>\n",
       "      <td>NJD</td>\n",
       "      <td>40.4</td>\n",
       "      <td>59.6</td>\n",
       "      <td>7.8</td>\n",
       "      <td>91.1</td>\n",
       "      <td>both</td>\n",
       "    </tr>\n",
       "    <tr>\n",
       "      <th>8841</th>\n",
       "      <td>Harry Zolnierczyk\\zolniha01</td>\n",
       "      <td>26</td>\n",
       "      <td>PIT</td>\n",
       "      <td>LW</td>\n",
       "      <td>13</td>\n",
       "      <td>2</td>\n",
       "      <td>0</td>\n",
       "      <td>2</td>\n",
       "      <td>0</td>\n",
       "      <td>12</td>\n",
       "      <td>...</td>\n",
       "      <td>3</td>\n",
       "      <td>10:08</td>\n",
       "      <td>10:08</td>\n",
       "      <td>63.2</td>\n",
       "      <td>PIT</td>\n",
       "      <td>61.2</td>\n",
       "      <td>38.8</td>\n",
       "      <td>5.3</td>\n",
       "      <td>95.8</td>\n",
       "      <td>both</td>\n",
       "    </tr>\n",
       "    <tr>\n",
       "      <th>8842</th>\n",
       "      <td>Dainius Zubrus\\zubruda01</td>\n",
       "      <td>35</td>\n",
       "      <td>NJD</td>\n",
       "      <td>C</td>\n",
       "      <td>82</td>\n",
       "      <td>13</td>\n",
       "      <td>13</td>\n",
       "      <td>26</td>\n",
       "      <td>1</td>\n",
       "      <td>46</td>\n",
       "      <td>...</td>\n",
       "      <td>19</td>\n",
       "      <td>14:58</td>\n",
       "      <td>17:33</td>\n",
       "      <td>64.4</td>\n",
       "      <td>NJD</td>\n",
       "      <td>49.5</td>\n",
       "      <td>50.5</td>\n",
       "      <td>8.3</td>\n",
       "      <td>90.9</td>\n",
       "      <td>both</td>\n",
       "    </tr>\n",
       "    <tr>\n",
       "      <th>8843</th>\n",
       "      <td>Mats Zuccarello\\zuccama01</td>\n",
       "      <td>26</td>\n",
       "      <td>NYR</td>\n",
       "      <td>LW</td>\n",
       "      <td>77</td>\n",
       "      <td>19</td>\n",
       "      <td>40</td>\n",
       "      <td>59</td>\n",
       "      <td>11</td>\n",
       "      <td>32</td>\n",
       "      <td>...</td>\n",
       "      <td>44</td>\n",
       "      <td>13:47</td>\n",
       "      <td>17:08</td>\n",
       "      <td>57.8</td>\n",
       "      <td>NYR</td>\n",
       "      <td>40.5</td>\n",
       "      <td>59.5</td>\n",
       "      <td>8.5</td>\n",
       "      <td>93.0</td>\n",
       "      <td>both</td>\n",
       "    </tr>\n",
       "    <tr>\n",
       "      <th>8844</th>\n",
       "      <td>Jason Zucker\\zuckeja01</td>\n",
       "      <td>22</td>\n",
       "      <td>MIN</td>\n",
       "      <td>LW</td>\n",
       "      <td>21</td>\n",
       "      <td>4</td>\n",
       "      <td>1</td>\n",
       "      <td>5</td>\n",
       "      <td>2</td>\n",
       "      <td>2</td>\n",
       "      <td>...</td>\n",
       "      <td>9</td>\n",
       "      <td>12:02</td>\n",
       "      <td>12:59</td>\n",
       "      <td>58.8</td>\n",
       "      <td>MIN</td>\n",
       "      <td>42.7</td>\n",
       "      <td>57.3</td>\n",
       "      <td>7.5</td>\n",
       "      <td>95.3</td>\n",
       "      <td>both</td>\n",
       "    </tr>\n",
       "  </tbody>\n",
       "</table>\n",
       "<p>8845 rows × 50 columns</p>\n",
       "</div>"
      ],
      "text/plain": [
       "                            Player  Age Tm_x Pos_x  GP_x   G   A  PTS  +/-  \\\n",
       "0         Spencer Abbott\\abbotsp01   28  CHI    LW     1   0   0    0    0   \n",
       "1      Justin Abdelkader\\abdelju01   29  DET    LW    64   7  14   21  -20   \n",
       "2           Pontus Aberg\\abergpo01   23  NSH    LW    15   1   1    2   -2   \n",
       "3           Noel Acciari\\acciano01   25  BOS     C    29   2   3    5    3   \n",
       "4         Kenny Agostino\\agostke01   24  STL    LW     7   1   2    3    0   \n",
       "5            Sebastian Aho\\ahose01   19  CAR    RW    82  24  25   49   -1   \n",
       "6            Karl Alzner\\alzneka01   28  WSH     D    82   3  10   13   23   \n",
       "7          Josh Anderson\\anderjo05   22  CBJ    RW    78  17  12   29   12   \n",
       "8       Rasmus Andersson\\anderra01   20  CGY     D     1   0   0    0   -1   \n",
       "9          Andy Andreoff\\andrean01   25  LAK    LW    36   0   2    2   -2   \n",
       "10      Sven Andrighetto\\andrisv01   23  TOT    RW    46   7  17   24    1   \n",
       "11        Artem Anisimov\\anisiar01   28  CHI     C    64  22  23   45    9   \n",
       "12        Josh Archibald\\archijo01   24  PIT    RW    10   3   0    3    3   \n",
       "13            Joel Armia\\armiajo01   23  WPG    RW    57  10   9   19   -8   \n",
       "14      Viktor Arvidsson\\arvidvi01   23  NSH    LW    80  31  30   61   16   \n",
       "15    Andreas Athanasiou\\athanan01   22  DET     C    64  18  11   29   -7   \n",
       "16          Cam Atkinson\\atkinca01   27  CBJ    RW    82  35  27   62   13   \n",
       "17          Brady Austin\\austibr01   23  BUF     D     5   0   0    0    0   \n",
       "18         Yohann Auvitu\\auvityo01   27  NJD     D    25   2   2    4    1   \n",
       "19          David Backes\\backeda01   32  BOS    RW    74  17  21   38    2   \n",
       "20       Mikael Backlund\\backlmi01   27  CGY     C    81  22  31   53    9   \n",
       "21     Nicklas Backstrom\\backsni02   29  WSH     C    82  23  63   86   17   \n",
       "22        Sven Baertschi\\baertsv01   24  VAN    LW    68  18  17   35   -6   \n",
       "23          Casey Bailey\\baileca01   25  OTT    RW     7   0   0    0   -1   \n",
       "24           Josh Bailey\\bailejo01   27  NYI    RW    82  13  43   56    5   \n",
       "25         Justin Bailey\\baileju01   21  BUF    RW    32   2   2    4    0   \n",
       "26     Nicholas Baptiste\\baptini01   21  BUF    RW    14   3   1    4    1   \n",
       "27        Ivan Barbashev\\barbaiv01   21  STL     C    30   5   7   12    5   \n",
       "28          Riley Barber\\barberi01   22  WSH    RW     3   0   0    0    0   \n",
       "29         Mark Barberio\\barbema01   26  TOT     D    60   2  11   13   -5   \n",
       "...                            ...  ...  ...   ...   ...  ..  ..  ...  ...   \n",
       "8815         Joe Whitney\\whitnjo01   25  NJD    RW     1   0   0    0    0   \n",
       "8816         Ray Whitney\\whitnra01   41  DAL    LW    69   9  23   32   -6   \n",
       "8817        Ryan Whitney\\whitnry01   30  FLA     D     7   0   0    0   -7   \n",
       "8818      Dennis Wideman\\widemde01   30  CGY     D    46   4  17   21  -15   \n",
       "8819   Patrick Wiercioch\\wiercpa01   23  OTT     D    53   4  19   23   -1   \n",
       "8820     Justin Williams\\williju01   32  LAK    RW    82  19  24   43   14   \n",
       "8821        Colin Wilson\\wilsoco01   24  NSH     C    81  11  22   33   -1   \n",
       "8822      Garrett Wilson\\wilsoga01   22  FLA    LW     3   0   0    0   -1   \n",
       "8823         Ryan Wilson\\wilsory01   26  COL     D    28   0   6    6    1   \n",
       "8824          Tom Wilson\\wilsoto01   19  WSH    RW    82   3   7   10    1   \n",
       "8825    Jesse Winchester\\winchje01   30  FLA     C    52   9   9   18   -2   \n",
       "8826       Tommy Wingels\\wingeto01   25  SJS     C    77  16  22   38   11   \n",
       "8827       Daniel Winnik\\winnida01   28  ANA     C    76   6  24   30    6   \n",
       "8828    James Wisniewski\\wisnija01   29  CBJ     D    75   7  44   51    0   \n",
       "8829   Tyler Wotherspoon\\wothety01   20  CGY     D    14   0   4    4   -3   \n",
       "8830        James Wright\\wrighja02   23  WPG     C    59   0   2    2   -3   \n",
       "8831        Nail Yakupov\\yakupna01   20  EDM    RW    63  11  13   24  -33   \n",
       "8832        Keith Yandle\\yandlke01   27  PHX     D    82   8  45   53  -23   \n",
       "8833           Brandon Yip\\yipbr01   28  PHX    RW     2   0   0    0    0   \n",
       "8834       Nolan Yonkman\\yonkmno01   32  ANA     D     2   0   1    1   -1   \n",
       "8835      Nikita Zadorov\\zadorni01   18  BUF     D     7   1   0    1   -4   \n",
       "8836        Travis Zajac\\zajactr01   28  NJD     C    80  18  30   48    3   \n",
       "8837    Michael Zalewski\\zalewmi01   21  VAN    LW     2   0   1    1    2   \n",
       "8838   Henrik Zetterberg\\zettehe01   33  DET    LW    45  16  32   48   19   \n",
       "8839      Mika Zibanejad\\zibanmi01   20  OTT     C    69  16  17   33  -15   \n",
       "8840      Marek Zidlicky\\zidlima01   36  NJD     D    81  12  30   42   -3   \n",
       "8841   Harry Zolnierczyk\\zolniha01   26  PIT    LW    13   2   0    2    0   \n",
       "8842      Dainius Zubrus\\zubruda01   35  NJD     C    82  13  13   26    1   \n",
       "8843     Mats Zuccarello\\zuccama01   26  NYR    LW    77  19  40   59   11   \n",
       "8844        Jason Zucker\\zuckeja01   22  MIN    LW    21   4   1    5    2   \n",
       "\n",
       "      PIM  ...  TK      TOI(EV)       TOI/60  Thru%  Tm_y  dZS%   oZS%  oiSH%  \\\n",
       "0       0  ...   1         8:34         8:34   50.0   CHI   0.0  100.0    0.0   \n",
       "1      50  ...  15        13:07        16:39   65.0   DET  53.7   46.3    5.3   \n",
       "2       4  ...   5        12:05        12:20   50.0   NSH  51.7   48.3    6.6   \n",
       "3      16  ...  10        10:01        10:14   55.8   BOS  59.1   40.9    7.8   \n",
       "4       2  ...   1        11:30        12:47   65.4   STL  39.6   60.4    5.8   \n",
       "5      26  ...  40        14:15        16:47   59.1   CAR  45.3   54.7    7.6   \n",
       "6      28  ...  17        16:42        19:48   50.0   WSH  54.1   45.9   10.3   \n",
       "7      89  ...  25        11:44        12:01   61.7   CBJ  54.2   45.8    9.5   \n",
       "8       0  ...   0        16:40        18:33    0.0   CGY  40.0   60.0    0.0   \n",
       "9      70  ...   5        10:21        10:36   46.9   LAK  41.5   58.5    4.0   \n",
       "10     12  ...  19        12:44        13:58   52.3   TOT  46.8   53.2    8.1   \n",
       "11     30  ...  35        14:38        17:51   55.0   CHI  34.9   65.1   11.9   \n",
       "12      4  ...   0        10:20        10:52   45.8   PIT  50.0   50.0   11.1   \n",
       "13     20  ...  42        12:24        15:08   56.9   WPG  57.3   42.7    6.2   \n",
       "14     28  ...  37        14:02        17:09   59.6   NSH  44.2   55.8    9.6   \n",
       "15     28  ...  17        11:43        13:28   50.8   DET  37.9   62.1    9.0   \n",
       "16     22  ...  36        13:59        18:05   60.2   CBJ  54.7   45.3    8.9   \n",
       "17      4  ...   1        15:29        16:05   80.0   BUF  37.7   62.3    5.7   \n",
       "18      2  ...   7        13:31        15:36   62.1   NJD  33.7   66.3    6.8   \n",
       "19     69  ...  28        14:18        17:03   61.1   BOS  49.7   50.3    8.7   \n",
       "20     36  ...  57        13:14        17:36   58.3   CGY  63.7   36.3    9.2   \n",
       "21     38  ...  61        14:30        18:16   60.1   WSH  47.0   53.0   10.2   \n",
       "22      8  ...  39        13:41        15:53   61.6   VAN  50.0   50.0   10.0   \n",
       "23      0  ...   1  0.333333333  0.333333333   83.3   OTT  33.3   66.7    0.0   \n",
       "24     12  ...  54        15:10        18:22   56.9   NYI  37.9   62.1   10.5   \n",
       "25      4  ...   8        10:38        10:38   48.0   BUF  57.5   42.5    7.2   \n",
       "26      6  ...   1         8:38         9:14   81.0   BUF  45.9   54.1   10.0   \n",
       "27      2  ...   9        10:52        11:47   48.8   STL  56.0   44.0    9.7   \n",
       "28      0  ...   0         8:35         8:35   66.7   WSH  35.3   64.7    0.0   \n",
       "29     14  ...  16        15:54        18:16   40.4   TOT  45.6   54.4    6.9   \n",
       "...   ...  ...  ..          ...          ...    ...   ...   ...    ...    ...   \n",
       "8815    0  ...   0         8:00         8:00    NaN   NJD   0.0  100.0    0.0   \n",
       "8816   14  ...  25        11:06        13:59   52.3   DAL  42.7   57.3    6.6   \n",
       "8817    6  ...   0        14:29        16:45   50.0   FLA  51.8   48.2    5.3   \n",
       "8818   18  ...  13        18:15        22:42   44.9   CGY  37.6   62.4    8.7   \n",
       "8819   20  ...   4        13:21        16:22   44.9   OTT  44.4   55.6    7.4   \n",
       "8820   48  ...  25        13:57        16:57   59.2   LAK  44.3   55.7    7.0   \n",
       "8821   21  ...  33        13:38        15:13   56.0   NSH  45.8   54.2    7.8   \n",
       "8822    0  ...   0         9:59        10:20  100.0   FLA  69.2   30.8    0.0   \n",
       "8823   12  ...   5        13:17        14:40   46.9   COL  43.6   56.4   11.2   \n",
       "8824  151  ...  17         7:50         7:56   64.9   WSH  46.5   53.5    7.0   \n",
       "8825   38  ...   9        10:29        12:44   64.1   FLA  56.2   43.8    7.7   \n",
       "8826   35  ...  26        13:37        16:07   58.8   SJS  50.4   49.6    7.5   \n",
       "8827   23  ...  34        12:38        15:23   57.8   ANA  52.6   47.4    8.7   \n",
       "8828   61  ...  18        16:45        22:20   47.8   CBJ  49.5   50.5    8.4   \n",
       "8829    4  ...   2        13:25        13:27   17.6   CGY  41.0   59.0    9.1   \n",
       "8830   15  ...  22         7:15         9:35   52.6   WPG  47.1   52.9    7.0   \n",
       "8831   36  ...  18        12:07        14:19   56.2   EDM  35.8   64.2    7.5   \n",
       "8832   63  ...  31        19:21        24:09   49.8   PHX  45.3   54.7    7.9   \n",
       "8833    0  ...   1         6:53         6:53  100.0   PHX  57.1   42.9   14.3   \n",
       "8834    0  ...   1        14:54        14:54   50.0   ANA  31.3   68.8   14.3   \n",
       "8835    4  ...   1        16:00        17:10   44.4   BUF  58.3   41.7    6.9   \n",
       "8836   28  ...  49        15:45        20:19   59.3   NJD  46.9   53.1    8.9   \n",
       "8837    0  ...   1        11:33        12:08   40.0   VAN  66.7   33.3   22.2   \n",
       "8838   20  ...  28        16:29        20:33   56.6   DET  50.1   49.9   10.7   \n",
       "8839   18  ...  31        11:58        14:18   56.9   OTT  41.9   58.1    7.8   \n",
       "8840   60  ...  19        18:23        21:39   49.4   NJD  40.4   59.6    7.8   \n",
       "8841   12  ...   3        10:08        10:08   63.2   PIT  61.2   38.8    5.3   \n",
       "8842   46  ...  19        14:58        17:33   64.4   NJD  49.5   50.5    8.3   \n",
       "8843   32  ...  44        13:47        17:08   57.8   NYR  40.5   59.5    8.5   \n",
       "8844    2  ...   9        12:02        12:59   58.8   MIN  42.7   57.3    7.5   \n",
       "\n",
       "      oiSV%  _merge  \n",
       "0     100.0    both  \n",
       "1      91.1    both  \n",
       "2      92.1    both  \n",
       "3      95.8    both  \n",
       "4      90.9    both  \n",
       "5      91.2    both  \n",
       "6      93.9    both  \n",
       "7      93.8    both  \n",
       "8      80.0    both  \n",
       "9      93.8    both  \n",
       "10     92.1    both  \n",
       "11     92.0    both  \n",
       "12     94.3    both  \n",
       "13     92.6    both  \n",
       "14     91.0    both  \n",
       "15     90.9    both  \n",
       "16     93.3    both  \n",
       "17     93.0    both  \n",
       "18     94.1    both  \n",
       "19     89.2    both  \n",
       "20     89.9    both  \n",
       "21     92.4    both  \n",
       "22     90.6    both  \n",
       "23     94.1    both  \n",
       "24     90.1    both  \n",
       "25     94.7    both  \n",
       "26     94.7    both  \n",
       "27     94.8    both  \n",
       "28    100.0    both  \n",
       "29     92.2    both  \n",
       "...     ...     ...  \n",
       "8815  100.0    both  \n",
       "8816   92.6    both  \n",
       "8817   87.2    both  \n",
       "8818   88.5    both  \n",
       "8819   93.1    both  \n",
       "8820   92.8    both  \n",
       "8821   91.5    both  \n",
       "8822   92.3    both  \n",
       "8823   91.3    both  \n",
       "8824   94.8    both  \n",
       "8825   91.4    both  \n",
       "8826   92.3    both  \n",
       "8827   92.8    both  \n",
       "8828   91.8    both  \n",
       "8829   90.1    both  \n",
       "8830   91.4    both  \n",
       "8831   87.7    both  \n",
       "8832   90.7    both  \n",
       "8833   50.0    both  \n",
       "8834   78.9    both  \n",
       "8835   89.1    both  \n",
       "8836   89.6    both  \n",
       "8837  100.0    both  \n",
       "8838   92.7    both  \n",
       "8839   89.6    both  \n",
       "8840   91.1    both  \n",
       "8841   95.8    both  \n",
       "8842   90.9    both  \n",
       "8843   93.0    both  \n",
       "8844   95.3    both  \n",
       "\n",
       "[8845 rows x 50 columns]"
      ]
     },
     "execution_count": 115,
     "metadata": {},
     "output_type": "execute_result"
    }
   ],
   "source": [
    "# Merge the player and advanced dataframes together on player and age.\n",
    "\n",
    "merged_df = pd.merge(player,\n",
    "                 advanced,\n",
    "                 on=['Player', 'Age'], \n",
    "                 #how='outer', \n",
    "                 indicator=True\n",
    "                )\n",
    "merged_df.head()"
   ]
  },
  {
   "cell_type": "code",
   "execution_count": 116,
   "metadata": {
    "slideshow": {
     "slide_type": "skip"
    }
   },
   "outputs": [
    {
     "data": {
      "text/plain": [
       "Index(['Player', 'Age', 'Tm_x', 'Pos_x', 'GP_x', 'G', 'A', 'PTS', '+/-', 'PIM',\n",
       "       'PS', 'EV', 'PP', 'SH', 'GW', 'EV.1', 'PP.1', 'SH.1', 'S', 'TOI',\n",
       "       'ATOI', 'BLK', 'HIT', 'FOW', 'FOL', 'CA', 'CF', 'CF%', 'CF% rel',\n",
       "       'E+/-', 'FA', 'FF', 'FF%', 'FF% rel', 'GP_y', 'GV', 'PDO', 'Pos_y',\n",
       "       'Rk', 'SAtt.', 'TK', 'TOI(EV)', 'TOI/60', 'Thru%', 'Tm_y', 'dZS%',\n",
       "       'oZS%', 'oiSH%', 'oiSV%', '_merge'],\n",
       "      dtype='object')"
      ]
     },
     "execution_count": 116,
     "metadata": {},
     "output_type": "execute_result"
    }
   ],
   "source": [
    "# Visualize merged dataframe columns.\n",
    "\n",
    "merged_df.columns"
   ]
  },
  {
   "cell_type": "code",
   "execution_count": 117,
   "metadata": {
    "slideshow": {
     "slide_type": "fragment"
    }
   },
   "outputs": [
    {
     "data": {
      "text/html": [
       "<div>\n",
       "<style scoped>\n",
       "    .dataframe tbody tr th:only-of-type {\n",
       "        vertical-align: middle;\n",
       "    }\n",
       "\n",
       "    .dataframe tbody tr th {\n",
       "        vertical-align: top;\n",
       "    }\n",
       "\n",
       "    .dataframe thead th {\n",
       "        text-align: right;\n",
       "    }\n",
       "</style>\n",
       "<table border=\"1\" class=\"dataframe\">\n",
       "  <thead>\n",
       "    <tr style=\"text-align: right;\">\n",
       "      <th></th>\n",
       "      <th>Age</th>\n",
       "      <th>GP_x</th>\n",
       "      <th>G</th>\n",
       "      <th>A</th>\n",
       "      <th>PTS</th>\n",
       "      <th>+/-</th>\n",
       "      <th>PIM</th>\n",
       "      <th>PS</th>\n",
       "      <th>EV</th>\n",
       "      <th>PP</th>\n",
       "      <th>...</th>\n",
       "      <th>FF% rel</th>\n",
       "      <th>GV</th>\n",
       "      <th>PDO</th>\n",
       "      <th>SAtt.</th>\n",
       "      <th>TK</th>\n",
       "      <th>Thru%</th>\n",
       "      <th>dZS%</th>\n",
       "      <th>oZS%</th>\n",
       "      <th>oiSH%</th>\n",
       "      <th>oiSV%</th>\n",
       "    </tr>\n",
       "  </thead>\n",
       "  <tbody>\n",
       "    <tr>\n",
       "      <th>0</th>\n",
       "      <td>28</td>\n",
       "      <td>1</td>\n",
       "      <td>0</td>\n",
       "      <td>0</td>\n",
       "      <td>0</td>\n",
       "      <td>0</td>\n",
       "      <td>0</td>\n",
       "      <td>0.0</td>\n",
       "      <td>0</td>\n",
       "      <td>0</td>\n",
       "      <td>...</td>\n",
       "      <td>-17.2</td>\n",
       "      <td>0</td>\n",
       "      <td>100.0</td>\n",
       "      <td>2.0</td>\n",
       "      <td>1</td>\n",
       "      <td>50.0</td>\n",
       "      <td>0.0</td>\n",
       "      <td>100.0</td>\n",
       "      <td>0.0</td>\n",
       "      <td>100.0</td>\n",
       "    </tr>\n",
       "    <tr>\n",
       "      <th>1</th>\n",
       "      <td>29</td>\n",
       "      <td>64</td>\n",
       "      <td>7</td>\n",
       "      <td>14</td>\n",
       "      <td>21</td>\n",
       "      <td>-20</td>\n",
       "      <td>50</td>\n",
       "      <td>0.7</td>\n",
       "      <td>2</td>\n",
       "      <td>5</td>\n",
       "      <td>...</td>\n",
       "      <td>-1.4</td>\n",
       "      <td>18</td>\n",
       "      <td>96.4</td>\n",
       "      <td>160.0</td>\n",
       "      <td>15</td>\n",
       "      <td>65.0</td>\n",
       "      <td>53.7</td>\n",
       "      <td>46.3</td>\n",
       "      <td>5.3</td>\n",
       "      <td>91.1</td>\n",
       "    </tr>\n",
       "    <tr>\n",
       "      <th>2</th>\n",
       "      <td>23</td>\n",
       "      <td>15</td>\n",
       "      <td>1</td>\n",
       "      <td>1</td>\n",
       "      <td>2</td>\n",
       "      <td>-2</td>\n",
       "      <td>4</td>\n",
       "      <td>-0.1</td>\n",
       "      <td>1</td>\n",
       "      <td>0</td>\n",
       "      <td>...</td>\n",
       "      <td>-4.9</td>\n",
       "      <td>2</td>\n",
       "      <td>98.7</td>\n",
       "      <td>24.0</td>\n",
       "      <td>5</td>\n",
       "      <td>50.0</td>\n",
       "      <td>51.7</td>\n",
       "      <td>48.3</td>\n",
       "      <td>6.6</td>\n",
       "      <td>92.1</td>\n",
       "    </tr>\n",
       "    <tr>\n",
       "      <th>3</th>\n",
       "      <td>25</td>\n",
       "      <td>29</td>\n",
       "      <td>2</td>\n",
       "      <td>3</td>\n",
       "      <td>5</td>\n",
       "      <td>3</td>\n",
       "      <td>16</td>\n",
       "      <td>0.5</td>\n",
       "      <td>2</td>\n",
       "      <td>0</td>\n",
       "      <td>...</td>\n",
       "      <td>-7.7</td>\n",
       "      <td>4</td>\n",
       "      <td>103.6</td>\n",
       "      <td>43.0</td>\n",
       "      <td>10</td>\n",
       "      <td>55.8</td>\n",
       "      <td>59.1</td>\n",
       "      <td>40.9</td>\n",
       "      <td>7.8</td>\n",
       "      <td>95.8</td>\n",
       "    </tr>\n",
       "    <tr>\n",
       "      <th>4</th>\n",
       "      <td>24</td>\n",
       "      <td>7</td>\n",
       "      <td>1</td>\n",
       "      <td>2</td>\n",
       "      <td>3</td>\n",
       "      <td>0</td>\n",
       "      <td>2</td>\n",
       "      <td>0.3</td>\n",
       "      <td>1</td>\n",
       "      <td>0</td>\n",
       "      <td>...</td>\n",
       "      <td>10.5</td>\n",
       "      <td>4</td>\n",
       "      <td>96.7</td>\n",
       "      <td>26.0</td>\n",
       "      <td>1</td>\n",
       "      <td>65.4</td>\n",
       "      <td>39.6</td>\n",
       "      <td>60.4</td>\n",
       "      <td>5.8</td>\n",
       "      <td>90.9</td>\n",
       "    </tr>\n",
       "  </tbody>\n",
       "</table>\n",
       "<p>5 rows × 39 columns</p>\n",
       "</div>"
      ],
      "text/plain": [
       "   Age  GP_x  G   A  PTS  +/-  PIM   PS  EV  PP  ...  FF% rel  GV    PDO  \\\n",
       "0   28     1  0   0    0    0    0  0.0   0   0  ...    -17.2   0  100.0   \n",
       "1   29    64  7  14   21  -20   50  0.7   2   5  ...     -1.4  18   96.4   \n",
       "2   23    15  1   1    2   -2    4 -0.1   1   0  ...     -4.9   2   98.7   \n",
       "3   25    29  2   3    5    3   16  0.5   2   0  ...     -7.7   4  103.6   \n",
       "4   24     7  1   2    3    0    2  0.3   1   0  ...     10.5   4   96.7   \n",
       "\n",
       "   SAtt.  TK  Thru%  dZS%   oZS%  oiSH%  oiSV%  \n",
       "0    2.0   1   50.0   0.0  100.0    0.0  100.0  \n",
       "1  160.0  15   65.0  53.7   46.3    5.3   91.1  \n",
       "2   24.0   5   50.0  51.7   48.3    6.6   92.1  \n",
       "3   43.0  10   55.8  59.1   40.9    7.8   95.8  \n",
       "4   26.0   1   65.4  39.6   60.4    5.8   90.9  \n",
       "\n",
       "[5 rows x 39 columns]"
      ]
     },
     "execution_count": 117,
     "metadata": {},
     "output_type": "execute_result"
    }
   ],
   "source": [
    "# Prepare data for regression\n",
    "\n",
    "lineardf = merged_df.drop(columns = ['Player', 'Tm_x', 'Pos_x', 'ATOI', 'Rk', 'Tm_y', 'Pos_y', 'GP_y', 'TOI/60', 'TOI(EV)', '_merge'])\n",
    "finaldf = lineardf.dropna()\n",
    "finaldf.head()"
   ]
  },
  {
   "cell_type": "code",
   "execution_count": 118,
   "metadata": {
    "slideshow": {
     "slide_type": "subslide"
    }
   },
   "outputs": [],
   "source": [
    "# Assign the data to X and y, x predicts y\n",
    "\n",
    "X = finaldf[['G', 'A']]\n",
    "y = finaldf['PTS']"
   ]
  },
  {
   "cell_type": "code",
   "execution_count": 119,
   "metadata": {
    "slideshow": {
     "slide_type": "skip"
    }
   },
   "outputs": [],
   "source": [
    "# Use train_test_split to create training and testing data\n",
    "\n",
    "X_train, X_test, y_train, y_test = train_test_split(X, y, test_size=0.3, random_state=42)"
   ]
  },
  {
   "cell_type": "code",
   "execution_count": 120,
   "metadata": {
    "slideshow": {
     "slide_type": "skip"
    }
   },
   "outputs": [],
   "source": [
    "# Applying standard scaling to get optimized result\n",
    "\n",
    "sc = StandardScaler()\n",
    "X_train = sc.fit_transform(X_train)\n",
    "X_test = sc.transform(X_test)"
   ]
  },
  {
   "cell_type": "code",
   "execution_count": 121,
   "metadata": {
    "slideshow": {
     "slide_type": "skip"
    }
   },
   "outputs": [],
   "source": [
    "# Fit the model to the training data and calculate the scores for the training and testing data\n",
    "model = LinearRegression()\n",
    "\n",
    "model.fit(X_train, y_train)\n",
    "pred_lrm = model.predict(X_test)"
   ]
  },
  {
   "cell_type": "code",
   "execution_count": 122,
   "metadata": {
    "slideshow": {
     "slide_type": "fragment"
    }
   },
   "outputs": [
    {
     "data": {
      "text/plain": [
       "array([ 8.70567625, 13.02347527])"
      ]
     },
     "execution_count": 122,
     "metadata": {},
     "output_type": "execute_result"
    }
   ],
   "source": [
    "# Display model coefficients for each feature.\n",
    "\n",
    "model.coef_"
   ]
  },
  {
   "cell_type": "code",
   "execution_count": 123,
   "metadata": {
    "slideshow": {
     "slide_type": "fragment"
    }
   },
   "outputs": [
    {
     "name": "stdout",
     "output_type": "stream",
     "text": [
      "Training Score: 1.0\n",
      "Testing Score: 1.0\n"
     ]
    }
   ],
   "source": [
    "# Visualize training and test scores for linear regression model.\n",
    "\n",
    "training_score = model.score(X_train, y_train)\n",
    "testing_score = model.score(X_test, y_test)\n",
    "\n",
    "print(f\"Training Score: {training_score}\")\n",
    "print(f\"Testing Score: {testing_score}\")"
   ]
  },
  {
   "cell_type": "code",
   "execution_count": 124,
   "metadata": {
    "slideshow": {
     "slide_type": "subslide"
    }
   },
   "outputs": [
    {
     "data": {
      "image/png": "[encoded data removed]",
      "text/plain": [
       "<Figure size 576x396 with 2 Axes>"
      ]
     },
     "metadata": {},
     "output_type": "display_data"
    }
   ],
   "source": [
    " # Plot the Residuals for Ridge Model\n",
    "    \n",
    "from sklearn.linear_model import Ridge\n",
    "from yellowbrick.regressor import ResidualsPlot\n",
    "\n",
    "# Instantiate the linear model and visualizer\n",
    "ridge = Ridge()\n",
    "visualizer = ResidualsPlot(ridge)\n",
    "\n",
    "visualizer.fit(X_train, y_train)  \n",
    "visualizer.score(X_test, y_test)  \n",
    "visualizer.poof()  "
   ]
  },
  {
   "cell_type": "code",
   "execution_count": 125,
   "metadata": {
    "slideshow": {
     "slide_type": "subslide"
    }
   },
   "outputs": [
    {
     "name": "stdout",
     "output_type": "stream",
     "text": [
      "MSE: 3.639578827859685e-29, R2: 1.0\n"
     ]
    }
   ],
   "source": [
    "# Display mean squared error and R2 value for linear regression model.\n",
    "\n",
    "from sklearn.metrics import mean_squared_error\n",
    "\n",
    "predictions = model.predict(X_test)\n",
    "MSE = mean_squared_error(y_test, predictions)\n",
    "r2 = model.score(X_test, y_test)\n",
    "\n",
    "print(f\"MSE: {MSE}, R2: {r2}\")"
   ]
  },
  {
   "cell_type": "markdown",
   "metadata": {
    "slideshow": {
     "slide_type": "slide"
    }
   },
   "source": [
    "# Predictive Model Comparison with Actual Model"
   ]
  },
  {
   "cell_type": "code",
   "execution_count": null,
   "metadata": {
    "slideshow": {
     "slide_type": "skip"
    }
   },
   "outputs": [],
   "source": [
    "# Read in 2006 data only to test our model\n",
    "\n",
    "# df = pd.read_csv('test_data/2006_advanced.csv')\n",
    "# df.head(5)\n",
    "# cleandf = df[['EV', 'PP', 'SH']]\n",
    "# cleandf.head(5)"
   ]
  },
  {
   "cell_type": "code",
   "execution_count": null,
   "metadata": {
    "slideshow": {
     "slide_type": "skip"
    }
   },
   "outputs": [],
   "source": [
    "# # Loop through each row in the 2016 data and predict points for each\n",
    "# # Create a dataframe which includes the predicted points, actual points and\n",
    "# # the difference between predicted and actual point.\n",
    "\n",
    "# X = cleandf\n",
    "# y = df['PTS']\n",
    "\n",
    "# for index, row in X.iterrows():\n",
    "#     X_predict = sc.transform(X)\n",
    "#     y_predict = model.predict(X_predict)\n",
    "#     y_predict\n",
    "    \n",
    "# comparison = pd.DataFrame({'Predicted Scores':y_predict, 'Actual Scores':y})\n",
    "# # comparison.head(5)\n",
    "# comparison['Score Difference'] = y_predict - y\n"
   ]
  },
  {
   "cell_type": "code",
   "execution_count": null,
   "metadata": {
    "slideshow": {
     "slide_type": "skip"
    }
   },
   "outputs": [],
   "source": [
    "# # View .describe() data to create cutoffs for regplot\n",
    "\n",
    "# comparison['Score Difference'].describe()"
   ]
  },
  {
   "cell_type": "code",
   "execution_count": null,
   "metadata": {
    "slideshow": {
     "slide_type": "subslide"
    }
   },
   "outputs": [],
   "source": [
    "# # Plot the point differences on a regression scatter plot that shows linear regression line\n",
    "# # and 95% confidence interval for the regression line\n",
    "\n",
    "# x = np.linspace(-60, 30, 1029)\n",
    "# y = comparison['Score Difference']\n",
    "\n",
    "# sns.regplot(x,y)"
   ]
  },
  {
   "cell_type": "markdown",
   "metadata": {
    "slideshow": {
     "slide_type": "slide"
    }
   },
   "source": [
    "# Thank You to our cohort for all of your attention, family and friends for sitting through our presentation and most of all to our instructor, Dion, and our TA's for sharing your knowledge and providing help along the way!\n",
    "\n",
    "###### All hockey statistcs used in this analysis were downloaded from https://www.hockey-reference.com"
   ]
  }
 ],
 "metadata": {
  "celltoolbar": "Slideshow",
  "kernelspec": {
   "display_name": "Python 3",
   "language": "python",
   "name": "python3"
  },
  "language_info": {
   "codemirror_mode": {
    "name": "ipython",
    "version": 3
   },
   "file_extension": ".py",
   "mimetype": "text/x-python",
   "name": "python",
   "nbconvert_exporter": "python",
   "pygments_lexer": "ipython3",
   "version": "3.7.1"
  }
 },
 "nbformat": 4,
 "nbformat_minor": 2
}
